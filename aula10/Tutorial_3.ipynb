{
 "cells": [
  {
   "cell_type": "markdown",
   "id": "82601bf2-4b0c-437a-9502-49b498e46e9d",
   "metadata": {},
   "source": [
    "# Tutorial 3 : Cadeia J1-J2 AFM frustrada"
   ]
  },
  {
   "cell_type": "markdown",
   "id": "bd3af0d0-2bbe-42b8-93b0-83a8d8d09d67",
   "metadata": {},
   "source": [
    "Estrutura cristalina, ligação mais curta ao longo do eixo a, átomos magnéticos de Cu+ com spin S=1."
   ]
  },
  {
   "cell_type": "code",
   "execution_count": 50,
   "id": "011f842a-4fee-466e-9e0b-791fc6acdd86",
   "metadata": {
    "tags": []
   },
   "outputs": [
    {
     "name": "stdout",
     "output_type": "stream",
     "text": [
      "Warning: spgr parameter name is being deprecated, please use sym instead\n",
      "> In spinw/genlattice (line 127)\n",
      "Rede magnética:\n",
      "\n",
      "ans =\n",
      "\n",
      "  1x4 table\n",
      "\n",
      "     matom     idx    S        pos    \n",
      "    _______    ___    _    ___________\n",
      "\n",
      "    {'Cu1'}     1     1    0    0    0\n",
      "\n",
      "Creating 3D plot... \n",
      "Warning: Some functionality won't work, due to Java incompatibility\n",
      "> In swplot.figure (line 142)\n",
      "In swplot.activefigure (line 71)\n",
      "In spinw/plot (line 150)\n",
      "...3k faces and 2k vertices are drawn!\n",
      "\n"
     ]
    },
    {
     "data": {
      "image/png": "[encoded data removed]",
      "text/plain": [
       "<IPython.core.display.Image object>"
      ]
     },
     "metadata": {},
     "output_type": "display_data"
    }
   ],
   "source": [
    "% Define a rede para a cadeia J1-J2 AFM frustrada com os seguintes parâmetros:\n",
    "% - Constantes da rede: [3 8 10]\n",
    "% - Ângulos da rede: [90 90 90]\n",
    "% - Grupo espacial: 0 (sem simetria)\n",
    "J1J2chain = spinw; \n",
    "J1J2chain.genlattice('lat_const', [3 8 10], 'angled', [90 90 90], 'spgr', 0); \n",
    "\n",
    "% Adiciona um átomo com coordenadas (0, 0, 0) e spin S=1 à rede.\n",
    "J1J2chain.addatom('r', [0 0 0], 'S', 1, 'label', 'Cu1', 'color', 'blue'); \n",
    "\n",
    "% Exibe a tabela dos átomos na rede magnética.\n",
    "disp('Rede magnética:')\n",
    "J1J2chain.table('atom') \n",
    "\n",
    "% Plota a rede magnética com os limites de visualização especificados.\n",
    "plot(J1J2chain, 'range', [3 1 1], 'zoom', 0.5)\n"
   ]
  },
  {
   "cell_type": "markdown",
   "id": "268696a9-6d9b-40ff-a2d5-8bcb146858ee",
   "metadata": {},
   "source": [
    "### Acoplamentos"
   ]
  },
  {
   "cell_type": "markdown",
   "id": "1f3e7cf0-58bf-4297-984c-25bea9f259af",
   "metadata": {},
   "source": [
    "Acoplamentos antiferromagnéticos de primeiro e segundo vizinhos. Se o nome da matriz terminar com '-', a ligação será traçada com linha tracejada."
   ]
  },
  {
   "cell_type": "code",
   "execution_count": 53,
   "id": "50031c28-1e6b-4867-962b-3fda0aa90744",
   "metadata": {
    "tags": []
   },
   "outputs": [
    {
     "name": "stdout",
     "output_type": "stream",
     "text": [
      "Creating the bond list (maxDistance = 7 Å, nCell = 3x1x1)...\n",
      "...2 bonds are retained out of 36 generated!\n",
      "Ligações:\n",
      "\n",
      "ans =\n",
      "\n",
      "  2x10 table\n",
      "\n",
      "    idx    subidx        dl             dr         length    matom1     idx1    matom2     idx2                    matrix                \n",
      "    ___    ______    ___________    ___________    ______    _______    ____    _______    ____    ______________________________________\n",
      "\n",
      "     1       1       1    0    0    1    0    0      3       {'Cu1'}     1      {'Cu1'}     1      {0x0 char}    {0x0 char}    {0x0 char}\n",
      "     2       1       2    0    0    2    0    0      6       {'Cu1'}     1      {'Cu1'}     1      {0x0 char}    {0x0 char}    {0x0 char}\n",
      "\n",
      "Creating 3D plot... \n",
      "Warning: Some functionality won't work, due to Java incompatibility\n",
      "> In swplot.figure (line 142)\n",
      "In swplot.activefigure (line 71)\n",
      "In spinw/plot (line 150)\n",
      "...2k faces and 1k vertices are drawn!\n",
      "\n"
     ]
    },
    {
     "data": {
      "image/png": "[encoded data removed]",
      "text/plain": [
       "<IPython.core.display.Image object>"
      ]
     },
     "metadata": {},
     "output_type": "display_data"
    }
   ],
   "source": [
    "% Calcula os acoplamentos antiferromagnéticos de primeiro e segundo vizinhos\n",
    "% com uma distância máxima de 7 unidades de célula.\n",
    "J1J2chain.gencoupling('maxDistance', 7); \n",
    "\n",
    "% Exibe a tabela de ligações na rede magnética.\n",
    "disp('Ligações:')\n",
    "J1J2chain.table('bond', []) \n",
    "\n",
    "% Adiciona matrizes de acoplamento J1 e J2 à rede magnética.\n",
    "J1J2chain.addmatrix('label', 'J1', 'value', -1, 'color', 'red'); \n",
    "J1J2chain.addmatrix('label', 'J2-', 'value', 2, 'color', 'green'); \n",
    "\n",
    "% Associa as matrizes de acoplamento às ligações na rede magnética.\n",
    "J1J2chain.addcoupling('mat', 'J1', 'bond', 1); \n",
    "J1J2chain.addcoupling('mat', 'J2-', 'bond', 2); \n",
    "\n",
    "% Plota a rede magnética com os acoplamentos representados como linhas.\n",
    "plot(J1J2chain, 'range', [3 0.9 0.9], 'bondMode', 'line', 'bondLinewidth0', 3)\n"
   ]
  },
  {
   "cell_type": "markdown",
   "id": "cfd2c244-1a9b-4007-972a-e95ec54741a6",
   "metadata": {},
   "source": [
    "### A estrutura magnética é uma hélice"
   ]
  },
  {
   "cell_type": "markdown",
   "id": "3c1d95dd-45ef-4880-9fe6-1b7173c5b3f1",
   "metadata": {},
   "source": [
    "Pode-se usar dois métodos diferentes para definir a estrutura magnética do estado fundamental:"
   ]
  },
  {
   "cell_type": "markdown",
   "id": "91b93c65-5bbc-4404-95e5-4d52803de17e",
   "metadata": {},
   "source": [
    "#### Entrada direta"
   ]
  },
  {
   "cell_type": "markdown",
   "id": "3ce0482c-ae90-47a9-b543-aaca60c0492c",
   "metadata": {},
   "source": [
    "Se a solução exata do hamiltoniano de spin for conhecida, podería-se inseri-la, assumindo uma hélice com os seguintes parâmetros:\n",
    "\n",
    "- vetor de onda de ordenação magnética k = (1/4 0 0)\n",
    "- Spins S em um plano arbitrário, primeiro spin S = (1 0 0)\n",
    "- normal ao plano da hélice de spin tem que ser perpendicular a S, escolhe-se n = (0 0 1)\n",
    "não é necessário usar uma supercélula magnética"
   ]
  },
  {
   "cell_type": "code",
   "execution_count": 71,
   "id": "51798fd4-2ed9-4847-b12d-08a78665596a",
   "metadata": {
    "tags": []
   },
   "outputs": [
    {
     "name": "stdout",
     "output_type": "stream",
     "text": [
      "Estrutura magnética:\n",
      "\n",
      "ans =\n",
      "\n",
      "  1x8 table\n",
      "\n",
      "    num     matom     idx    S     realFhat       imagFhat          pos               kvect        \n",
      "    ___    _______    ___    _    ___________    ___________    ___________    ____________________\n",
      "\n",
      "     1     {'Cu1'}     1     1    1    0    0    0    1    0    0    0    0    0.25       0       0\n",
      "\n",
      "Energia do estado fundamental antes da otimização:\n",
      "Ground state energy: -2.000 meV/spin.\n",
      "Creating 3D plot... \n",
      "Warning: Some functionality won't work, due to Java incompatibility\n",
      "> In swplot.figure (line 142)\n",
      "In swplot.activefigure (line 71)\n",
      "In spinw/plot (line 150)\n",
      "...3k faces and 1k vertices are drawn!\n",
      "\n"
     ]
    },
    {
     "data": {
      "image/png": "[encoded data removed]",
      "text/plain": [
       "<IPython.core.display.Image object>"
      ]
     },
     "metadata": {},
     "output_type": "display_data"
    }
   ],
   "source": [
    "J1J2chain.genmagstr('mode', 'helical', 'k', [0.25 0 0], 'n', [0 0 1], 'S', [1; 0; 0], 'nExt', [1 1 1])\n",
    "\n",
    "% Exibe a tabela da estrutura magnética.\n",
    "disp('Estrutura magnética:')\n",
    "J1J2chain.table('mag') \n",
    "\n",
    "% Calcula a energia do estado fundamental antes da otimização.\n",
    "disp('Energia do estado fundamental antes da otimização:')\n",
    "J1J2chain.energy \n",
    "\n",
    "% Plota a rede magnética com a estrutura magnética definida.\n",
    "plot(J1J2chain, 'range', [3 0.9 0.9])"
   ]
  },
  {
   "cell_type": "markdown",
   "id": "cc228e49-9827-47ff-8343-7f101fd2da18",
   "metadata": {},
   "source": [
    "### Otimiza-se o ângulo de inclinação da hélice\n"
   ]
  },
  {
   "cell_type": "markdown",
   "id": "9815873f-117f-4ca1-b301-360e0d2fe176",
   "metadata": {},
   "source": [
    "Não se tem a certeza sobre o ângulo de inclinação correto da hélice, por isso pretende-se calculá-lo. O sw.optmagstr() é capaz de determinar o estado magnético fundamental. Ele usa uma função de restrição (@gm_planar neste caso) para reduzir o número de parâmetros que devem ser otimizados. Funciona bem se o número de parâmetros livres for baixo. resulta que o vetor k correto é 0,2301."
   ]
  },
  {
   "cell_type": "markdown",
   "id": "050203a1-c2ec-4509-aa81-623cf5ceeafa",
   "metadata": {},
   "source": []
  },
  {
   "cell_type": "code",
   "execution_count": 75,
   "id": "56a34aa0-8b04-4bf1-b5ca-6fea3164838b",
   "metadata": {
    "tags": []
   },
   "outputs": [
    {
     "name": "stdout",
     "output_type": "stream",
     "text": [
      "                                        \n",
      "\b 10.00%, remained: 000:00:00 (HH:MM:SS).\n",
      "\b 20.00%, remained: 000:00:00 (HH:MM:SS).\n",
      "\b 30.00%, remained: 000:00:00 (HH:MM:SS).\n",
      "\b 40.00%, remained: 000:00:00 (HH:MM:SS).\n",
      "\b 50.00%, remained: 000:00:00 (HH:MM:SS).\n",
      "\b 60.00%, remained: 000:00:00 (HH:MM:SS).\n",
      "\b 70.00%, remained: 000:00:00 (HH:MM:SS).\n",
      "\b 80.00%, remained: 000:00:00 (HH:MM:SS).\n",
      "\b 90.00%, remained: 000:00:00 (HH:MM:SS).\n",
      "\b100.00%, remained: 000:00:00 (HH:MM:SS).\n",
      "\bCalculation is finished in 00:00:00 (hh:mm:ss).\n",
      "Energia do estado fundamental após otimização:\n",
      "Ground state energy: -2.062 meV/spin.\n",
      "Estrutura magnética otimizada:\n",
      "\n",
      "ans =\n",
      "\n",
      "  1x8 table\n",
      "\n",
      "    num     matom     idx    S     realFhat       imagFhat          pos                    kvect            \n",
      "    ___    _______    ___    _    ___________    ___________    ___________    _____________________________\n",
      "\n",
      "     1     {'Cu1'}     1     1    1    0    0    0    1    0    0    0    0    0.23005          0          0\n",
      "\n",
      "Creating 3D plot... \n",
      "Warning: Some functionality won't work, due to Java incompatibility\n",
      "> In swplot.figure (line 142)\n",
      "In swplot.activefigure (line 71)\n",
      "In spinw/plot (line 150)\n",
      "...2k faces and 1k vertices are drawn!\n",
      "\n"
     ]
    },
    {
     "data": {
      "image/png": "[encoded data removed]",
      "text/plain": [
       "<IPython.core.display.Image object>"
      ]
     },
     "metadata": {},
     "output_type": "display_data"
    }
   ],
   "source": [
    "x1 = [0 0 0 0 0 0]; \n",
    "x2 = [0 0.5 0 0 0 0]; \n",
    "optRes = J1J2chain.optmagstr('func', @gm_planar, 'xmin', x1, 'xmax', x2, 'nRun', 10); \n",
    "\n",
    "% Calcula a energia do estado fundamental após a otimização.\n",
    "disp('Energia do estado fundamental após otimização:')\n",
    "J1J2chain.energy \n",
    "\n",
    "% Exibe a tabela da estrutura magnética otimizada.\n",
    "disp('Estrutura magnética otimizada:')\n",
    "J1J2chain.table('mag') \n",
    "\n",
    "% Plota a rede magnética com a estrutura magnética otimizada.\n",
    "plot(J1J2chain, 'range', [3 0.9 0.9], 'bondMode', 'line', 'bondLinewidth0', 3)"
   ]
  },
  {
   "cell_type": "markdown",
   "id": "1bec67a3-2494-4106-858f-017e066eaca6",
   "metadata": {},
   "source": [
    "### Espectro de onda de spin"
   ]
  },
  {
   "cell_type": "markdown",
   "id": "4a8cb003-cd1a-43b5-8e48-4f4a8e1aaabb",
   "metadata": {},
   "source": [
    "Calcula-se o espectro da onda de spin, o código usa automaticamente o método que permite o cálculo da onda de spin de estruturas incomensuráveis sem criar uma supercélula magnética. Existem três modos de onda de spin: ômega(Q), ômega(Q+/-k). Os dois deslocados se devem à estrutura incomensurável."
   ]
  },
  {
   "cell_type": "code",
   "execution_count": 79,
   "id": "3a747ee9-5284-488d-8e09-66d1a50602d8",
   "metadata": {
    "tags": []
   },
   "outputs": [
    {
     "name": "stdout",
     "output_type": "stream",
     "text": [
      "Calculating INCOMMENSURATE spin wave spectra (nMagExt = 1, nHkl = 1200, nTwin = 1)...\n",
      "No magnetic form factor is included in the calculated structure factor.\n",
      "No g-tensor is included in the calculated structure factor.\n",
      "                                        \n",
      "\b100.00%, remained: 000:00:00 (HH:MM:SS).\n",
      "\bCalculation is finished in 00:00:00 (hh:mm:ss).\n",
      "Calculation finished.\n",
      "\n"
     ]
    },
    {
     "data": {
      "image/png": "[encoded data removed]",
      "text/plain": [
       "<IPython.core.display.Image object>"
      ]
     },
     "metadata": {},
     "output_type": "display_data"
    }
   ],
   "source": [
    "% Calcula o espectro de ondas giratórias para a cadeia J1-J2 AFM frustrada, usando os seguintes vetores de onda:\n",
    "% {[0 0 0], [1 0 0]} e um número máximo de pontos de energia igual a 400. A opção 'hermit' indica que os cálculos\n",
    "% são realizados no espaço recíproco.\n",
    "J1J2spec = J1J2chain.spinwave({[0 0 0] [1 0 0] 400}, 'hermit', false);\n",
    "\n",
    "% Converte o espectro de ondas giratórias para unidades de seção de espalhamento de nêutrons.\n",
    "J1J2spec = sw_neutron(J1J2spec);\n",
    "\n",
    "% Gera uma grade de energia para o espectro de ondas giratórias.\n",
    "J1J2spec = sw_egrid(J1J2spec, 'Evect', linspace(0, 6.5, 100));\n",
    "\n",
    "% Cria uma nova figura.\n",
    "figure\n",
    "\n",
    "% Plota o espectro de ondas giratórias.\n",
    "sw_plotspec(J1J2spec, 'mode', 1, 'colorbar', false)\n",
    "\n",
    "% Define os limites dos eixos.\n",
    "axis([0 1 0 6])\n"
   ]
  }
 ],
 "metadata": {
  "kernelspec": {
   "display_name": "Matlab",
   "language": "matlab",
   "name": "matlab"
  },
  "language_info": {
   "codemirror_mode": "octave",
   "file_extension": ".m",
   "help_links": [
    {
     "text": "MetaKernel Magics",
     "url": "https://metakernel.readthedocs.io/en/latest/source/README.html"
    }
   ],
   "mimetype": "text/x-octave",
   "name": "matlab",
   "version": "0.17.1"
  }
 },
 "nbformat": 4,
 "nbformat_minor": 5
}
