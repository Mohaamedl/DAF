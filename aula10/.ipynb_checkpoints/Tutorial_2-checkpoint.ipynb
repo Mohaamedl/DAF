{
 "cells": [
  {
   "cell_type": "markdown",
   "id": "2005bea7-c421-4e35-8540-88386754cbd9",
   "metadata": {},
   "source": [
    "# Tutorial 2 :  Cadeia de spin antiferromagnética vizinha mais próxima"
   ]
  },
  {
   "cell_type": "markdown",
   "id": "1e0a2a43-8871-4bf6-9873-926704d027d2",
   "metadata": {},
   "source": [
    "### Define-se a cadeia"
   ]
  },
  {
   "cell_type": "code",
   "execution_count": 57,
   "id": "06d18b5a-ccc4-4578-a0ff-5f5f997606c5",
   "metadata": {
    "tags": []
   },
   "outputs": [
    {
     "name": "stdout",
     "output_type": "stream",
     "text": [
      "Warning: spgr parameter name is being deprecated, please use sym instead\n",
      "> In spinw/genlattice (line 127)\n",
      "Magnetic lattice:\n",
      "\n",
      "ans =\n",
      "\n",
      "  1x4 table\n",
      "\n",
      "     matom      idx    S        pos    \n",
      "    ________    ___    _    ___________\n",
      "\n",
      "    {'MCu1'}     1     1    0    0    0\n",
      "\n",
      "Creating 3D plot... \n",
      "Warning: Some functionality won't work, due to Java incompatibility\n",
      "> In swplot.figure (line 142)\n",
      "In swplot.activefigure (line 71)\n",
      "In spinw/plot (line 150)\n",
      "...3k faces and 2k vertices are drawn!\n",
      "\n"
     ]
    },
    {
     "data": {
      "image/png": "[encoded data removed]",
      "text/plain": [
       "<IPython.core.display.Image object>"
      ]
     },
     "metadata": {},
     "output_type": "display_data"
    }
   ],
   "source": [
    "% Cria uma nova instância da classe spinw\n",
    "AFMchain = spinw;\n",
    "\n",
    "% Define a estrutura da rede cristalina com os parâmetros especificados\n",
    "AFMchain.genlattice('lat_const',[3 8 8],'angled',[90 90 90],'spgr',0);\n",
    "\n",
    "% Adiciona um átomo de cobre magnético com spin S=1 na posição (0, 0, 0)\n",
    "AFMchain.addatom('r',[0 0 0],'S',1,'label','MCu1','color','blue');\n",
    "\n",
    "% Exibe a tabela da rede magnética\n",
    "disp('Magnetic lattice:')\n",
    "AFMchain.table('matom')\n",
    "\n",
    "% Plota a estrutura cristalina\n",
    "plot(AFMchain,'range',[3 1 1])\n"
   ]
  },
  {
   "cell_type": "markdown",
   "id": "5e370152-79bd-4933-a8b2-001a6ae1913a",
   "metadata": {},
   "source": [
    "Aqui inicializa um sistema de modelo de cadeia magnética antiferromagnética de átomos de cobre. Ele define a estrutura da rede cristalina, adiciona um átomo magnético de cobre à posição (0, 0, 0) e visualiza a estrutura cristalina resultante."
   ]
  },
  {
   "cell_type": "markdown",
   "id": "3610ce37-88a3-405e-9ac8-c6c1ed049a61",
   "metadata": {},
   "source": [
    "### Cria-se as interações antiferromagnéticas\n"
   ]
  },
  {
   "cell_type": "code",
   "execution_count": 61,
   "id": "fb24d07a-13cc-47e6-adda-d2505b11c9ac",
   "metadata": {
    "tags": []
   },
   "outputs": [
    {
     "name": "stdout",
     "output_type": "stream",
     "text": [
      "Creating the bond list (maxDistance = 7 Å, nCell = 3x1x1)...\n",
      "...2 bonds are retained out of 36 generated!\n",
      "\n",
      "ans =\n",
      "\n",
      "  2x10 table\n",
      "\n",
      "    idx    subidx        dl             dr         length     matom1     idx1     matom2     idx2                    matrix                \n",
      "    ___    ______    ___________    ___________    ______    ________    ____    ________    ____    ______________________________________\n",
      "\n",
      "     1       1       1    0    0    1    0    0      3       {'MCu1'}     1      {'MCu1'}     1      {0x0 char}    {0x0 char}    {0x0 char}\n",
      "     2       1       2    0    0    2    0    0      6       {'MCu1'}     1      {'MCu1'}     1      {0x0 char}    {0x0 char}    {0x0 char}\n",
      "\n",
      "After assigning a matrix to a bond:\n",
      "\n",
      "ans =\n",
      "\n",
      "  2x10 table\n",
      "\n",
      "    idx    subidx        dl             dr         length     matom1     idx1     matom2     idx2                    matrix                \n",
      "    ___    ______    ___________    ___________    ______    ________    ____    ________    ____    ______________________________________\n",
      "\n",
      "     1       1       1    0    0    1    0    0      3       {'MCu1'}     1      {'MCu1'}     1      {'»Ja'   }    {0x0 char}    {0x0 char}\n",
      "     2       1       2    0    0    2    0    0      6       {'MCu1'}     1      {'MCu1'}     1      {0x0 char}    {0x0 char}    {0x0 char}\n",
      "\n",
      "Creating 3D plot... \n",
      "Warning: Some functionality won't work, due to Java incompatibility\n",
      "> In swplot.figure (line 142)\n",
      "In swplot.activefigure (line 71)\n",
      "In spinw/plot (line 150)\n",
      "...2k faces and 1k vertices are drawn!\n",
      "\n"
     ]
    },
    {
     "data": {
      "image/png": "[encoded data removed]",
      "text/plain": [
       "<IPython.core.display.Image object>"
      ]
     },
     "metadata": {},
     "output_type": "display_data"
    }
   ],
   "source": [
    "% Gera as interações antiferromagnéticas entre os átomos, considerando vizinhos próximos dentro de 7 Å\n",
    "AFMchain.gencoupling('maxDistance',7);\n",
    "\n",
    "% Exibe a tabela das ligações\n",
    "AFMchain.table('bond',[1 2])\n",
    "\n",
    "% Adiciona uma matriz para representar a interação antiferromagnética\n",
    "AFMchain.addmatrix('label','Ja','value',1,'color','red');\n",
    "\n",
    "% Atribui a matriz de interação antiferromagnética aos pares de átomos na rede\n",
    "AFMchain.addcoupling('mat','Ja','bond',1);\n",
    "\n",
    "% Exibe a tabela das ligações\n",
    "disp('After assigning a matrix to a bond:')\n",
    "AFMchain.table('bond',[1 2])\n",
    "\n",
    "% Plota a estrutura cristalina com as interações antiferromagnéticas\n",
    "plot(AFMchain,'range',[3 0.9 0.9])\n"
   ]
  },
  {
   "cell_type": "markdown",
   "id": "e5036ab2-0ca2-48a9-b91e-ee22bf3b581a",
   "metadata": {},
   "source": [
    "Aqui são geradas e atribuídas as interações antiferromagnéticas entre os átomos na rede. Em seguida, as ligações e as interações são exibidas em uma tabela, e a matriz de interação é representada graficamente na estrutura cristalina. De notar que Ja = 1 meV, sinal positivo denota interação antiferromagnética.\n"
   ]
  },
  {
   "cell_type": "markdown",
   "id": "d7b4ec7f-5be8-4660-be96-08b804047cd3",
   "metadata": {},
   "source": [
    "### Há duas maneiras de definir a estrutura magnética\n"
   ]
  },
  {
   "cell_type": "markdown",
   "id": "0962250d-80e6-4c46-b39d-6c06974edbae",
   "metadata": {},
   "source": [
    "#### 1ª : Definir todos dos spins\n"
   ]
  },
  {
   "cell_type": "code",
   "execution_count": 66,
   "id": "982c3e59-7775-4408-b5b1-c071df29f616",
   "metadata": {},
   "outputs": [
    {
     "name": "stdout",
     "output_type": "stream",
     "text": [
      "Warning: Input(s) n will be ignored in direct mode\n",
      "> In spinw/genmagstr (line 280)\n",
      "\n"
     ]
    }
   ],
   "source": [
    "AFMchain.genmagstr('mode','direct','k',[1/2 0 0],'n',[1 0 0],'S',[0 0; 1 -1;0 0],'nExt',[2 1 1]);"
   ]
  },
  {
   "cell_type": "markdown",
   "id": "74c6533c-5c93-4773-bf20-d5fcb263b234",
   "metadata": {},
   "source": [
    "Define-se uma supercélula magnética 2x1x1 do reticulado cristalino e especifica-se ambdas as direções do spin na supercélula com os parâmetros:\n",
    "- Vetor de onda de ordenação magnética: k = (1/2 0 0)\n",
    "- Direção dos spins: pontos ao longo das direções y positiva e negativa -> S = [[0 1 0]' [0 -1 0]']\n",
    "- Normal aos vetores de spin: n = (1 0 0)\n",
    "\n",
    "Na função genmagstr:\n",
    "###### S: matriz que especifica a direção do spin em cada célula\n",
    "###### nExt: vetor que especifica a supercélula em cada direção\n",
    "\n"
   ]
  },
  {
   "cell_type": "markdown",
   "id": "1f835137-8eaf-47c1-a301-f4d2dd2ad95f",
   "metadata": {},
   "source": [
    "#### 2ª: Define-se apenas um spin\n"
   ]
  },
  {
   "cell_type": "code",
   "execution_count": 70,
   "id": "bc679685-d51b-470a-a910-6d6491c57bd8",
   "metadata": {
    "tags": []
   },
   "outputs": [
    {
     "name": "stdout",
     "output_type": "stream",
     "text": [
      "Magnetic structure:\n",
      "\n",
      "ans =\n",
      "\n",
      "  2x8 table\n",
      "\n",
      "    num     matom      idx    S      realFhat         imagFhat           pos              kvect      \n",
      "    ___    ________    ___    _    _____________    _____________    ___________    _________________\n",
      "\n",
      "     1     {'MCu1'}     1     1    0     1     0    0     0     1    0    0    0    0.5      0      0\n",
      "     2     {'MCu1'}     1     1    0    -1     0    0     0    -1    1    0    0    0.5      0      0\n",
      "\n",
      "Ground state energy: -1.000 meV/spin.\n",
      "Creating 3D plot... \n",
      "Warning: Some functionality won't work, due to Java incompatibility\n",
      "> In swplot.figure (line 142)\n",
      "In swplot.activefigure (line 71)\n",
      "In spinw/plot (line 150)\n",
      "...2k faces and 1k vertices are drawn!\n",
      "\n"
     ]
    },
    {
     "data": {
      "image/png": "[encoded data removed]",
      "text/plain": [
       "<IPython.core.display.Image object>"
      ]
     },
     "metadata": {},
     "output_type": "display_data"
    }
   ],
   "source": [
    "AFMchain.genmagstr('mode','helical','k',[1/2 0 0],'n',[1 0 0],'S',[0; 1; 0],'nExt',[2 1 1]);\n",
    "% Exibe a estrutura magnética gerada\n",
    "\n",
    "disp('Magnetic structure:')\n",
    "AFMchain.table('mag')\n",
    "% Calcula e exibe a energia do estado fundamental\n",
    "\n",
    "AFMchain.energy\n",
    "\n",
    "% Plota a estrutura magnética\n",
    "plot(AFMchain,'range',[3 0.9 0.9],'cellMode','none','baseMode','none')"
   ]
  },
  {
   "cell_type": "markdown",
   "id": "a58450d2-b9ce-4ccb-879a-982b256aaaa7",
   "metadata": {},
   "source": [
    "Define-se a direção do spin em uma célula do reticulado cristalino e deixa-se que a função genmagstr() gere o outro spin baseado no vetor de onda de ordenação magnética e nos vetores normais.\n",
    "Parâmetros:\n",
    "- Direção do spin: definido na célula unitária\n",
    "- k: vetor de onda de ordenação magnética\n",
    "- n: vetor normal\n",
    "\n",
    "Este método é útil para criar estruturas complexas. Ambos os métodos fornecem a mesma estrutura magnética, todos os valores armazenados no campo afchain.mag_str são iguais.\n"
   ]
  },
  {
   "cell_type": "markdown",
   "id": "c03e1c8c-b678-47fa-9e8f-c03dc565a133",
   "metadata": {},
   "source": [
    "### Espectro de ondas de spin"
   ]
  },
  {
   "cell_type": "markdown",
   "id": "0b141564-b8e5-4b85-878f-ac40b31c492d",
   "metadata": {},
   "source": [
    "Calcula-se o espectro de ondas de spin e as secções transversais de espalhamento de neutrões ao longo da direção da cadeia. A secção transversal de espalhamento de neutrões é plotada juntamente com a dispersão (linha preta)"
   ]
  },
  {
   "cell_type": "code",
   "execution_count": 75,
   "id": "ee35f928-9e2c-4292-bec5-77af11bd0e84",
   "metadata": {
    "tags": []
   },
   "outputs": [
    {
     "name": "stdout",
     "output_type": "stream",
     "text": [
      "Calculating COMMENSURATE spin wave spectra (nMagExt = 2, nHkl = 523, nTwin = 1)...\n",
      "No magnetic form factor is included in the calculated structure factor.\n",
      "No g-tensor is included in the calculated structure factor.\n",
      "                                        \n",
      "\b100.00%, remained: 000:00:00 (HH:MM:SS).\n",
      "\bCalculation is finished in 00:00:00 (hh:mm:ss).\n",
      "Calculation finished.\n",
      "\n"
     ]
    },
    {
     "data": {
      "image/png": "[encoded data removed]",
      "text/plain": [
       "<IPython.core.display.Image object>"
      ]
     },
     "metadata": {},
     "output_type": "display_data"
    }
   ],
   "source": [
    "% Esta linha calcula o espectro de ondas de spin para o sistema modelado. Os parâmetros passados\n",
    "% para a função spinwave() incluem as direções dos vetores de onda das ondas de spin \n",
    "% (um ponto em [0 0 0] e outro em [1 0 0]) e o número de pontos para a discretização (523).\n",
    "afcSpec = AFMchain.spinwave({[0 0 0] [1 0 0] 523}, 'hermit',true);\n",
    "figure\n",
    "subplot(2,1,1)\n",
    "% plota o espectro de ondas de spin no subplot selecionado. \n",
    "% Os parâmetros passados incluem o modo de plotagem ('mode'), \n",
    "% a resolução de energia ('dE'), e os limites do eixo x ('axLim').\n",
    "sw_plotspec(afcSpec,'mode',4,'dE',0.2,'axLim',[0 3])\n",
    "\n",
    "% Para calcular a intensidade, precisamos somar a intensidade dos dois modos de onda de spin \n",
    "% degenerados usando a função sw_omegasum(). Em seguida, plotamos o logaritmo da intensidade.\n",
    "\n",
    "\n",
    "% Calcula a contribuição dos spins para o espectro de dispersão.\n",
    "afcSpec = sw_neutron(afcSpec);\n",
    "% Calcula a grade de energia para a seção transversal da dispersão.\n",
    "afcSpec = sw_egrid(afcSpec,'Evect',linspace(0,6.5,500),'component','Sperp');\n",
    "% Soma as contribuições dos dois modos degenerados de ondas de spin.\n",
    "afcSpec = sw_omegasum(afcSpec,'zeroint',1e-6);\n",
    "subplot(2,1,2)\n",
    "% Plota o espectro de ondas de spin no segundo subplot, em escala logarítmica.\n",
    "sw_plotspec(afcSpec,'mode',2,'log',true,'axLim',[-4 10])\n",
    "\n",
    "% Posiciona a figura na tela de forma semelhante à posição dos eixos usando a função subplot().\n",
    "swplot.subfigure(1,3,1)"
   ]
  }
 ],
 "metadata": {
  "kernelspec": {
   "display_name": "Matlab",
   "language": "matlab",
   "name": "matlab"
  },
  "language_info": {
   "codemirror_mode": "octave",
   "file_extension": ".m",
   "help_links": [
    {
     "text": "MetaKernel Magics",
     "url": "https://metakernel.readthedocs.io/en/latest/source/README.html"
    }
   ],
   "mimetype": "text/x-octave",
   "name": "matlab",
   "version": "0.17.1"
  }
 },
 "nbformat": 4,
 "nbformat_minor": 5
}
