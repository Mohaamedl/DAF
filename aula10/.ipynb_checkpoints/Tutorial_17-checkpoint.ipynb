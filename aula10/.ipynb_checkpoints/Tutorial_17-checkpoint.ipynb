{
 "cells": [
  {
   "cell_type": "markdown",
   "id": "19d58f9c-86b9-4519-865c-d31d60215346",
   "metadata": {},
   "source": [
    "# Tutorial 17: Dispersão simbólica da onda de spin da cadeia FM"
   ]
  },
  {
   "cell_type": "markdown",
   "id": "59074cff-5d98-4c6a-b143-26d5ac776982",
   "metadata": {},
   "source": [
    "### Define-se a rede"
   ]
  },
  {
   "cell_type": "code",
   "execution_count": 87,
   "id": "18b99b4f-a18e-41d4-9682-47aad689f6e7",
   "metadata": {
    "tags": []
   },
   "outputs": [
    {
     "name": "stdout",
     "output_type": "stream",
     "text": [
      "Warning: The magnetic form factor for A1 is undefined, constant 1 will be used instead!\n",
      "> In sw_mff (line 118)\n",
      "In spinw/addatom (line 303)\n",
      "Warning: The x-ray scattering form factor for A1+ is undefined, constant 1 will be used instead! If you don't want to see this message add a line to xrayion.dat (use the 'edit xrayion.dat' command) for the corresponding ion!\n",
      "> In sw_cff (line 100)\n",
      "In spinw/addatom (line 341)\n",
      "Warning: The neutron scattering length for A1 is undefined, constant 1 will be used instead!\n",
      "> In sw_nb (line 83)\n",
      "In spinw/addatom (line 364)\n",
      "Valor de spin simbólico:\n",
      "Creating the bond list (maxDistance = 8 Å, nCell = 3x3x3)...\n",
      "...20 bonds are retained out of 196 generated!\n",
      "\n"
     ]
    }
   ],
   "source": [
    "% Ativa o modo simbólico no objeto FMchain.\n",
    "FMchain = spinw;\n",
    "FMchain.symbolic(true);\n",
    "\n",
    "\n",
    "% Define a rede para a cadeia de spins ferromagnéticos.\n",
    "FMchain.genlattice('lat_const',[3 4 4]);\n",
    "FMchain.addatom('label','A1','r',[0 0 0],'S',1);\n",
    "disp('Valor de spin simbólico:');\n",
    "FMchain.unit_cell.S;\n",
    "FMchain.gencoupling"
   ]
  },
  {
   "cell_type": "markdown",
   "id": "d3ea0834-0ea0-484d-902e-566dafe49667",
   "metadata": {},
   "source": [
    "Primeiro é ativado o modo simbólico no objeto FMchain, que será usado para representar a cadeia ferromagnética.\n",
    "\n",
    "Depois, é definida a rede cristalina para a cadeia de spins ferromagnéticos. A função genlattice define os parâmetros da rede, e addatom adiciona um átomo à rede com a posição e o spin especificados. O comando disp exibe o valor simbólico do vetor de spin."
   ]
  },
  {
   "cell_type": "markdown",
   "id": "45ceeae9-f2ce-4a7c-9c0c-b1e2a054f873",
   "metadata": {},
   "source": [
    "### Hamiltoniano Magnético"
   ]
  },
  {
   "cell_type": "markdown",
   "id": "a39e684d-b648-4c74-90fa-e671979d5b0c",
   "metadata": {},
   "source": [
    "Quando definimos o hamiltoniano magnético, a matriz sw.matrix.mat conterá valores simbólicos. Os valores serão a variável simbólica criada a partir da opção ‘label’ e da matriz ‘value’. Se a entrada para a opção 'value' for simbólica, ela será atribuída diretamente ao campo sw.matrix.mat. Para as funções sw.addcoupling(), sw.addaniso(), sw.addg(), o valor do 'label' da matriz deve ser usado em vez dos valores simbólicos armazenados. Simplifica o cálculo se forem dados pressupostos apropriados para as variáveis simbólicas. No nosso caso, assumimos que J é positivo e usamos -J para o acoplamento.\n"
   ]
  },
  {
   "cell_type": "code",
   "execution_count": 92,
   "id": "f0608c58-f581-4baa-8333-5bfd8ab14332",
   "metadata": {},
   "outputs": [
    {
     "name": "stdout",
     "output_type": "stream",
     "text": [
      "Valor da matriz simbólica da entrada de tipo duplo:\n",
      "Valor da matriz simbólica da entrada simbólica:\n",
      "Creating 3D plot... \n",
      "Warning: Some functionality won't work, due to Java incompatibility\n",
      "> In swplot.figure (line 142)\n",
      "In swplot.activefigure (line 71)\n",
      "In spinw/plot (line 150)\n",
      "...2k faces and 1k vertices are drawn!\n",
      "\n"
     ]
    },
    {
     "data": {
      "image/png": "[encoded data removed]",
      "text/plain": [
       "<IPython.core.display.Image object>"
      ]
     },
     "metadata": {},
     "output_type": "display_data"
    }
   ],
   "source": [
    "% Adiciona os acoplamentos magnéticos.\n",
    "FMchain.addmatrix('label','J1','value',1/2); % Adiciona uma matriz de acoplamento com rótulo 'J1' e valor numérico 1/2.\n",
    "\n",
    "\n",
    "disp('Valor da matriz simbólica da entrada de tipo duplo:'); \n",
    "\n",
    "% Exibe a matriz simbólica adicionada.\n",
    "FMchain.matrix.mat; \n",
    "\n",
    "% Define um acoplamento magnético simbólico com a matriz J1 e valor -J.\n",
    "FMchain.addmatrix('label','J1','value',-sym('J','positive')); \n",
    "\n",
    "disp('Valor da matriz simbólica da entrada simbólica:'); \n",
    "\n",
    "% Exibe a matriz simbólica adicionada.\n",
    "FMchain.matrix.mat; \n",
    "\n",
    "% Adiciona o acoplamento à rede, ligando-o à matriz J1 e à ligação 1.\n",
    "FMchain.addcoupling('mat','J1','bond',1); \n",
    "\n",
    "% Plota a rede magnética com o novo acoplamento adicionado.\n",
    "plot(FMchain,'range',[3 0.5 0.5]); \n"
   ]
  },
  {
   "cell_type": "markdown",
   "id": "f44affb7-f65a-4689-85fa-6863c6989097",
   "metadata": {},
   "source": [
    "### Estrutura magnética"
   ]
  },
  {
   "cell_type": "markdown",
   "id": "09204c9c-a492-487c-9b6b-268078ed2066",
   "metadata": {},
   "source": [
    "Podemos definir a estrutura magnética como de costume. Os componentes de spin simbólicos normalizados serão criados. Além da estrutura magnética também pode ser criada usando variáveis de entrada simbólicas, por exemplo, vetor k incomensurável, etc.\n",
    "\n"
   ]
  },
  {
   "cell_type": "code",
   "execution_count": 96,
   "id": "8f843ac3-b6be-474a-9fc8-9f0946f81a85",
   "metadata": {
    "tags": []
   },
   "outputs": [
    {
     "name": "stdout",
     "output_type": "stream",
     "text": [
      "Creating 3D plot... \n",
      "Warning: Some functionality won't work, due to Java incompatibility\n",
      "> In swplot.figure (line 142)\n",
      "In swplot.activefigure (line 71)\n",
      "In spinw/plot (line 150)\n",
      "Warning: A symbolic magnetic structure can not be plotted.\n",
      "> In swplot.plotmag (line 212)\n",
      "In spinw/plot (line 295)\n",
      "...2k faces and 1k vertices are drawn!\n",
      "\n"
     ]
    },
    {
     "data": {
      "image/png": "[encoded data removed]",
      "text/plain": [
       "<IPython.core.display.Image object>"
      ]
     },
     "metadata": {},
     "output_type": "display_data"
    }
   ],
   "source": [
    "% Define a estrutura magnética da cadeia FM.\n",
    "FMchain.genmagstr('mode','helical','S',[0; 1; 0]);\n",
    "FMchain.magtable.M;\n",
    "% Plota a estutura\n",
    "plot(FMchain,'range',[3 0.5 0.5],'zoom',1)"
   ]
  },
  {
   "cell_type": "markdown",
   "id": "bf0bf628-97c0-46d3-b869-4f71540dc84b",
   "metadata": {},
   "source": [
    "### Energia do estado fundamental"
   ]
  },
  {
   "cell_type": "markdown",
   "id": "f56645a1-f55e-486a-88db-6055a2d46b3c",
   "metadata": {},
   "source": [
    "A energia do estado fundamental também pode ser calculada para o modo simbólico."
   ]
  },
  {
   "cell_type": "code",
   "execution_count": 100,
   "id": "228ab08f-65ad-4e9d-ac57-66cc57e0e7bd",
   "metadata": {
    "tags": []
   },
   "outputs": [
    {
     "name": "stdout",
     "output_type": "stream",
     "text": [
      "Energia do estado fundamental meV/spin:\n",
      "Ground state energy (1/spin):\n",
      "           2\n",
      "E == -J S_1\n",
      "\n",
      "\n"
     ]
    }
   ],
   "source": [
    "% Calcula e exibe a energia do estado fundamental.\n",
    "disp('Energia do estado fundamental meV/spin:');\n",
    "FMchain.energy;\n"
   ]
  },
  {
   "cell_type": "markdown",
   "id": "bfc91773-6ce8-48e8-bc92-f94f80e2d43f",
   "metadata": {},
   "source": [
    "### Dispersão de ondas de spin\n"
   ]
  },
  {
   "cell_type": "markdown",
   "id": "32c61e22-5336-43a4-8e11-674961abdabd",
   "metadata": {},
   "source": [
    "Para o modo simbólico, apenas a dispersão da onda de spin pode ser calculada chamando a função sw.spinwave. Produz a dispersão geral sem qualquer entrada adicional. Notamos que o resultado final não está em um formato bonito, mas esta é a limitação da função simplify() do mecanismo simbólico."
   ]
  },
  {
   "cell_type": "code",
   "execution_count": 104,
   "id": "4c5dea4d-05e0-465f-af01-7cddb07ece26",
   "metadata": {
    "tags": []
   },
   "outputs": [
    {
     "name": "stdout",
     "output_type": "stream",
     "text": [
      "Warning: No hkl value was given, spin wave spectrum for general Q (h,k,l) will be calculated!\n",
      "> In spinw/spinwave (line 294)\n",
      "Calculating SYMBOLIC COMMENSURATE spin wave spectra (nMagExt = 1)...\n",
      "Calculating SYMBOLIC eigenvalues... ready!\n",
      "/                                        2 \\\n",
      "|  J S_1 exp(-pi h 2i) (exp(pi h 2i) - 1)  |\n",
      "|                                          |\n",
      "|                                        2 |\n",
      "\\ -J S_1 exp(-pi h 2i) (exp(pi h 2i) - 1)  /\n",
      "\n",
      "\n"
     ]
    }
   ],
   "source": [
    "% Calcula a dispersão da onda de spin.\n",
    "FMspec = FMchain.spinwave();\n",
    "pretty(FMspec.omega);"
   ]
  },
  {
   "cell_type": "markdown",
   "id": "2d508be8-4fdc-442a-8fc8-5cfc2721c616",
   "metadata": {
    "tags": []
   },
   "source": [
    "### Plota o espectro de onda de spin"
   ]
  },
  {
   "cell_type": "code",
   "execution_count": 107,
   "id": "b18c0cae-1849-4978-a2a0-a2564c63679f",
   "metadata": {
    "tags": []
   },
   "outputs": [
    {
     "name": "stdout",
     "output_type": "stream",
     "text": [
      "\n"
     ]
    },
    {
     "data": {
      "image/png": "[encoded data removed]",
      "text/plain": [
       "<IPython.core.display.Image object>"
      ]
     },
     "metadata": {},
     "output_type": "display_data"
    }
   ],
   "source": [
    "% Calcula e plota a dispersão da onda de spin ao longo da direção (H,0,0).\n",
    "h = linspace(0,1,501); \n",
    "J = 1; % Define o valor do acoplamento magnético J como 1.\n",
    "S_1 = 1; % Define o valor do momento magnético S_1 como 1.\n",
    "\n",
    "% Calcula as energias reais da dispersão da onda de spin ao longo da direção (H,0,0).\n",
    "w = real(eval(FMspec.omega(2))); % Avalia a expressão simbólica FMspec.omega(2) para obter as energias reais.\n",
    "\n",
    "% Cria uma nova figura e plota a dispersão da onda de spin em função da direção H.\n",
    "figure;\n",
    "plot(h,w);\n",
    "\n",
    "% Adiciona rótulo ao eixo x indicando a direção (H,0,0) em unidades recíprocas de comprimento.\n",
    "xlabel('(H,0,0) in rlu');\n",
    "\n",
    "% Adiciona rótulo ao eixo y indicando a energia em milielectronvolts.\n",
    "ylabel('Energy (meV)');\n",
    "\n",
    "% Adiciona título ao gráfico indicando a dispersão da onda de spin da cadeia ferromagnética com os valores de J e S especificados. O tamanho da fonte do título é definido como 15.\n",
    "title('Dispersão da onda de spin da cadeia FM, J = -1, S = 1', 'FontSize', 15);\n"
   ]
  }
 ],
 "metadata": {
  "kernelspec": {
   "display_name": "Matlab",
   "language": "matlab",
   "name": "matlab"
  },
  "language_info": {
   "codemirror_mode": "octave",
   "file_extension": ".m",
   "help_links": [
    {
     "text": "MetaKernel Magics",
     "url": "https://metakernel.readthedocs.io/en/latest/source/README.html"
    }
   ],
   "mimetype": "text/x-octave",
   "name": "matlab",
   "version": "0.17.1"
  }
 },
 "nbformat": 4,
 "nbformat_minor": 5
}
