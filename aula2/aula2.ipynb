{
 "cells": [
  {
   "cell_type": "markdown",
   "id": "90e6ea29",
   "metadata": {
    "slideshow": {
     "slide_type": "slide"
    }
   },
   "source": [
    "# 2ª aula"
   ]
  },
  {
   "cell_type": "markdown",
   "id": "1ceaf6c4",
   "metadata": {},
   "source": [
    "## Computação Quântica"
   ]
  },
  {
   "cell_type": "markdown",
   "id": "dcbcffb7",
   "metadata": {},
   "source": [
    "<img src=\"aula2.jpg\" alt=\"drawing\" width=\"1000\"/>"
   ]
  },
  {
   "cell_type": "markdown",
   "id": "8da5fd58",
   "metadata": {},
   "source": [
    "[https://www.youtube.com/watch?v=-UlxHPIEVqA](https://www.youtube.com/watch?v=-UlxHPIEVqA)"
   ]
  },
  {
   "cell_type": "markdown",
   "id": "56cb4271",
   "metadata": {
    "slideshow": {
     "slide_type": "slide"
    }
   },
   "source": [
    "## Bibliography\n",
    "\n",
    "- *Introduction to Computational Quantum Mechanics*, Roman Schmied. \n",
    "  [http://arxiv.org/abs/1403.7050](http://arxiv.org/abs/1403.7050)\n",
    "- Benenti G., Casati G., Strini G. Principles of Quantum Computation and Information Vol. 1.. Basic Concepts (WS, 2004)(ISBN 9812388583)(267s)\n",
    "- Quantum Computation and Quantum Information, Michael A. Nielsen & Isaac L. Chuang, University Press, Cambridge\n",
    "- A Practical Introduction to Quantum Computing: From Qubits to Quantum Machine Learning and Beyond, Elías F. Combarro\n",
    "- wikipedia\n",
    "- [https://qiskit.org/learn](https://qiskit.org/learn)"
   ]
  },
  {
   "cell_type": "markdown",
   "id": "bfcf499b",
   "metadata": {},
   "source": [
    "__Load Latex Macros__    $\\newcommand{\\op}[1]{\\hat{#1}}$  $\\newcommand{\\vect}[1]{{\\boldsymbol{\\vec{#1}}}} $  $\\newcommand{\\opvect}[1]{{\\boldsymbol{\\hat{\\vec{#1}}}}} $  $\\newcommand{\\dotvect}[1]{{\\boldsymbol{\\dot{\\vec{#1}}}}}$  $\\newcommand{\\matr}[1]{{\\boldsymbol{#1}}}$  $\\newcommand{\\bra}[1]{{\\langle#1\\rvert}}$  $\\newcommand{\\ket}[1]{{\\lvert#1\\rangle}}$  $\\newcommand{\\scp}[2]{{{\\langle{#1}{\\mid}{#2}\\rangle}}}$  $\\newcommand{\\CG}[6]{\\scp{#1,#2,#3,#4}{#1,#3,#5,#6}}$  $\\newcommand{\\me}[3]{{{\\langle#1\\lvert#2\\rvert#3\\rangle}}}$  $\\newcommand{\\avg}[1]{{{\\langle#1\\rangle}}}$  $\\newcommand{\\abs}[1]{{\\lvert#1\\rvert}}$  $\\newcommand{\\norm}[1]{{\\lVert#1\\rVert}}$  $\\newcommand{\\Ham}{\\op{\\mathcal{H}}}$  $\\newcommand{\\ii}{{\\text{i}}}$  $\\newcommand{\\dagg}{{^{\\dagger}}}$  $\\newcommand{\\ddd}[2]{{#1\\kern-0.5pt#2}}  $             $\\newcommand{\\dd}[1][]{\\ifthenelse{\\isempty{#1}}{{\\text{d}}}{\\ddd{\\text{d}}{#1}}}$  $\\newcommand{\\one}{{{1}}}$   $\\newcommand{\\dsC}{{\\mathds{C}}}$  $\\newcommand{\\dsN}{{\\mathds{N}}}$  $\\newcommand{\\dsQ}{{\\mathds{Q}}}$  $\\newcommand{\\dsR}{{\\mathds{R}}}$  $\\newcommand{\\dsZ}{{\\mathds{Z}}}$  $\\newcommand{\\ix}[1]{{_{\\text{#1}}}}$  $\\newcommand{\\ex}[1]{{^{\\text{#1}}}}$  $\\newcommand{\\ie}{\\emph{i.e.}}$  $\\newcommand{\\eg}{\\emph{e.g.}}$  $\\newcommand{\\etal}{\\emph{et al.}}$\n",
    "$\\newcommand{\\myurl}[1]{{\\scriptsize{\\url{#1}}}}$  $\\newcommand{\\Eunit}{\\mathcal{E}}      $   $\\newcommand{\\tunit}{\\mathcal{T}}     $    $\\newcommand{\\lunit}{\\mathcal{L}}     $    $\\newcommand{\\punit}{\\mathcal{P}}     $    $\\newcommand{\\munit}{\\mathcal{M}}     $   "
   ]
  },
  {
   "cell_type": "markdown",
   "id": "135938c2",
   "metadata": {
    "slideshow": {
     "slide_type": "slide"
    }
   },
   "source": [
    "# Quantum Circuits\n",
    "\n",
    "In its simplest form, a quantum circuit contains a set of $N$ spin-1/2 quantum objects called qubits, on which a sequence of operations called quantum gates is executed.\n",
    "\n",
    "![1qjtuxcg0k5kk](img/1qjtuxcg0k5kk.png)\n",
    "\n",
    "A quantum computation can be described as a network of quantum logic gates and measurements. However, any measurement can be deferred to the end of quantum computation, though this deferment may come at a computational cost, so most quantum circuit s depict a network consisting only of quantum logic gates and no measurements.\n",
    "\n",
    "Any quantum computation (which is, in the above formalism, any unitary matrix over n qubits) can be represented as a network of quantum logic gates from a fairly small family of gates. A choice of gate family that enables this construction is known as a __Universal quantum gates__ set, since a computer that can run such circuits is a universal quantum computer. One common such set includes all single-qubit gates as well as the CNOT gate from above. This means any quantum computation can be performed by executing a sequence of single-qubit gates together with CNOT gates. Though this gate set is infinite, it can be replaced with a finite gate set by appealing to the Solovay–Kitaev theorem.\n"
   ]
  },
  {
   "cell_type": "markdown",
   "id": "98725f84",
   "metadata": {
    "slideshow": {
     "slide_type": "slide"
    }
   },
   "source": [
    "# Quantum Gates and Quantum Computing\n",
    "\n",
    "definitions of quantum gates"
   ]
  },
  {
   "cell_type": "markdown",
   "id": "1f9ccd6a",
   "metadata": {
    "slideshow": {
     "slide_type": "slide"
    }
   },
   "source": [
    "## single-qubit\n",
    "\n",
    "Quantum states are typically represented by \"kets\", from the notation known as Bra–ket notation.\n",
    "\n",
    "The vector representation of a single qubit is:\n",
    "$|a\\rangle = v_0 | 0 \\rangle + v_1 | 1 \\rangle  \\rightarrow \\begin{bmatrix} v_0 \\\\ v_1 \\end{bmatrix} ,$\n",
    "\n",
    "Here, $v_0$ and $v_1$ are the complex probability amplitudes of the qubit. These values determine the probability of measuring a 0 or a 1, when measuring the state of the qubit.\n",
    "\n",
    "The value zero is represented by the ket $|0\\rangle = \\begin{bmatrix} 1 \\\\ 0 \\end{bmatrix}$, and the value one is represented by the ket $|1\\rangle = \\begin{bmatrix} 0 \\\\ 1\\end{bmatrix}$.\n",
    "\n"
   ]
  },
  {
   "cell_type": "markdown",
   "id": "1ee3ee3c",
   "metadata": {
    "slideshow": {
     "slide_type": "slide"
    }
   },
   "source": [
    "## n - qubits\n",
    "\n",
    "The tensor product (or Kronecker product) is used to combine quantum states. The combined state of two qubits is the tensor product of the two qubits. The tensor product is denoted by the symbol $\\otimes$.\n",
    "\n",
    "The vector representation of two qubits is:\n",
    "$$| a b \\rangle = | a \\rangle \\otimes | b \\rangle = v_{00} | 00 \\rangle + v_{01} | 0 1 \\rangle  + v_{10} | 1 0 \\rangle + v_{11} | 1 1 \\rangle \\rightarrow \\begin{bmatrix} v_{00} \\\\ v_{01} \\\\ v_{10} \\\\ v_{11} \\end{bmatrix}$$\n",
    "\n"
   ]
  },
  {
   "cell_type": "markdown",
   "id": "d7f640d1",
   "metadata": {
    "slideshow": {
     "slide_type": "slide"
    }
   },
   "source": [
    "## Unitary matrices\n",
    "\n",
    "* Unitary matrix = Complex matrix whose conjugate transpose equals its inverse.\n",
    "\n",
    "In quantum physics, unitarity is the condition that the time evolution of a quantum state according to the Schrödinger equation is mathematically represented by a unitary operator. \n",
    "\n",
    "In  linear algebra , a  square matrix  $U$ is unitary if its  conjugate transpose  $U^\\dagger$ is also its inverse, that is, if\n",
    "\n",
    "$$U^\\dagger U = UU^\\dagger = UU^{-1} = I,$$\n",
    "\n",
    "where $I$ is the  identity matrix.\n",
    "\n",
    "In physics, especially in quantum mechanics, the conjugate transpose is referred to as the  Hermitian adjoint  of a matrix and is denoted by a  dagger  (†).\n",
    "\n",
    "The real analogue of a unitary matrix is an  orthogonal matrix. Unitary matrices have significant importance in quantum mechanics because they preserve norms, and thus,  probability amplitudes.\n",
    "\n",
    "**All gates in quantum computing, with the exception of measurement, can be represented by unitary matrices.**"
   ]
  },
  {
   "cell_type": "markdown",
   "id": "08178efa",
   "metadata": {
    "slideshow": {
     "slide_type": "slide"
    }
   },
   "source": [
    "## single-qubit gates\n",
    "\n",
    "The action of the gate on a specific quantum state is found by multiplying the vector $|\\psi_1\\rangle$ which represents the state by the matrix $U$ representing the gate. The result is a new quantum state $|\\psi_2\\rangle$:\n",
    "\n",
    "$U|\\psi_1\\rangle = |\\psi_2\\rangle.$\n",
    "\n"
   ]
  },
  {
   "cell_type": "markdown",
   "id": "e730e1fe",
   "metadata": {
    "slideshow": {
     "slide_type": "slide"
    }
   },
   "source": [
    "### single-qubit Pauli gates: $\\mathbf{1}$, $\\hat{\\sigma }_x$, $\\hat{\\sigma }_y$, $\\hat{\\sigma }_z$\n",
    "\n",
    "![0hjeasjvuxrvr](img/0hjeasjvuxrvr.png)\n",
    "\n",
    "**Identity gate**\n",
    "\n",
    "The identity gate is the identity matrix, usually written as ''I'',  and is defined for a single qubit as\n",
    "\n",
    "$$ I = \\begin{bmatrix} 1 & 0 \\\\ 0 & 1 \\end{bmatrix} ,$$\n",
    "\n",
    "where ''I'' is basis independent and does not modify the quantum state. The identity gate is most useful when describing mathematically the result of various gate operations or when discussing multi-qubit circuits."
   ]
  },
  {
   "cell_type": "markdown",
   "id": "84dbcada",
   "metadata": {
    "slideshow": {
     "slide_type": "slide"
    }
   },
   "source": [
    "**Pauli gates (''X'',''Y'',''Z'')**\n",
    "\n",
    "The Pauli gates $(X,Y,Z)$ are the three  Pauli matrices  $(\\sigma_x,\\sigma_y,\\sigma_z)$ and act on a single qubit. The Pauli ''X'',''Y'' and ''Z'' equate, respectively, to a rotation around the ''x'', ''y'' and ''z'' axes of the  Bloch sphere  by $\\pi$ radians. \n",
    "\n",
    "The Pauli-''X'' gate is the quantum equivalent of the  NOT gate  for classical computers with respect to the standard basis $|0\\rangle$, $|1\\rangle$. \n",
    "\n",
    "It is sometimes called a bit-flip as it maps $|0\\rangle$ to $|1\\rangle$ and $|1\\rangle$ to $|0\\rangle$. Similarly, the Pauli-''Y''  maps $|0\\rangle$ to $i|1\\rangle$ and $|1\\rangle$ to $-i|0\\rangle$. Pauli ''Z'' leaves the basis state $|0\\rangle$ unchanged and maps $|1\\rangle$ to $-|1\\rangle$. Due to this nature, it is sometimes called phase-flip.\n",
    "\n",
    "These matrices are usually represented as\n",
    "$$ X = \\sigma_x =\\operatorname{NOT} = \\begin{bmatrix} 0 & 1 \\\\ 1 & 0 \\end{bmatrix} ,$$\n",
    "$$ Y = \\sigma_y = \\begin{bmatrix} 0 & -i \\\\ i & 0 \\end{bmatrix}, $$\n",
    "$$ Z = \\sigma_z = \\begin{bmatrix} 1 & 0 \\\\ 0 & -1 \\end{bmatrix}.$$\n",
    "\n",
    "The square of a Pauli matrix is the  identity matrix.\n",
    "$$I^2 = X^2 = Y^2 = Z^2 = -iXYZ = I$$\n",
    "\n",
    "\n",
    "**Commutation relations**\n",
    "\n",
    "The Pauli matrices obey the following commutation  relations:\n",
    "\n",
    "$$[\\sigma_j, \\sigma_k] = 2 i \\varepsilon_{j k \\ell}\\,\\sigma_\\ell ~ , $$\n",
    "\n",
    "and  anticommutation  relations:\n",
    "\n",
    "$$\\{\\sigma_j, \\sigma_k\\} = 2 \\delta_{j k}\\,I ~ .$$\n",
    "\n",
    "where the  structure constant  $ε_{{abc}}$ is the  Levi-Civita symbol , Einstein summation notation is used, $δ_{{jk}}$ is the  Kronecker delta , and I is the 2 × 2 identity matrix.\n",
    "\n",
    "For example,\n",
    "\n",
    "$$\\begin{align}\n",
    "\\left[\\sigma_1, \\sigma_2\\right] &= 2i\\sigma_3 \\\\\n",
    "\\left[\\sigma_2, \\sigma_3\\right] &= 2i\\sigma_1 \\\\\n",
    "\\left[\\sigma_3, \\sigma_1\\right] &= 2i\\sigma_2 \\\\\n",
    "\\left[\\sigma_1, \\sigma_1\\right] &= 0\n",
    "\\end{align}$$\n",
    "\n",
    "and\n",
    "\n",
    "$$\\begin{align}\n",
    "\\left\\{\\sigma_1, \\sigma_1\\right\\} &= 2I \\\\\n",
    "\\left\\{\\sigma_1, \\sigma_2\\right\\} &= 0  \\\\\n",
    "\\left\\{\\sigma_1, \\sigma_3\\right\\} &= 0  \\\\\n",
    "\\left\\{\\sigma_2, \\sigma_2\\right\\} &= 2I.\n",
    "\\end{align}$$"
   ]
  },
  {
   "cell_type": "code",
   "execution_count": 57,
   "id": "873c25ff",
   "metadata": {
    "scrolled": true,
    "slideshow": {
     "slide_type": "slide"
    },
    "tags": []
   },
   "outputs": [
    {
     "name": "stdout",
     "output_type": "stream",
     "text": [
      "The matrix representation of id, sigmax, sigmay, sigmaz are\n"
     ]
    },
    {
     "data": {
      "text/html": [
       "<style>\n",
       "\t\t\t\t\t\t\t\t\t\t\t\t\t.grid-container {\n",
       "\t\t\t\t\t\t\t\t\t\t\t\t\t\tdisplay: inline-grid;\n",
       "\t\t\t\t\t\t\t\t\t\t\t\t\t\tgrid-template-columns: auto;\n",
       "\t\t\t\t\t\t\t\t\t\t\t\t\t}\n",
       "\t\t\t\t\t\t\t\t\t\t\t\t</style>\n",
       "\n",
       "\t\t\t\t\t\t\t\t\t\t\t\t<div><div class=\"grid-container\"><div class=\"grid-item\"><img alt=\"Output\" src=\"data:image/png;base64,iVBORw0KGgoAAAANSUhEUgAAADwAAAApCAIAAADmhd0NAAAAznpUWHRSYXcgcHJvZmlsZSB0eXBlIGV4aWYAAHjabU9bjgMhDPvnFHuEkAQHjsNMqdQb9Pg1A9rVVGuJOHFeJI3365l+JjRL8hIVDRDCmzftdKosLM7SLnvBzp3Ldz1p23qnVP4SGFs/7npgsdavQaJ709xA33w37EGmS899xceu117rfdAXIL9f/zd2C0VBDqd1lQg0+jXRJaGolMATJ8DCjIeKn+SBCLYhZoX12TihI+7VI8EoPOYJNp9bJ9tloUvtjJU2UzkYy5Wd53wAVBpaqk1bjz8AAAAJcEhZcwAADsQAAA7EAZUrDhsAAAA8dEVYdFNvZnR3YXJlAENyZWF0ZWQgd2l0aCB0aGUgV29sZnJhbSBMYW5ndWFnZSA6IHd3dy53b2xmcmFtLmNvbVyipoUAAAAhdEVYdENyZWF0aW9uIFRpbWUAMjAyNDowMzowNiAyMDozMjoxNl4OW9kAAALASURBVFiF7ZlB7qIwFMbLZE5BiCGFUxB14UI8gAuuIGvjyqUbegFvIBxBWLAA4oIzCCEN4RrMggwx7SuCMP6jmd/C6KO2H0/62q9KdV2jT+PXTwt4hS8Snee5bdsdX9N1XZIkz/NeG9W2bekvSZKAbQghwv5rCMdxsiwTXUIIua7bvIJtujFNU9O0x97iOAZb7nY7MA5nuigKjDEf9zwvDMO6rhVFeSnFKEkS3/eDIGg+Hg4HTdMul8uwXvj7yLLMcZzubMVxjF7KtOM4bZrbfkAZzVVwCCDTaZoahvFaIp8ShqGu6817z/MWi0XzpOV5zjeWZTmKIj4OiI6iSJblSaUCEEKOx2PduUpgjMGb+c2H8jwHH+gJ2Ww2CKH7/f60Jajk3XUaY+z7Psb4er02EUqppmmiNKmqytdEVnSe56vVanKtLcvlEiG03+/bSBiG6/Va1H42m5VlyQRZ0Wmazmaz6USyWJalaVqrkhDi+/7jPTAoikIpZaNMNXFdV1Tq67rOsozv97GE9cQ0TZEAfkR+iWEnIqW0Y+HAGHfP9560D/RTek3EoijeUO8GwVe9r9jlvaFIj+cDMs0n8QNEf+kz/RH8F/1v+NKJKNp3P9LHSz9ljJ8fnOnNZhMEQbNxcRxnsVgM1U0IkSTpdDoNHbqFFa2qalVVotbjvfR4P4940d2b6dvt9ugykiTJsux8Pvcfz7Ks/ls8JNhWsKIVReGdQssgLz0JVVWpqsoEWdGyLANOgaOPl56Esiz5H581ARjjoii6O+rvpcdDKeUPYYDq0fFbD/XS4ymKYj6fM0FAdIeCoV56PGAGAdHL5VJUeod66fHAGQQNcPcBZH8vDXbOaxD5edEBJHAs9nQuDiq0fOf9a87tdttut3wcXsb50vgjiI7JYdGGYXT/ffEGCCHNvOeR3rBATM4H7Kd5/gDwu3wCwg8NfgAAAABJRU5ErkJggg==\"></div><div class=\"grid-item\"><img alt=\"Output\" src=\"data:image/png;base64,iVBORw0KGgoAAAANSUhEUgAAADwAAAApCAIAAADmhd0NAAAAznpUWHRSYXcgcHJvZmlsZSB0eXBlIGV4aWYAAHjabU9bjgMhDPvnFHuEkAQHjsNMqdQb9Pg1A9rVVGuJOHFeJI3365l+JjRL8hIVDRDCmzftdKosLM7SLnvBzp3Ldz1p23qnVP4SGFs/7npgsdavQaJ709xA33w37EGmS899xceu117rfdAXIL9f/zd2C0VBDqd1lQg0+jXRJaGolMATJ8DCjIeKn+SBCLYhZoX12TihI+7VI8EoPOYJNp9bJ9tloUvtjJU2UzkYy5Wd53wAVBpaqk1bjz8AAAAJcEhZcwAADsQAAA7EAZUrDhsAAAA8dEVYdFNvZnR3YXJlAENyZWF0ZWQgd2l0aCB0aGUgV29sZnJhbSBMYW5ndWFnZSA6IHd3dy53b2xmcmFtLmNvbVyipoUAAAAhdEVYdENyZWF0aW9uIFRpbWUAMjAyNDowMzowNiAyMDozMjoxNl4OW9kAAAK7SURBVFiF7Zk97qJAGMaHzZ6CEEIGTkGEwkI4gAVXkNpYWdowF/AGwhGEggIIBWcQQgjhGmxBlpj54EPR/2r2V5j4MjM+88K8zDNybduCT+PXTwt4hC8SXRSFbdusPrZtc39JkuSxH1YUheM4z/NYDRBCzKstDcdx8jynXjIMQ5blvhkAII5jaksWXS/XdbvPgZa73Y4ap2e6LEsIIRlPksT3/SAIuq+Hw0GW5cvlMj3BnueFYdi2rSAI03vhkPPI89xxHFaS+jS3bRvHMWuQUbq+w5mO45jagJLpLMtUVaXOMAxDRVH6nGma1t3loigeTxsbnuejKCLjFNFRFPE8PzwcQuh4PLYvrvEQQmo6fpOhoiioD3SPaZoAgNvttpS4AahK5tVpCKHv+xDC6/XaRaqqkmV5eJLPIEkSWVVx0UVRrNdr1hC6rgMA9vt9HwnDcLPZLCcSRxTFuq6xIC46yzJRFFlDWJYly3KvEiHk+/79HBZHEISqqvAoVk1c1x19WRiGweo+Sp7npLL7Mkq2J18x+EKsqmq07PcP9ANACGfVnEkLsSzL0Xr3Zsiq9xW7vNEi/S/wAZkmk/gBor/0mf4I/ot+DV+6EFn7boxRLz3Mk35+dqYRQhzHnU6nuR17TNMMgqDb+jiOo2naXN24aEmSmqZhtX7eSz/v5wEpemAzDQCwLOuZLR4AIE3Te6eTJEme5+fzmdWeuq3ARQuCQDqFBZnr55umkSQJC+KieZ6nOIUXMNHP13VN3nzcBEAIy7JcUByV6X6+qiryEIZSPV508tIx18+XZblarbAgRfRL99Nz/Tw1gxTRuq4/fIA7ylw/T88g1QCzDiDnemkWE/086wCSciw2sBbnemkWE4t9mqbb7ZaM01/jZGn8EVjH5HTRqqoO/H3xHhBC3aol4Ra53W/mA/bTJH8A67F8AraQKcMAAAAASUVORK5CYII=\"></div><div class=\"grid-item\"><img alt=\"Output\" src=\"data:image/png;base64,iVBORw0KGgoAAAANSUhEUgAAAEoAAAApCAIAAAAd0ijSAAAAzXpUWHRSYXcgcHJvZmlsZSB0eXBlIGV4aWYAAHjabU9bjgMhDPvnFHuEkAQHjsN0qNQb7PHXDGirqWqJ2HEeQBq/r2f6mdAsyUtUNEAIb960U1RZWJylXfGC913Ldz9p236nVd4FjO0fdz+wWOvHItElbN5Abb4H9iLT5ef9kmP3a6/1vugDkP+nf83dQlGQwxldJQKNuiZKEopKCTzxANiYcar4gzwQwTHE7LA+Byd0xL17JBiNc37B5nHrZLsidLmduTJmOgdzuarzO39SolqpBnGoQgAAAAlwSFlzAAAOxAAADsQBlSsOGwAAADx0RVh0U29mdHdhcmUAQ3JlYXRlZCB3aXRoIHRoZSBXb2xmcmFtIExhbmd1YWdlIDogd3d3LndvbGZyYW0uY29tXKKmhQAAACF0RVh0Q3JlYXRpb24gVGltZQAyMDI0OjAzOjA2IDIwOjMyOjE2Xg5b2QAAAr1JREFUaIHtmc2tozAUhWE0VSAUIZMqUGCRRXAJKB2EdZRVGsANpIMHJUAWLABlQQ2AEEK0wSzQIIQvCb95vMx8uzj2xQfb1/iYLcuS+Vx+fXcHlmXt8liWTZJkdHNYXpIkuq53tdF1nf1LEASjnz0XhBDLsuD/SgjDMOI4Bv9SVVUUxboawzC+74M138npdALL4dFL0xQhRJcHQeA4zv1+r35eLhdRFL++vuYZhQUA5CVJIggCWPvxeIiiWCsPgiCO49vtNnu3LMuq5z/G+GX94/EIzk9AXhiGkiSBUVzX3W63dQ9kWTZNk2GYKasfRNO0asrFcQzOoxYcx3meR5cD8jzP4zjueThCyPV6LVezZyKEwFcMT87nLwxj7LpuFEXjuoIxZinGhWoC9nnYvocQchwHIWTbdlWSZVlzNfbBtm06xQ3qBoggCPQu1ZaXJMl+v+8KoSgKwzDn87kucV33cDhM79x0NptNnuetwra8MAw3m01XCE3TRFGs9RBCHMdpqv1GeJ7Psqxd2pokpmm+3KZVVe1qPhfNR/R8VhzH9ObeHj3gBVA0F8/gl9yPEeuzV2pJ0/TlrrBa6L1h7SeGiQCZc1CWXzkfNXr0wHyUvH9+7X0Y/+X9HOZMLRM9rCV4nVq6zoVvYAkD7vfolvN+cGKMoyiqYhJCZFn2fX+3200M2x49QRCKopgYdCjLGXBteU8OexVDPaw+zGLAgZ+TbXk8z9Nn3iZDPaw+zGLAFUVB+5dteRzH9TnyLcQUAy7Pc3rqtVMLQihN03Gdm0g11UcbcFmW0fYsbASOe8BoZjHg0jSlMy0g7/3nvVkMuL42rqIob77WmsWAg0cFtJwMw5jRw+rJFAPO933TNOlyOFDXddlq6bqQhD+puy7AVkvXhSQsT5KkJ5fPa4MQUiUnGrZczSXWEnzUcZbmD64pdJXQXkmaAAAAAElFTkSuQmCC\"></div><div class=\"grid-item\"><img alt=\"Output\" src=\"data:image/png;base64,iVBORw0KGgoAAAANSUhEUgAAAEgAAAApCAIAAAAZJ/jvAAAAzXpUWHRSYXcgcHJvZmlsZSB0eXBlIGV4aWYAAHjabU9bjgMhDPvnFHuEkAQHjsO0VOoN9vhrBrbVVLVE7DgPII3f5yP9TGiW5CUqGiCEN2/aKaosLM7SznjC/2v56idt2++0yruAsf3j6gcWa/1YJLqEzRuozffAXmS6/NxXfux+7bVeF30A8nr619wtFAU5nNFVItCoa6IkoaiUwAM3gI0ZdxW/kQciOIaYHdbn4ISOuHaPBKNxn1+wedw62c4IXW5nroyZzsFczur8zh8WQVqAszbvAQAAAAlwSFlzAAAOxAAADsQBlSsOGwAAADx0RVh0U29mdHdhcmUAQ3JlYXRlZCB3aXRoIHRoZSBXb2xmcmFtIExhbmd1YWdlIDogd3d3LndvbGZyYW0uY29tXKKmhQAAACF0RVh0Q3JlYXRpb24gVGltZQAyMDI0OjAzOjA2IDIwOjMyOjE2Xg5b2QAAAtVJREFUaIHtmT/OqkAQwOHlnYIQQxZOYYTCQjiABVeQ2lhZ2rAX8AbCEYCCAggFZ3AJIYRr8AryGbO77OPv9/n0/QqjIzuZ2YGZnYFvmoZ7R379tAFL8WGO5XluWRZjmaIoPM+7rjuLEZZl8V8kSdJ/IYSw04aGhm3bCKGuvziOcxyn/aReMwhd12VZflYex3H/5YfDgSqnR6woCgAAKXddNwzDpmlEUey/rwySJPF9PwiC9ufpdJJl+Xa7zaCa9BUhZNs2e5/iOObmiJht249wPdRSrWJYQjWDErEsy9br9Qx71oMwDBVFab+7rquqanuT53neU4MgCFEUkXKKY1EUCYIw1tSRQAjP53MzvKgCAKi78JsU5XlOfcCWwzAMjuPu9/u45VRrf7iOAQB83wcAeJ7XSsqylGV50M5KkkQWCdyxPM+32+0UWwehaRrHccfj8SEJw3C32w1SslqtqqrChLhjWZatVqtRRo7BNE1Zlh+eQAh933/2sw+iKJZliUuxLOk4DqM+IoRIvc/5ehy6rnfZ0weEEFmm8eRRliWj+AIAmgW6gccDNo5eyaMoiu/P9dMhM/7HnO6/v4gtxJtEjAzGmzj2wc/Y2/Dfsdfmg5NHV9/2zOih0iAmDsIGR8wwjCAI2oOmbduqqs7uG4SQ5/nL5TJFCe6YJEl1XXddveBQ6Yu5BmG4Y+xmLE3T5/Y2SRKE0PV6nWIBhmmaQw/71GMg7pgoimQ3+mD6UGkJ6rqWJAkT4o4JgkDpRglGD5WWoKoq8kajZMWiKNiKDMMIw3D0UMkwDJ5gnKoWanNMyYqM+2qWoZLneWR73385SVEUm80GE1IcY1g5y1BpdqiRoDimaVpXaZplqDQ79EhQhz7slxITh0pshg7Cul5KUEbcf80fE4dKbIYOwtI03e/3pJx+pCLLwsvS9SqP7th6vWa/qn0RIIRtPiPhB8X9H+JN+jGSP/lTIl+kkUTtAAAAAElFTkSuQmCC\"></div></div></div>"
      ],
      "text/plain": [
       "1   0\n",
       "\n",
       "0   1\n",
       "0   1\n",
       "\n",
       "1   0\n",
       "0    -I\n",
       "\n",
       "I    0\n",
       "1    0\n",
       "\n",
       "0    -1"
      ]
     },
     "execution_count": 60,
     "metadata": {
      "text/html": [],
      "text/plain": []
     },
     "output_type": "execute_result"
    }
   ],
   "source": [
    "{id, \\[Sigma]x, \\[Sigma]y, \\[Sigma]z} = \n",
    "  Table[SparseArray[PauliMatrix[i]], {i, 0, 3}];\n",
    "(*  *)\n",
    "Print[\"The matrix representation of id, sigmax, sigmay, sigmaz are\"]\n",
    "\n",
    "id  //Normal //MatrixForm\n",
    "\\[Sigma]x//Normal //MatrixForm\n",
    "\\[Sigma]y  //Normal //MatrixForm\n",
    "\\[Sigma]z //Normal //MatrixForm"
   ]
  },
  {
   "cell_type": "markdown",
   "id": "3adbaab0",
   "metadata": {},
   "source": [
    "__Exercise:__ \n",
    "\n",
    "Verify the anticommutation relations of the Pauli matrices."
   ]
  },
  {
   "attachments": {
    "image-2.png": {
     "image/png": "[encoded data removed]"
    }
   },
   "cell_type": "markdown",
   "id": "6bf17f5a",
   "metadata": {},
   "source": [
    "### Bloch sphere\n",
    "\n",
    "Given an orthonormal basis, any  pure state  $|\\psi\\rangle$ of a two-level quantum system can be written as a superposition of the basis vectors$|0\\rangle$ and $|1\\rangle$, where the coefficient of (or contribution from) each of the two basis vectors is a  complex number . This means that the state is described by four real numbers. However only the relative phase between the coefficients of the two basis vectors has any physical meaning (the phase of the quantum system is not directly  measurable ), so that there is redundancy in this description. We can take the coefficient of $|0\\rangle$ to be real and non-negative. This allows the state to be described by only three real numbers, giving rise to the three dimensions of the Bloch sphere.\n",
    "\n",
    "We also know from quantum mechanics that the total probability of the system has to be one:\n",
    "\n",
    "$$\\langle\\psi | \\psi\\rangle = 1$$\n",
    "\n",
    "or equivalently \n",
    "\n",
    "$$\\big\\| |\\psi\\rangle \\big\\|^2 = 1$$\n",
    "\n",
    "Given this constraint, we can write $|\\psi\\rangle$ using the following representation:\n",
    "\n",
    "$$\n",
    "  |\\psi\\rangle =\n",
    "    \\cos\\left(\\theta /2\\right) |0 \\rangle \\, + \\, e^{i\\phi}  \\sin\\left(\\theta /2\\right) |1\\rangle =\n",
    "    \\cos\\left(\\theta /2\\right) |0 \\rangle \\, + \\, (\\cos\\phi + i\\sin\\phi) \\, \\sin\\left(\\theta /2\\right) |1\\rangle $$\n",
    "\n",
    "where $ 0 \\leq \\theta \\leq \\pi$ and $0 \\leq \\phi < 2 \\pi$.\n",
    "\n",
    "The representation is always unique, because, even though the value of $\\phi$ is not unique when \n",
    "$|\\psi\\rangle$ is one of the states (see  Bra-ket notation ) $|0\\rangle$ or $|1\\rangle$, the point represented by $\\theta$ and $\\phi$ is unique.\n",
    "\n",
    "The parameters $\\theta\\,$ and $\\phi\\,$, re-interpreted in  spherical coordinates  as respectively the  colatitude  with respect to the $z$-axis and the  longitude  with respect to the $x$-axis, specify a point\n",
    "\n",
    "$$\\vec{a} = (\\sin\\theta \\cos\\phi,\\; \\sin\\theta \\sin\\phi,\\; \\cos\\theta) = (u, v, w)$$ \n",
    "\n",
    "on the unit sphere in $\\mathbb{R}^3$.\n",
    "\n",
    "<img src=\"attachment:image-2.png\" width=\"300\"> <!-- ![image-2.png](attachment:image-2.png) --> "
   ]
  },
  {
   "cell_type": "markdown",
   "id": "0856f862",
   "metadata": {
    "slideshow": {
     "slide_type": "slide"
    }
   },
   "source": [
    "### Matrices as outer products. Change of basis. Spectral decomposition\n",
    "$$\n",
    "|0\\rangle\\langle0|= \\begin{pmatrix} 1 \\\\\\\\ 0 \\end{pmatrix} \\begin{pmatrix} 1 & 0 \\end{pmatrix} = \\begin{pmatrix} 1&0 \\\\\\\\ 0&0 \\end{pmatrix},\\\\\\\\\n",
    "|0\\rangle\\langle1| = \\begin{pmatrix} 1 \\\\\\\\ 0 \\end{pmatrix} \\begin{pmatrix} 0 & 1 \\end{pmatrix} = \\begin{pmatrix} 0&1 \\\\\\\\ 0&0 \\end{pmatrix},\\\\\\\\\n",
    "|1\\rangle\\langle0| = \\begin{pmatrix} 0 \\\\\\\\ 1 \\end{pmatrix} \\begin{pmatrix} 1 & 0 \\end{pmatrix} = \\begin{pmatrix} 0&0 \\\\\\\\ 1&0 \\end{pmatrix},\\\\\\\\\n",
    "|1\\rangle\\langle1| = \\begin{pmatrix} 0 \\\\\\\\ 1 \\end{pmatrix} \\begin{pmatrix} 0 & 1 \\end{pmatrix} = \\begin{pmatrix} 0&0 \\\\\\\\ 0&1 \\end{pmatrix}.\\\\\\\\\n",
    "$$\n",
    "\n",
    "This also means that we can write any matrix purely in terms of outer products. In the examples above, we constructed the four matrices that cover each of the single elements in a single-qubit matrix, so we can write any other single-qubit matrix in terms of them.\n",
    "\n",
    "$$\n",
    "M= \\begin{pmatrix} m_{0,0}&m_{0,1} \\\\\\\\ m_{1,0}&m_{1,1} \\end{pmatrix} = m_{0,0} |0\\rangle\\langle0|+ m_{0,1} |0\\rangle\\langle1|+ m_{1,0} |1\\rangle\\langle0|+ m_{1,1} |1\\rangle\\langle1|\n",
    "$$  \n"
   ]
  },
  {
   "cell_type": "markdown",
   "id": "922fb826",
   "metadata": {
    "slideshow": {
     "slide_type": "slide"
    }
   },
   "source": [
    "### Pauli decomposition\n",
    "$$\n",
    "M= \\begin{pmatrix} m_{0,0}&m_{0,1} \\\\\\\\ m_{1,0}&m_{1,1} \\end{pmatrix} = m_{0,0} |0\\rangle\\langle0|+ m_{0,1} |0\\rangle\\langle1|+ m_{1,0} |1\\rangle\\langle0|+ m_{1,1} |1\\rangle\\langle1|\n",
    "$$\n",
    "\n",
    "Now we will see that it also possible to write them completely in terms of Pauli operators. For this, the key thing to note is that\n",
    "\n",
    "$$\n",
    "\\frac{1+Z}{2} = \\frac{1}{2}\\left[ \\begin{pmatrix} 1&0 \\\\\\\\0&1 \\end{pmatrix}+\\begin{pmatrix} 1&0 \\\\\\\\0&-1 \\end{pmatrix}\\right] = |0\\rangle\\langle0|,\\\\\\\\\\frac{1-Z}{2} = \\frac{1}{2}\\left[ \\begin{pmatrix} 1&0 \\\\\\\\0&1 \\end{pmatrix}-\\begin{pmatrix} 1&0 \\\\\\\\0&-1 \\end{pmatrix}\\right] = |1\\rangle\\langle1|\n",
    "$$\n",
    "\n",
    "This shows that $|0\\rangle\\langle0|$ and $|1\\rangle\\langle1|$ can be expressed using the identity matrix and $Z$. Now, using the property that $X|0\\rangle = |1\\rangle$, we can also produce\n",
    "\n",
    "$$\n",
    "|0\\rangle\\langle1| = |0\\rangle\\langle0|X = \\frac{1}{2}(1+Z)~X = \\frac{X+iY}{2},\\\\\\\\\n",
    "|1\\rangle\\langle0| = X|0\\rangle\\langle0| = X~\\frac{1}{2}(1+Z) = \\frac{X-iY}{2}.\n",
    "$$\n",
    "\n",
    "Since we have all the outer products, we can now use this to write the matrix in terms of Pauli matrices:\n",
    "\n",
    "$$\n",
    "M = \\frac{m_{0,0}+m_{1,1}}{2}~1~+~\\frac{m_{0,1}+m_{1,0}}{2}~X~+~i\\frac{m_{0,1}-m_{1,0}}{2}~Y~+~\\frac{m_{0,0}-m_{1,1}}{2}~Z.\n",
    "$$\n"
   ]
  },
  {
   "cell_type": "markdown",
   "id": "fbc7ecc2",
   "metadata": {},
   "source": [
    "__projection operators onto 0 and 1 states, respectively:__"
   ]
  },
  {
   "cell_type": "code",
   "execution_count": 88,
   "id": "48c0b334",
   "metadata": {
    "tags": []
   },
   "outputs": [
    {
     "data": {
      "text/html": [
       "<style>\n",
       "\t\t\t\t\t\t\t\t\t\t\t\t\t.grid-container {\n",
       "\t\t\t\t\t\t\t\t\t\t\t\t\t\tdisplay: inline-grid;\n",
       "\t\t\t\t\t\t\t\t\t\t\t\t\t\tgrid-template-columns: auto;\n",
       "\t\t\t\t\t\t\t\t\t\t\t\t\t}\n",
       "\t\t\t\t\t\t\t\t\t\t\t\t</style>\n",
       "\n",
       "\t\t\t\t\t\t\t\t\t\t\t\t<div><div class=\"grid-container\"><div class=\"grid-item\"><pre style=\"&#102;&#111;&#110;&#116;&#45;&#102;&#97;&#109;&#105;&#108;&#121;&#58;&#32;&#34;&#67;&#111;&#117;&#114;&#105;&#101;&#114;&#32;&#78;&#101;&#119;&#34;&#44;&#67;&#111;&#117;&#114;&#105;&#101;&#114;&#44;&#109;&#111;&#110;&#111;&#115;&#112;&#97;&#99;&#101;&#59;\">&#123;&#123;&#49;&#44;&#32;&#48;&#125;&#44;&#32;&#123;&#48;&#44;&#32;&#48;&#125;&#125;</pre></div><div class=\"grid-item\"><pre style=\"&#102;&#111;&#110;&#116;&#45;&#102;&#97;&#109;&#105;&#108;&#121;&#58;&#32;&#34;&#67;&#111;&#117;&#114;&#105;&#101;&#114;&#32;&#78;&#101;&#119;&#34;&#44;&#67;&#111;&#117;&#114;&#105;&#101;&#114;&#44;&#109;&#111;&#110;&#111;&#115;&#112;&#97;&#99;&#101;&#59;\">&#123;&#123;&#48;&#44;&#32;&#48;&#125;&#44;&#32;&#123;&#48;&#44;&#32;&#49;&#125;&#125;</pre></div></div></div>"
      ],
      "text/plain": [
       "{{1, 0}, {0, 0}}\n",
       "{{0, 0}, {0, 1}}"
      ]
     },
     "execution_count": 90,
     "metadata": {
      "text/html": [],
      "text/plain": []
     },
     "output_type": "execute_result"
    }
   ],
   "source": [
    "P0 = (id + \\[Sigma]z)/2 // SparseArray;\n",
    "P1 = (id - \\[Sigma]z)/2 // SparseArray;\n",
    "P0//Normal\n",
    "P1//Normal"
   ]
  },
  {
   "cell_type": "markdown",
   "id": "71d01a86",
   "metadata": {
    "slideshow": {
     "slide_type": "slide"
    }
   },
   "source": [
    "### item rotation operators \n",
    "\n",
    "$\\op{R}_x(\\phi)=\\frac{1+e^{\\ii\\phi}}{2}\\one+\\frac{1-e^{\\ii\\phi}}{2}\\sigma_x=e^{\\ii\\phi/2}e^{-\\ii\\phi\\op{\\sigma}_x/2}$  are also known as phase gates"
   ]
  },
  {
   "cell_type": "markdown",
   "id": "702753b7",
   "metadata": {},
   "source": [
    "### Exponential of a Pauli vector\n",
    "For \n",
    "$$\\vec{a} = a\\hat{n},  \\quad |\\hat{n}| = 1,$$\n",
    "\n",
    "one has, for even powers, { $p$ = 0, 1, 2, 3, ...}\n",
    "$$(\\hat{n} \\cdot \\vec{\\sigma})^{2p} = I $$\n",
    "\n",
    "which can be shown first for the $p = 1$ case using the anticommutation relations. For convenience, the case $p$ = 0 is taken to be $I$ by convention.\n",
    "\n",
    "For odd powers,1=2$q$ + 1, $q$ = 0, 1, 2, 3, ...\n",
    "$$\\left(\\hat{n} \\cdot \\vec{\\sigma}\\right)^{2q+1} = \\hat{n} \\cdot \\vec{\\sigma} \\, .$$\n",
    "$$\\begin{align}\n",
    "  e^{i a\\left(\\hat{n} \\cdot \\vec{\\sigma}\\right)}\n",
    "    &= \\sum_{k=0}^\\infty{\\frac{i^k \\left[a \\left(\\hat{n} \\cdot \\vec{\\sigma}\\right)\\right]^k}{k!}} \\\\\n",
    "    &= \\sum_{p=0}^\\infty{\\frac{(-1)^p (a\\hat{n}\\cdot \\vec{\\sigma})^{2p}}{(2p)!}} + i\\sum_{q=0}^\\infty{\\frac{(-1)^q (a\\hat{n}\\cdot \\vec{\\sigma})^{2q + 1}}{(2q + 1)!}} \\\\\n",
    "    &= I\\sum_{p=0}^\\infty{\\frac{(-1)^p a^{2p}}{(2p)!}} + i (\\hat{n}\\cdot \\vec{\\sigma}) \\sum_{q=0}^\\infty{\\frac{(-1)^q a^{2q+1}}{(2q + 1)!}}\\\\\n",
    "\\end{align}$$.\n",
    "\n",
    "In the last line, the first sum is the cosine, while the second sum is the sine; so, finally,\n",
    "\n",
    " $$~~e^{i a\\left(\\hat{n} \\cdot \\vec{\\sigma}\\right)} = I\\cos{a} + i (\\hat{n} \\cdot \\vec{\\sigma}) \\sin{a} ~~$$ \n",
    "\n"
   ]
  },
  {
   "cell_type": "markdown",
   "id": "3f2914c1",
   "metadata": {},
   "source": [
    "A useful advantage of the Bloch sphere representation is that the evolution of the qubit state is describable by rotations of the Bloch sphere. \n",
    "\n",
    "\n",
    "The rotations of the Bloch sphere about the Cartesian axes in the Bloch basis are given by (note the slightly different definition)\n",
    "\n",
    "$$\\begin{align}\n",
    "  R_x(\\theta) &= e^{(-i \\theta X/2)} = \\cos(\\theta /2)I - i\\sin(\\theta/2)X =\n",
    "    \\begin{bmatrix}\n",
    "        \\cos \\theta/2  & -i \\sin \\theta/2 \\\\\n",
    "         -i \\sin \\theta/2 & \\cos \\theta/2\n",
    "    \\end{bmatrix} \\\\\n",
    "  R_y(\\theta) &= e^{(-i \\theta Y/2)} = \\cos(\\theta /2)I - i\\sin(\\theta/2)Y =\n",
    "    \\begin{bmatrix}\n",
    "        \\cos \\theta/2  & -\\sin \\theta/2 \\\\\n",
    "         \\sin \\theta/2 & \\cos \\theta/2\n",
    "    \\end{bmatrix} \\\\\n",
    "  R_z(\\theta) &= e^{(-i \\theta Z/2)} = \\cos(\\theta /2)I - i\\sin(\\theta/2)Z =\n",
    "    \\begin{bmatrix}\n",
    "        e^{-i \\theta/2}  & 0 \\\\\n",
    "         0 & e^{i \\theta/2}\n",
    "    \\end{bmatrix}\n",
    "\\end{align}$$\n"
   ]
  },
  {
   "cell_type": "markdown",
   "id": "5fe8b3c8",
   "metadata": {},
   "source": [
    "__Exercise:__\n",
    "\n",
    "Verify that the operators $R_{x,y,z}$ perform rotations on the qubit state written in the Bloch sphere representation."
   ]
  },
  {
   "attachments": {
    "image-2.png": {
     "image/png": "[encoded data removed]"
    }
   },
   "cell_type": "markdown",
   "id": "af6530c0",
   "metadata": {
    "slideshow": {
     "slide_type": "slide"
    }
   },
   "source": [
    "### phase shift gate\n",
    "\n",
    "**Phase shift gates** ![image-2.png](attachment:image-2.png)\n",
    "\n",
    "\n",
    "The phase shift is a family of single-qubit gates that map the basis states $|0\\rangle \\mapsto |0\\rangle$ and $|1\\rangle \\mapsto e^{i\\varphi}|1\\rangle$. The probability of measuring a $|0\\rangle$ or $|1\\rangle$ is unchanged after applying this gate, however it modifies the phase of the quantum state. This is equivalent to tracing a horizontal circle (a line of latitude) on the  Bloch sphere  by $\\varphi$ radians. The phase shift gate is represented by the matrix:\n",
    "\n",
    "$$P(\\varphi) = \\begin{bmatrix} 1 & 0 \\\\ 0 & e^{i \\varphi} \\end{bmatrix}$$\n",
    "\n",
    "where $\\varphi$ is the ''phase shift'' with  period   2 pi. Some common examples are the ''T'' gate where $\\varphi = \\frac{\\pi}{4}$, the phase gate (written ''S'', though ''S'' is sometimes used for SWAP gates) where $\\varphi= \\frac{\\pi}{2}$ and the  Pauli-''Z'' gate  where $\\varphi = \\pi$.\n",
    "\n",
    "The phase shift gates are related to each other as follows:\n",
    "\n",
    "$$ Z = \\begin{bmatrix} 1 & 0 \\\\ 0 & e^{i \\pi} \\end{bmatrix} = \\begin{bmatrix} 1 & 0 \\\\ 0 & -1 \\end{bmatrix} = P\\left(\\pi\\right)$$\n",
    "\n",
    "$$ S = \\begin{bmatrix} 1 & 0 \\\\ 0 & e^{i \\frac{\\pi}{2}} \\end{bmatrix} = \\begin{bmatrix} 1 & 0 \\\\ 0 & i \\end{bmatrix} = P\\left(\\frac{\\pi}{2}\\right)=\\sqrt{Z}$$\n",
    "\n",
    "$$ T = \\begin{bmatrix} 1 & 0 \\\\ 0 & e^{i \\frac{\\pi}{4}} \\end{bmatrix} =P\\left(\\frac{\\pi}{4}\\right) = \\sqrt{S} = \\sqrt[4]{Z}$$\n",
    "\n",
    "$$ P\\left(\\frac{\\pi}{\\xi}\\right) = \\sqrt[\\xi]{Z}$$ for all real $\\xi$ except 0.\n",
    "\n",
    "The argument to the phase shift gate is in  U(1) , and the gate performs a phase rotation in U(1) along the specified basis state (e.g. $P(\\varphi)$ rotates the phase about $|1\\rangle$). Extending $P(\\varphi)$ to a rotation about a generic phase of both basis states of a 2-level quantum system (a  qubit ) can be done with a series circuit $$P(\\beta) \\cdot X \\cdot P(\\alpha) \\cdot X = \\begin{bmatrix} e^{i\\alpha} & 0 \\\\ 0 & e^{i\\beta} \\end{bmatrix}$$\n",
    "\n",
    "When $\\alpha = -\\beta$ this gate is the  rotation operator  $R_z(2\\beta)$ gate.\n",
    "Introducing the global phase gate \n",
    "\n",
    "$$\\operatorname{Ph}(\\delta) = \\begin{bmatrix} e^{i\\delta} & 0 \\\\ 0 & e^{i\\delta} \\end{bmatrix} = \\left(P(\\delta) \\cdot X\\right)^2 = \\exp \\left( i\\delta I \\right) = e^{i\\delta} I$$\n",
    "\n",
    "The factor $e^{i\\delta}$ is called the ''global phase'' as it can be broken out and applies to the whole state.<br>\n"
   ]
  },
  {
   "cell_type": "markdown",
   "id": "bed0ecb8",
   "metadata": {
    "slideshow": {
     "slide_type": "slide"
    }
   },
   "source": [
    "### Hadamard gate:\n",
    "\n",
    "The Hadamard gate  acts on a single qubit. It maps the basis states $|0\\rangle \\mapsto \\frac{|0\\rangle + |1\\rangle}{\\sqrt{2}}$ and $|1\\rangle \\mapsto \\frac{|0\\rangle - |1\\rangle}{\\sqrt{2}}$ (i.e. creates a superposition  if given a basis state). It represents a rotation of $\\pi$ about the axis $(\\hat{x}+\\hat{z})/\\sqrt{2}$ at the  Bloch sphere . It is represented by the  Hadamard matrix : \n",
    " \n",
    "\n",
    "$$ H = \\frac{1}{\\sqrt{2}} \\begin{bmatrix} 1 & 1 \\\\ 1 & -1 \\end{bmatrix} .$$\n",
    "\n",
    "Using rotation operators , we have the identities: $R_y(\\pi/2)Z = H$ and $X R_y(\\pi/2) = H.$ \n",
    "\n",
    "The Hadamard gate can be thought as a unitary transformation that maps qubit operations in ''z''-axis to the ''x''-axis and viceversa. For example, $HZH=X$, $H\\sqrt{X}\\;H=\\sqrt{Z}=S$, and $H R_z(\\theta)H=R_x(\\theta)$.\n",
    "\n",
    "![image-2.png](img/0d47v525b6uo1.png)"
   ]
  },
  {
   "cell_type": "markdown",
   "id": "14911b4d",
   "metadata": {},
   "source": [
    "## Tensor product of matrices\n",
    "$$\n",
    "A \\otimes B=  \n",
    "\\begin{bmatrix} \n",
    "a_{11}&a_{12} \\\\ a_{21}&a_{22} \\end{bmatrix} \\otimes \\begin{bmatrix} b_{11}&b_{12} \\\\ b_{21}&b_{22} \\end{bmatrix}  = \n",
    "\\begin{bmatrix} \n",
    "a_{11}B & a_{12}B\\\\a_{21}B & a_{22}B \n",
    "\\end{bmatrix} = \n",
    "\\begin{bmatrix} a_{11}\\begin{bmatrix} b_{11}&b_{12} \\\\ b_{21}&b_{22} \\end{bmatrix} & a_{12}\\begin{bmatrix} b_{11}&b_{12} \\\\ b_{21}&b_{22} \\end{bmatrix}\\\\a_{21}\\begin{bmatrix} b_{11}&b_{12} \\\\ b_{21}&b_{22} \\end{bmatrix} & a_{22}\\begin{bmatrix} b_{11}&b_{12} \\\\ b_{21}&b_{22} \\end{bmatrix} \\end{bmatrix} \\\\=\n",
    "\\begin{bmatrix} \n",
    "a_{11}b_{11} & a_{11}b_{12} & a_{12}b_{11} & a_{12}b_{12} \\\\ \n",
    "a_{11}b_{21} & a_{11}b_{22} & a_{12}b_{21} & a_{12}b_{22} \\\\\n",
    "a_{21}b_{11} & a_{21}b_{12} & a_{22}b_{11} & a_{22}b_{12} \\\\\n",
    "a_{21}b_{21} & a_{21}b_{22} & a_{22}b_{21} & a_{22}b_{22} \n",
    "\\end{bmatrix}\n",
    "$$  \n",
    "\n",
    "$$\n",
    "Z \\otimes X=  \\begin{bmatrix} 1&0 \\\\ 0&-1 \\end{bmatrix} \\otimes \\begin{bmatrix} 0&1 \\\\ 1&0 \\end{bmatrix} = \\begin{bmatrix} 0&1&0&0 \\\\ 1&0&0&0\\\\0&0&0&-1\\\\0&0&-1&0 \\end{bmatrix}.\n",
    "$$"
   ]
  },
  {
   "cell_type": "markdown",
   "id": "5776a71b",
   "metadata": {
    "slideshow": {
     "slide_type": "slide"
    }
   },
   "source": [
    "## n - qubit gates\n",
    "\n",
    "The mathematics of single qubit gates can be extended to operate on multi-qubit quantum memories in two important ways. One way is simply to select a qubit and apply that gate to the target qubit whilst leaving the remainder of the memory unaffected. Another way is to apply the gate to its target only if another part of the memory is in a desired state. These two choices can be illustrated using another example. The possible states of a two-qubit quantum memory are\n",
    "\n",
    "$$\n",
    " |00\\rangle := \\begin{pmatrix} 1 \\\\ 0 \\\\ 0 \\\\ 0 \\end{pmatrix};\\quad\n",
    " |01\\rangle := \\begin{pmatrix} 0 \\\\ 1 \\\\ 0 \\\\ 0 \\end{pmatrix};\\quad\n",
    " |10\\rangle := \\begin{pmatrix} 0 \\\\ 0 \\\\ 1 \\\\ 0 \\end{pmatrix};\\quad\n",
    " |11\\rangle := \\begin{pmatrix} 0 \\\\ 0 \\\\ 0 \\\\ 1 \\end{pmatrix}.\n",
    "$$\n",
    "\n",
    "The CNOT gate can then be represented using the following matrix:\n",
    "\n",
    "$$\n",
    " \\operatorname{CNOT} :=\n",
    " \\begin{pmatrix}\n",
    "  1 & 0 & 0 & 0 \\\\\n",
    "   0 & 1 & 0 & 0 \\\\\n",
    "   0 & 0 & 0 & 1 \\\\\n",
    "   0 & 0 & 1 & 0\n",
    " \\end{pmatrix}.\n",
    "$$\n",
    "\n",
    "As a mathematical consequence of this definition, $\\operatorname{CNOT}|00\\rangle = |00\\rangle$, $\\operatorname{CNOT}|01\\rangle = |01\\rangle$, $\\operatorname{CNOT}|10\\rangle = |11\\rangle$, and $\\operatorname{CNOT}|11\\rangle = |10\\rangle$. In other words, the CNOT applies a NOT gate ($X$ from before) to the second qubit if and only if the first qubit is in the state $|1\\rangle$. If the first qubit is $|0\\rangle$, nothing is done to either qubit."
   ]
  },
  {
   "cell_type": "markdown",
   "id": "4e9852f0",
   "metadata": {
    "slideshow": {
     "slide_type": "subslide"
    }
   },
   "source": [
    "### operator $\\hat{a}$ acting on the $k^{\\text{th}}$ qubit of a set of $n$ qubits: \n",
    "\n",
    "$\\mathbf{1}\\otimes \\mathbf{1}\\otimes \\cdots \\otimes \\mathbf{1}\\otimes \\hat{a}\\otimes 1\\otimes \\cdots \\otimes \\mathbf{1}\\otimes \\mathbf{1}$"
   ]
  },
  {
   "cell_type": "code",
   "execution_count": 132,
   "id": "cac7d943",
   "metadata": {
    "tags": []
   },
   "outputs": [],
   "source": [
    "op[n_Integer, k_Integer, a_] /; 1 <= k <= n \\[And] Dimensions[a] == {2, 2} := KroneckerProduct[IdentityMatrix[2^(k - 1), SparseArray], a, IdentityMatrix[2^(n - k), SparseArray]]"
   ]
  },
  {
   "cell_type": "markdown",
   "id": "6bc6f365",
   "metadata": {
    "slideshow": {
     "slide_type": "slide"
    }
   },
   "source": [
    "### single-qubit gates acting on the $k^{\\text{th}}$ qubit of a set of $n$ qubits\n",
    "\n",
    "Pauli gates acting on the $k^{\\text{th}}$ qubit of a set of $n$ qubits:"
   ]
  },
  {
   "cell_type": "code",
   "execution_count": 141,
   "id": "29687999",
   "metadata": {
    "tags": []
   },
   "outputs": [],
   "source": [
    "\n",
    "X[n_Integer, k_Integer] /; 1 <= k <= n := op[n, k, \\[Sigma]x]\n",
    "Y[n_Integer, k_Integer] /; 1 <= k <= n := op[n, k, \\[Sigma]y]\n",
    "Z[n_Integer, k_Integer] /; 1 <= k <= n := op[n, k, \\[Sigma]z]\n"
   ]
  },
  {
   "cell_type": "markdown",
   "id": "e89dd592",
   "metadata": {},
   "source": [
    "![00merbc26bnd0](img/00merbc26bnd0.png)"
   ]
  },
  {
   "cell_type": "markdown",
   "id": "bc4ff236",
   "metadata": {},
   "source": [
    "**example:**"
   ]
  },
  {
   "cell_type": "code",
   "execution_count": 157,
   "id": "c2532fb9",
   "metadata": {
    "tags": []
   },
   "outputs": [
    {
     "data": {
      "text/html": [
       "<div><img alt=\"Output\" src=\"data:image/png;base64,iVBORw0KGgoAAAANSUhEUgAAAGgAAABWCAIAAACsDkQrAAAAy3pUWHRSYXcgcHJvZmlsZSB0eXBlIGV4aWYAAHjabU9bEsMgCPz3FD0CAi56HJOYmd6gxy8+2mky3RlhWRbU0F7PMzw6OFLQZBkFIIcWLVydZJqYOVIZcQCfXrzqIWHp1aX0M9CWvl11W37Ot0XEk0i/wbnoGliLhKce66y35eea83XRDaDv0//WKsZIiKYelckMxXkOTj0hMSXDiR1wY8TBpLvnBjMfg3WH1D7Ywc2u7hYgLhz9C9KPSvUsI4KnWr3mEYk3r2l0+3feGPxafojiuxkAAAAJcEhZcwAADsQAAA7EAZUrDhsAAAA8dEVYdFNvZnR3YXJlAENyZWF0ZWQgd2l0aCB0aGUgV29sZnJhbSBMYW5ndWFnZSA6IHd3dy53b2xmcmFtLmNvbVyipoUAAAAhdEVYdENyZWF0aW9uIFRpbWUAMjAyNDowMzowNiAyMDozMjozMIVbnG4AAATDSURBVHic7V0xSPNMGL58OHRwcOgguEgScHFwc6o4iOnQobtLV8VBoYOD4KAg6eTuIKLQLlLc1KEtxMWpi4vQqkgXoYNDoYUK9w3hzy+XS8y9d83r9333DFLf9J68PF7yJvfwngallGiI4xd2An8qtHBARAq3u7sbdWhra8v4D/f394CzyjPYtm0YRq1WA4xNnsDJyUmn0+Efozw0m816vc495DiOZVn+Z9d1CSGe53G/GQVJBn9ItVr1fwqdWjSB4XC4t7fHPcQXrlQqceOe5xFCut1uELEsa3NzM3nSkgzVatVxnIAHIJxoAmdnZ+12OxznCNdut09PT7ksrusGf6sgiahpOyGGrwMBwokmMBwOt7e3w3HOPe7q6qpQKHCv60ajYdu2/7lWq+VyOf+SeX5+jr6fKGaQhGgCmUxmNBp9fn4ycY5wvV5vdnY2/vSVSmV/f59KPAPKM0gieQLLy8utVosJTjG/DwaDTCYTT5TP5wkhkeUmAeQZJCGUwOLiYqvVWltb+xpkZ1yn07EsK4rCNM3b21vTNG9ubvzI29ubZVmmaSbMWJ5BEoAEbNt+enpighzh5ufnoyhWVlYIIeVyOYg0Go319fXkecszSAKQQDab7fV6bJQpFsfHx81mM6YqWZbFPAR9Le1JIM9AJaoqLIHV1VUmwgp3cHAQLxyl1HGcKN0TAszQ7XbDM+Lr48WEEigUCkyELQ7+zIyZt4SQ4O4ABpjBNE2qohCLJjA1xQrF3uPe39+np6elkvob8fHxwURY4UajUVrJ/NnQy0pAaOGA0MIBoYUDQgsHhBYOCC0cEFo4ICDCobtc8gkQaZ9MWLh8Pn93d+e/6Lqum8vlRFOXZJBPoFKpGIZxdHQkNIoF89JfKpVeXl6iFgnQXS75BGA+2ffLSvHCobtcqkwyKi2c2KWK7nKhm2QBgFUV3eVCN8k4C5nfAt3lQjfJiOiMQ3e50E2yAGLCobtc6CbZ/2CKRXxVpT/A5VJiktGUH0d8ILpc8sNhPllYOEhxQHS55Ier8sn0Sz4QWjggtHBAaOGA0MIBoYUDQgsHhBYOCC0cEFo4ILRwQACFS6cHbULDlTAICyfvraHbg/IMhAiux6Xfg6Z2OJhBzXocTbEHTe1wMIOsPSgPdHtQlcGIVlXR7UFJBsgKsDzQ7UF5hrRnHLo9qMpgTFs4dHtQmcHIFItJV1X6A+zBiTTBxQuH1YOmdjiAQdYexOpBUztcCYN+yQdCCweEFg4ILRwQWjggtHBAaOGA0MIBoYUDQgsHBCtceIONMNB70H6iyzU3Nxe/gwZ6DxqKy8XZi4V56Y/fIgirB01hAjCGYrHIRFjhDg8PY4TD6kFTmMCkXC7btsPb4QRA70HDcrnCmxFyhEtiYaD3oKXpcvX7/fBGXWwNtW37/Pw8ngi9By1ll+v19XVhYYEJsjNuZmZmMBhEUaD3oKG4XI+Pj0tLS0yQ8wCczWb7/T6XAr0HDcXlenh4YHYWJYRXTTzPu7i4iKovKD1oahMQYhiPxzs7O+E4vwxzvxog/R40hQmIMtTr9aRbdvvf/nanzH8B4/G4XC5zD/Ff8ovF4vX1dcxl/4/g8vJyY2ODe8ig+l+vgKCXlYDQwgHxG7I3rc+/9gwmAAAAAElFTkSuQmCC\"></div>"
      ],
      "text/plain": [
       "0   0   1   0\n",
       "\n",
       "0   0   0   1\n",
       "\n",
       "1   0   0   0\n",
       "\n",
       "0   1   0   0"
      ]
     },
     "execution_count": 157,
     "metadata": {
      "text/html": [],
      "text/plain": []
     },
     "output_type": "execute_result"
    }
   ],
   "source": [
    "X[2, 1]//MatrixForm"
   ]
  },
  {
   "cell_type": "markdown",
   "id": "965dce7c",
   "metadata": {},
   "source": [
    "__example:__ Hadamart gate"
   ]
  },
  {
   "cell_type": "code",
   "execution_count": 166,
   "id": "6f93f257",
   "metadata": {
    "tags": []
   },
   "outputs": [
    {
     "data": {
      "text/html": [
       "<div><img alt=\"Output\" src=\"data:image/png;base64,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\"></div>"
      ],
      "text/plain": [
       "     1           1                1           1          1             1\n",
       "{{-------, 0, -------, 0}, {0, -------, 0, -------}, {-------, 0, -(-------), 0}, \n",
       "  Sqrt[2]     Sqrt[2]          Sqrt[2]     Sqrt[2]    Sqrt[2]       Sqrt[2]\n",
       " \n",
       "           1             1\n",
       ">   {0, -------, 0, -(-------)}}\n",
       "        Sqrt[2]       Sqrt[2]"
      ]
     },
     "execution_count": 167,
     "metadata": {
      "text/html": [],
      "text/plain": []
     },
     "output_type": "execute_result"
    }
   ],
   "source": [
    "H[n_Integer, k_Integer] /; 1 <= k <= n := \n",
    " op[n, k, (\\[Sigma]x + \\[Sigma]z)/Sqrt[2]]\n",
    "\n",
    "H[2, 1]//Normal"
   ]
  },
  {
   "cell_type": "markdown",
   "id": "5337bb87",
   "metadata": {
    "slideshow": {
     "slide_type": "slide"
    }
   },
   "source": [
    "### Pauli rotations: $\\hat{R}_x(\\phi )\\propto e^{-i \\phi  \\left.\\hat{\\sigma }_x\\right/2}$ etc.\n",
    "\n",
    "![0i227ky4sz78g](img/0i227ky4sz78g.png)"
   ]
  },
  {
   "cell_type": "code",
   "execution_count": 176,
   "id": "d9ed40e0",
   "metadata": {
    "tags": []
   },
   "outputs": [],
   "source": [
    "RX[n_Integer, k_Integer, \\[Phi]_] /; 1 <= k <= n := \n",
    " op[n, k, (1 + E^(I \\[Phi]))/2 id + (1 - E^(I \\[Phi]))/2 \\[Sigma]x]\n",
    "RY[n_Integer, k_Integer, \\[Phi]_] /; 1 <= k <= n := \n",
    " op[n, k, (1 + E^(I \\[Phi]))/2 id + (1 - E^(I \\[Phi]))/2 \\[Sigma]y]\n",
    "RZ[n_Integer, k_Integer, \\[Phi]_] /; 1 <= k <= n := \n",
    " op[n, k, (1 + E^(I \\[Phi]))/2 id + (1 - E^(I \\[Phi]))/2 \\[Sigma]z]"
   ]
  },
  {
   "attachments": {
    "image.png": {
     "image/png": "[encoded data removed]"
    }
   },
   "cell_type": "markdown",
   "id": "84b36255",
   "metadata": {
    "slideshow": {
     "slide_type": "slide"
    }
   },
   "source": [
    "### controlled operator\n",
    "\n",
    "controlled operator: in a set of $n$ qubits, only if all of the qubits in the list $\\lambda$ are in state 1 then the operator $\\hat{A}$ is applied to the system; otherwise no operation is applied\n",
    "\n",
    "![0kcub9tjalgff](img/0kcub9tjalgff.png)\n",
    "\n",
    "\n",
    "\n",
    "To define the controlled-NOT or CNOT gate, we first make a general definition for controlled gates. The $n$-qubit operator ${CTRL[n,\\lambda,A]}$  acts like the operator $\\op{A}$ if all qubits in the list $\\lambda=\\{i_1,i_2,\\ldots,i_k\\}$ are in the \\ket{1} state, and has no action (acts like the identity operator on $n$ qubits) if any of the qubits in the list $\\lambda$ are in the \\ket{0} state:\n",
    "\\begin{equation}\n",
    "\\begin{split}\n",
    "\\text{CTRL} &= \\left[\\bigotimes_{j=1}^k\\ket{1}\\bra{1}^{(i_j)}\\right] \\cdot \\op{A} + \\left[\\one-\\bigotimes_{j=1}^k\\ket{1}\\bra{1}^{(i_j)}\\right] \\cdot \\one\n",
    "\\\\\n",
    "&= \\one + \\left[\\bigotimes_{j=1}^k\\ket{1}\\bra{1}^{(i_j)}\\right] \\cdot (\\op{A}-\\one)\n",
    "\\end{split}\n",
    "\\end{equation}\n",
    "\n",
    "Its circuit representation is\n",
    "![image.png](attachment:image.png)"
   ]
  },
  {
   "cell_type": "code",
   "execution_count": 187,
   "id": "0519b2ac",
   "metadata": {},
   "outputs": [],
   "source": [
    "CTRL[n_Integer, \\[Lambda]_ /; VectorQ[\\[Lambda], IntegerQ], A_] /; (Unequal @@ \\[Lambda]) \\[And] Min[\\[Lambda]] >= 1 \\[And] Max[\\[Lambda]] <= n \\[And] Dimensions[A] == {2^n, 2^n} := IdentityMatrix[2^n, SparseArray] + Apply[Dot, op[n, #, P1] & /@ \\[Lambda]].(A - IdentityMatrix[2^n, SparseArray])"
   ]
  },
  {
   "cell_type": "markdown",
   "id": "f638b220",
   "metadata": {
    "slideshow": {
     "slide_type": "slide"
    }
   },
   "source": [
    "## two-qubit gates\n",
    "\n",
    "### SWAP gate: exchanges the state of qubits $j$ and $k$ in a set of $n$ qubits\n",
    "\n",
    "The swap gate swaps two qubits. With respect to the basis $|00\\rangle$, $|01\\rangle$, $|10\\rangle$, $|11\\rangle$, it is represented by the matrix:\n",
    "\n",
    "$$ \\mbox{SWAP} = \\begin{bmatrix} 1&0&0&0\\\\0&0&1&0\\\\0&1&0&0\\\\0&0&0&1\\end{bmatrix} . $$\n",
    "\n",
    "\n",
    "![1deepior4cz2n](img/1deepior4cz2n.png)"
   ]
  },
  {
   "cell_type": "code",
   "execution_count": 196,
   "id": "19cbcb13",
   "metadata": {},
   "outputs": [],
   "source": [
    "SWAP[n_Integer, {j_Integer, k_Integer}] /; 1 <= j <= n \\[And] 1 <= k <= n \\[And] j != k := (IdentityMatrix[2^n, SparseArray] + X[n, j].X[n, k] + Y[n, j].Y[n, k] + Z[n, j].Z[n, k])/2\n"
   ]
  },
  {
   "cell_type": "code",
   "execution_count": 201,
   "id": "c198db13",
   "metadata": {},
   "outputs": [
    {
     "data": {
      "text/html": [
       "<div><img alt=\"Output\" src=\"data:image/png;base64,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\"></div>"
      ],
      "text/plain": [
       "1   0   0   0\n",
       "\n",
       "0   0   1   0\n",
       "\n",
       "0   1   0   0\n",
       "\n",
       "0   0   0   1"
      ]
     },
     "execution_count": 201,
     "metadata": {
      "text/html": [],
      "text/plain": []
     },
     "output_type": "execute_result"
    }
   ],
   "source": [
    "SWAP[2, {1, 2}] // Normal // MatrixForm\n"
   ]
  },
  {
   "attachments": {
    "image.png": {
     "image/png": "[encoded data removed]"
    }
   },
   "cell_type": "markdown",
   "id": "de8b5017",
   "metadata": {
    "slideshow": {
     "slide_type": "slide"
    }
   },
   "source": [
    "### square root of the SWAP gate:\n",
    "\n",
    "The SWAP gate performs half-way of a two-qubit swap. It is universal such that any many-qubit gate can be constructed from only SWAP and single qubit gates. The SWAP gate is not, however maximally entangling; more than one application of it is required to produce a  Bell state  from product states. With respect to the basis  $|00\\rangle$, $|01\\rangle$, $|10\\rangle$,   $|11\\rangle$,  it is represented by the matrix:\n",
    "\n",
    "$$\n",
    "\\sqrt{ \\text{SWAP} } = \n",
    "\\begin{bmatrix} \n",
    "1  &  0  &  0  &  0  \\\\\n",
    "0  &  \\frac{1}{{2}} (1+i)  &  \\frac{1}{{2}} (1-i)  &  0  \\\\\n",
    "0  &  \\frac{1}{{2}} (1-i)  &  \\frac{1}{{2}} (1+i)  &  0  \\\\\n",
    "0  &  0  &  0  &  1 \\\\\n",
    "\\end{bmatrix} .\n",
    "$$\n",
    "\n",
    "This gate arises naturally in systems that exploit  exchange interaction .\n",
    "\n",
    "![image.png](attachment:image.png)"
   ]
  },
  {
   "cell_type": "code",
   "execution_count": 210,
   "id": "37c1331e",
   "metadata": {},
   "outputs": [],
   "source": [
    "SQRTSWAP[n_Integer, {j_Integer, k_Integer}] /; \n",
    "  1 <= j <= n \\[And] 1 <= k <= n \\[And] j != k := (3 + I)/\n",
    "   4 IdentityMatrix[2^n, SparseArray] + (1 - I)/\n",
    "   4 (X[n, j].X[n, k] + Y[n, j].Y[n, k] + Z[n, j].Z[n, k])"
   ]
  },
  {
   "cell_type": "markdown",
   "id": "8f96f47b",
   "metadata": {
    "slideshow": {
     "slide_type": "slide"
    }
   },
   "source": [
    "### CNOT gate\n",
    "\n",
    "CNOT gate: in a set of $n$ qubits, if qubit $j$ is in state 0 then there is no effect on qubit $k$, whereas if qubit $j$ is in state 1 then the NOT operator $\\hat{\\sigma }_x$ acts on qubit $k$\n",
    "\n",
    "![01qx304xxu6f9](img/01qx304xxu6f9.png)"
   ]
  },
  {
   "cell_type": "code",
   "execution_count": 219,
   "id": "9c3f0264",
   "metadata": {
    "tags": []
   },
   "outputs": [],
   "source": [
    "\n",
    "CNOT[n_Integer, j_Integer -> k_Integer] /; 1 <= j <= n \\[And] 1 <= k <= n \\[And] j != k := CTRL[n, {j}, op[n, k,\\[Sigma]x]]\n"
   ]
  },
  {
   "cell_type": "code",
   "execution_count": 225,
   "id": "94d25bf2",
   "metadata": {
    "tags": []
   },
   "outputs": [
    {
     "data": {
      "text/html": [
       "<div><img alt=\"Output\" src=\"data:image/png;base64,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\"></div>"
      ],
      "text/plain": [
       "0   0   1   0\n",
       "\n",
       "0   0   0   1\n",
       "\n",
       "1   0   0   0\n",
       "\n",
       "0   1   0   0"
      ]
     },
     "execution_count": 225,
     "metadata": {
      "text/html": [],
      "text/plain": []
     },
     "output_type": "execute_result"
    }
   ],
   "source": [
    "op[2, 1, \\[Sigma]x] //Normal//MatrixForm"
   ]
  },
  {
   "cell_type": "code",
   "execution_count": 230,
   "id": "62a5a8d8",
   "metadata": {
    "tags": []
   },
   "outputs": [
    {
     "data": {
      "text/html": [
       "<div><pre style=\"&#102;&#111;&#110;&#116;&#45;&#102;&#97;&#109;&#105;&#108;&#121;&#58;&#32;&#34;&#67;&#111;&#117;&#114;&#105;&#101;&#114;&#32;&#78;&#101;&#119;&#34;&#44;&#67;&#111;&#117;&#114;&#105;&#101;&#114;&#44;&#109;&#111;&#110;&#111;&#115;&#112;&#97;&#99;&#101;&#59;\">&#123;&#123;&#49;&#44;&#32;&#48;&#44;&#32;&#48;&#44;&#32;&#48;&#125;&#44;&#32;&#123;&#48;&#44;&#32;&#49;&#44;&#32;&#48;&#44;&#32;&#48;&#125;&#44;&#32;&#123;&#48;&#44;&#32;&#48;&#44;&#32;&#48;&#44;&#32;&#49;&#125;&#44;&#32;&#123;&#48;&#44;&#32;&#48;&#44;&#32;&#49;&#44;&#32;&#48;&#125;&#125;</pre></div>"
      ],
      "text/plain": [
       "{{1, 0, 0, 0}, {0, 1, 0, 0}, {0, 0, 0, 1}, {0, 0, 1, 0}}"
      ]
     },
     "execution_count": 230,
     "metadata": {
      "text/html": [],
      "text/plain": []
     },
     "output_type": "execute_result"
    }
   ],
   "source": [
    "CNOT[2, 1 -> 2]//Normal"
   ]
  },
  {
   "cell_type": "markdown",
   "id": "87560994",
   "metadata": {
    "slideshow": {
     "slide_type": "slide"
    }
   },
   "source": [
    "### controlled phase shift\n",
    "\n",
    "\n",
    "\n",
    "![044n3yhssfh5v](img/044n3yhssfh5v.png)"
   ]
  },
  {
   "cell_type": "markdown",
   "id": "5e848af8",
   "metadata": {
    "slideshow": {
     "slide_type": "slide"
    }
   },
   "source": [
    "**exercício: define the gate Controlled phase shift para 2 qubits and apply to all states of the basis**\n",
    "\n",
    "The 2-qubit controlled phase shift gate is:\n",
    "\n",
    "$$\\mathrm{CPHASE}(\\varphi) = \\begin{bmatrix} 1 & 0 & 0 & 0 \\\\ 0 & 1 & 0 & 0 \\\\ 0 & 0 & 1 & 0 \\\\ 0 & 0 & 0 & e^{i \\varphi} \\end{bmatrix}$$\n",
    "\n",
    "With respect to the computational basis, it shifts the phase with $\\varphi$ only if it acts on the state $|11\\rangle$:\n",
    "\n",
    "$$ |a,b\\rangle \\mapsto \\begin{cases}\n",
    "|a,e^{i\\varphi}b\\rangle & \\mbox{for }a=b=1 \\\\\n",
    "|a,b\\rangle & \\mbox{otherwise.}\n",
    "\\end{cases}$$\n",
    "\n",
    "The CZ gate  is the special case where $\\varphi = \\pi$."
   ]
  },
  {
   "cell_type": "markdown",
   "id": "3f20cab1",
   "metadata": {
    "slideshow": {
     "slide_type": "slide"
    }
   },
   "source": [
    "## three-qubit gates\n",
    "\n",
    "### CCNOT\n",
    "\n",
    "CCNOT (Toffoli) gate: in a set of $n$ qubits, if both qubits $i$ and $j$ are in state 1, then the NOT operator $\\hat{\\sigma }_x$ acts on qubit $k$\n",
    "\n",
    "![0p3mz0azr4x3m](img/0p3mz0azr4x3m.png)"
   ]
  },
  {
   "cell_type": "code",
   "execution_count": 247,
   "id": "8e257c30",
   "metadata": {},
   "outputs": [],
   "source": [
    "CCNOT[n_Integer, {i_Integer, j_Integer} -> k_Integer] /; 1 <= i <= n \\[And] 1 <= j <= n \\[And] 1 <= k <= n \\[And] Unequal[i, j, k] := CTRL[n, {i, j}, op[n, k, \\[Sigma]x]]"
   ]
  },
  {
   "cell_type": "markdown",
   "id": "1a15ad87",
   "metadata": {},
   "source": [
    "### controlled SWAP\n",
    "\n",
    "controlled SWAP (Fredkin) gate: in a set of $n$ qubits, if qubit $i$ is in state 0 then there is no effect on qubits $j$ and $k$, whereas if qubit $i$ is in state 1 then the state of qubits $j$ and $k$ is exchanged"
   ]
  },
  {
   "cell_type": "code",
   "execution_count": 256,
   "id": "1b1af6f7",
   "metadata": {},
   "outputs": [],
   "source": [
    "CSWAP[n_Integer, i_Integer -> {j_Integer, k_Integer}] /; 1 <= i <= n \\[And] 1 <= j <= n \\[And] 1 <= k <= n \\[And] Unequal[i, j, k] := CTRL[n, {i}, SWAP[n, {j, k}]]"
   ]
  },
  {
   "cell_type": "markdown",
   "id": "d22aa8df",
   "metadata": {},
   "source": [
    "## Universal quantum gates\n",
    "\n",
    "A set of universal quantum gates is any set of gates to which any operation possible on a quantum computer can be reduced, that is, any other unitary operation can be expressed as a finite sequence of gates from the set. \n",
    "\n",
    "Technically, this is impossible with anything less than an uncountable set of gates since the number of possible quantum gates is uncountable, whereas the number of finite sequences from a finite set is countable. To solve this problem, we only require that any quantum operation can be approximated by a sequence of gates from this finite set. Moreover, for unitaries on a constant number of qubits, the Solovay–Kitaev theorem guarantees that this can be done efficiently.\n",
    "\n",
    "* The rotation operators $R_x(θ)$, $R_y(θ)$, $R_z(θ)$, the phase shift gate $P(φ)$ and CNOT form a widely used universal set of quantum gates.\n",
    "\n",
    "* The one-qubit gates together with the CNOT gate are universal for quantum computing\n",
    "* The gates X, H, T and CNOT are universal for quantum computing."
   ]
  },
  {
   "cell_type": "markdown",
   "id": "db83d510",
   "metadata": {
    "slideshow": {
     "slide_type": "slide"
    }
   },
   "source": [
    "## a simple circuit\n",
    "![1qjtuxcg0k5kk](img/1qjtuxcg0k5kk.png)\n",
    "\n",
    "As we have shown, the CNOT gate can generate entanglement. In particular, the entangled states of the so-called Bell basis, defined by\n",
    "\n",
    "$$|\\Phi^+\\rangle = \\frac{1}{\\sqrt{2}} (|0 0\\rangle + |1 1\\rangle)$$\n",
    "\n",
    "$$|\\Phi^-\\rangle = \\frac{1}{\\sqrt{2}} (|0 0\\rangle - |1 1\\rangle)$$\n",
    "\n",
    "$$|\\Psi^+\\rangle = \\frac{1}{\\sqrt{2}} (|0 1\\rangle + |1 0\\rangle)$$\n",
    "\n",
    "$$|\\Psi^-\\rangle = \\frac{1}{\\sqrt{2}} (|0 1\\rangle - |1 0\\rangle)$$\n",
    "\n",
    "can be obtained starting from the computational basis, by means of the circuit represented in the figure. It is easy to check that this circuit produces the following transformations:\n",
    "\n",
    "$$|0 0\\rangle \\rightarrow |\\Phi^+\\rangle $$\n",
    "$$|1 0\\rangle \\rightarrow |\\Phi^-\\rangle $$\n",
    "$$|0 1\\rangle \\rightarrow |\\Psi^+\\rangle $$\n",
    "$$|1 1\\rangle \\rightarrow |\\Psi^-\\rangle $$\n",
    "\n",
    "We note that this transformation can be inverted simply by running the circuit from right to left, since both CNOT and Hadamard gates are self-inverse. As a result, any state of the Bell basis is transformed into a separable state, this is possible since we have used a two-qubit gate. At this point it is possible, via a standard measurement in the computational basis, to establish which of the four Bell states was present at the beginning."
   ]
  },
  {
   "cell_type": "markdown",
   "id": "34f79208",
   "metadata": {
    "slideshow": {
     "slide_type": "slide"
    }
   },
   "source": [
    "### the operator for the circuit:\n",
    "\n",
    "__Note the order change!__"
   ]
  },
  {
   "cell_type": "code",
   "execution_count": 1514,
   "id": "5f9e685b",
   "metadata": {},
   "outputs": [
    {
     "data": {
      "text/html": [
       "<div><img alt=\"Output\" src=\"data:image/png;base64,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\"></div>"
      ],
      "text/plain": [
       "{{1, 0, 0, 0}, {0, 1, 0, 0}, {0, 0, 0, 1}, {0, 0, 1, 0}}[2, 1 -> 2] . \n",
       " \n",
       "         1        1          1          1\n",
       ">   {{-------, -------}, {-------, -(-------)}}[2, 1]\n",
       "      Sqrt[2]  Sqrt[2]    Sqrt[2]    Sqrt[2]"
      ]
     },
     "execution_count": 1515,
     "metadata": {
      "text/html": [],
      "text/plain": []
     },
     "output_type": "execute_result"
    }
   ],
   "source": [
    "S = CNOT[2, 1 -> 2].H[2, 1];\n",
    "Normal[S] // MatrixForm"
   ]
  },
  {
   "cell_type": "code",
   "execution_count": 1530,
   "id": "574b0a1d-1c41-4c31-9912-e9e3508f2a92",
   "metadata": {
    "tags": []
   },
   "outputs": [
    {
     "data": {
      "text/html": [
       "<div><img alt=\"Output\" src=\"data:image/png;base64,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\"></div>"
      ],
      "text/plain": [
       "{{1, 0, 0, 0}, {0, 1, 0, 0}, {0, 0, 0, 1}, {0, 0, 1, 0}}[2, False]"
      ]
     },
     "execution_count": 1530,
     "metadata": {
      "text/html": [],
      "text/plain": []
     },
     "output_type": "execute_result"
    }
   ],
   "source": [
    "CNOT[2, 1 <- 2]// MatrixForm"
   ]
  },
  {
   "cell_type": "markdown",
   "id": "a45a6563",
   "metadata": {},
   "source": [
    "![0e4ji2q6vkwoe](img/0e4ji2q6vkwoe.png)"
   ]
  },
  {
   "cell_type": "markdown",
   "id": "6d4c4a56",
   "metadata": {
    "slideshow": {
     "slide_type": "slide"
    }
   },
   "source": [
    "### the basis set:\n",
    "\n",
    "![1lim5oajowa54](img/1lim5oajowa54.png)"
   ]
  },
  {
   "cell_type": "code",
   "execution_count": 287,
   "id": "7c378f1f",
   "metadata": {},
   "outputs": [
    {
     "data": {
      "text/html": [
       "<div><img alt=\"Output\" src=\"data:image/png;base64,iVBORw0KGgoAAAANSUhEUgAAAGgAAAFjCAIAAABeztmBAAAAznpUWHRSYXcgcHJvZmlsZSB0eXBlIGV4aWYAAHjabVBBDsIwDLv3FTwhTVKnfU4HReIHPB93HYghLC12XCdbl8bzcU+XCc2SvERFA4Tw5k07RZWFxVnaXnfgfZbPfoItmTu5fA2MI7+d/cBirT+LRJew+QZq82PgWGS6/NxXvx157bWeF/0A8vn0v71bKApyOKurRKBR10RJQlEpgTuuAIMZNxW/kgciOIaYCetzcEJHnNOD/4jGbV7B5uPWybZX6HI7e2V1q7qxl/10XucFGC1ahkwreAkAAAAJcEhZcwAADsQAAA7EAZUrDhsAAAA8dEVYdFNvZnR3YXJlAENyZWF0ZWQgd2l0aCB0aGUgV29sZnJhbSBMYW5ndWFnZSA6IHd3dy53b2xmcmFtLmNvbVyipoUAAAAhdEVYdENyZWF0aW9uIFRpbWUAMjAyNDowMzowNiAyMDozMjo0OMTBgpsAAAl9SURBVHic7Z0xbxPdEobXVymQaClcUCCvO1oKJBSgQNglZUqXQB2hFJFSQBO3KSgoKJCwfwBIOCBLKIaWMiDZEJClNJZSIJTGkr9i790bHa+N/c759uzsvE+BknV2Mn6y9tp+mT2V2WwWkfX5T+gGtEJxIAvFvXv3btFNjx8/rvyPwWAA/FZhhdwa+PDhw3Q6zb5tlsXZ2dne3l7mTY1GI47j5Ov9/f0oio6OjjJ/chHCCnk28OXLl5cvX2belC1uZ2fn9PR0fvvR0VEURaPRKN0Sx/GjR49Wb1pYIf8GdnZ2zs/P57dniPv9+/f29nZmlf39/fRvlTax6LD9Nyrk38Dx8fHBwcH89owdXr16tejQbTQajUYj+brT6URRlPx78Q+4HGGFIA20Wq35jRknh48fP968eXP5k2u73d7d3Z0JXgMKK+TZQLVaHY/HzsaN+Z+bTqcbGxnbU5rNZhRFw+FwnT59Vsi5gTt37rx58+bhw4cXN7pH3Hg8rlari0rUarVer1er1dIXK79+/YrjuFarrdixsEKQBq5du/bt2zdnoyvu69evcRwvKnH79u0oira3t9Mt/X7//v37KzYtrxCkgXq9nnFsOs95BwcH79+/X/LkGsex8yJo9SdmLxWCNHDv3j1ni/tcNplMlj/BDYfDZrNZqVRS7yv9of1VCNLA/PuHDEfLxUVL342tiLBC/g1cvXrV2eI+x/3582f+h8j8yxFX3GQyyasZ3fBjJRCKA6E4EIoDoTgQigOhOBCKA0HElSDliqKoXq9XKpVut4vtvra4ZrN5eHiYfrSwubm5buvCCvIG2u12pVJ59uzZWnu5OJ+WtFqtHz9+LPp0pQQpV6fTSTKHpFSn01llr7t37zpb1hNXgpTL2RcWt95Dtd/v1+v15Otut7u5uZlERN+/f8+ngrwBX4Bn1RKkXEL+8pllJiVIueSsd8SVIOXyxXriSpByecM5WSw/q85KkXIl5PpyJKHRaCzyviLCCpLdR6PR/NFz8SVOJvPikJOD6pSrVqvNfJyL+SYfhOJAKA6E4kAoDoTiQCgOhOJAKA6E4kAoDkRlPBiJwz15A/riQXm4J78LUaQtHsTCPXkD6uNBZ0dAHNaA+nhQjq8GtMaDcoQNqIwH5cgbUBYPyvHVgLJ4UI63BpyTRfHjwQT4rIo1oD4exMI9eQPq40Ff4Z78LvBNPgjFgVAcCMWBUBwIxYFQHAjFgVAcCMWBGE255BUsplxehuDWEzcYDHq93uHhYfLtkydP4jh+/fp1bhW63W6/35/NZvBVZeQVEtYT9/nz54sflg4Gg9Fo9Pz589wqbG1tCT/YkFdIMJdy+cJuyiXEaMolx1zK5QtzKZcv1hO3tbUVx3F6P9vtdq/Xu2ghhwpFwQlvSp9yGR2Ck6dcHIILDMWBUBwIxYFQHAjFgVAcCMWBUBwIxYGESbkiWchUhJgtQMolDJmCx2z/xXnT/2/PcgmHsUINk4Wf5XL2XVdcqGGy8LNcQooTswVLuYQEj9nCpFxCihCz5Z1yCSlOzJZ3yiWkQDGbc7LIYZYrAR7GCjJMFn6Wy8swVv4xW/iUy0vIFPxakxHf5MNQHAjFgVAcCMWBUBwIxYFQHAjFgVAcCMWBGI0HhQ1ENuNBlUNwwhm04A2k5D0EJ5xBC95Airl40Bd240EhRuNBOebiQV+Yiwd9kfcQnJDgDfwfJ/UqfTyodQgueDzIIbjAUBwIxYFQHAjFgVAcCMWBUBwIxYFQHIjKlEu+u8UhuIIsaKYs5ZJnVPK7kKAs5ZJnVPK7kKAs5ZJjfQhOjsUhODnmhuDkGB2Ck+PrLihLueR4uwtOeFPwlMvugmbCkIkLmqmH4kAoDoTiQCgOhOJAKA6E4kAoDoTiQCgOxGg8KK9gMR60OARndyW44PGg0SG44mA3HhRiNB6UYy4e9IW5eNAX5uJBbzipV+njQaNDcFwJTj0UB0JxIBQHQnEgFAdCcSAUB0JxIBQHAooLO4OmciW44DNoKleCE67jNhMv5aZ1JTjn1wPihEu5aV0JTo4wJ1O/EpwcYU6mciU4OcKcTN9KcHKEOZnWleDkCHMyxSvBXTwZAWfVmXgpN5UrwYWaQfO7O1BBmnIVZAaNK8EphuJAKA6E4kAoDoTiQCgOhOJAKA6E4kAoDsRoPBjlPwRXgngwwBBc8EtUBp/CS1n7v+uHvURl8Cm8FHPxoC/sxoNCjMaDcszFg74wFw/6Im9xwjG6Ak3hOalX6ePBMENwJYgHOQQXGIoDoTgQigOhOBCKA6E4EIoDoTgQigNRmXIVoQF9KVfwBhKUpVzBG0hRlnIFbyBFWcpVnAa0plzBG1CZchWhAWUpV3EaUJZyFacBZSlXgRpwwpuCp1xaV4ILnnIFbyCFb/JBKA6E4kAoDoTiQCgOhOJAKA6E4kAoDsRoyiWvYDHlsjjLpXVBs+Ahk9YFzeQET7l8YTflEmI05ZJjLuXyhbmUyxfmUi5vOOFN6VMuo7NcXNBMPRQHQnEgFAdCcSAUB0JxIBQHQnEgFAdCcSBh4kFhBaMrwQkrFGQluLzjQWEF+Qib1iE4YQX5CJvWITghXAlOitGV4IRYXAlOiN2V4IQUZyU4ZeLk6aLWITgvAaPFleC8pHNcCU4xFAdCcSAUB0JxIBQHQnEgFAdCcSAUB2I05RI2ENlMuVQOwQVPubQOwQVPubQOwQkpzgydMnEpwWfojKZccpQdccWZoVMmrjgzdMrEFWiGzglvSp9yaR2CC55ycQguMBQHQnEgFAdCcSAUB0JxIBQHQnEgFAdCcSAq40H57haH4IJfpDNBWTwY/CKdKcriweAX6Uwxd3KwPgQnx+IQnBxzQ3ByjA7ByTE6BCfH6BCc3ZXghBWCX6QzxdxD1RcUB0JxIBQHQnEgFAdCcSAUB0JxIBQH4oq7cuXKKrtpT7nkFVxxly9fHo/HS3YoQcoFVJjPhjIeqtPpdNH+JUi5sArzB1PGQ3WJuBKkXFiFS5cuOVtccfV6/eTkBG6rlEyn040N9/O3DHE/f/7MqyUdnJycpIliSoa45ScHgwyHwziOnY18Hfd3Pn36lMSJF8kQd+vWLfgKAaVkMpn8/aEaRdGDBw/evn2bS0sKGI/H169fz7ghM9TZ29s7Ozub316ClGvdCru7u+fn5/Pbs8Wdnp4+ffp09W7KyvHx8YsXLzJvyj45VKvVGzduLD+GLTAej1utVuZNlZnaNXXDwpcjIBQH8g8IUerOxgxrIAAAAABJRU5ErkJggg==\"></div>"
      ],
      "text/plain": [
       "0   0   0   0\n",
       "\n",
       "0   0   0   1\n",
       "\n",
       "0   0   1   0\n",
       "\n",
       "0   0   1   1\n",
       "\n",
       "0   1   0   0\n",
       "\n",
       "0   1   0   1\n",
       "\n",
       "0   1   1   0\n",
       "\n",
       "0   1   1   1\n",
       "\n",
       "1   0   0   0\n",
       "\n",
       "1   0   0   1\n",
       "\n",
       "1   0   1   0\n",
       "\n",
       "1   0   1   1\n",
       "\n",
       "1   1   0   0\n",
       "\n",
       "1   1   0   1\n",
       "\n",
       "1   1   1   0\n",
       "\n",
       "1   1   1   1"
      ]
     },
     "execution_count": 288,
     "metadata": {
      "text/html": [],
      "text/plain": []
     },
     "output_type": "execute_result"
    }
   ],
   "source": [
    "B[n_Integer /; n >= 1] := Tuples[{0, 1}, n]\n",
    "B[4]//MatrixForm"
   ]
  },
  {
   "cell_type": "markdown",
   "id": "531d8d89",
   "metadata": {
    "slideshow": {
     "slide_type": "slide"
    }
   },
   "source": [
    "### operate on the $|00\\rangle$ input state:\n",
    "\n",
    "* Initially, the state of the system is |00⟩\n",
    "* After we apply the H gate, the state is \n",
    "$$\\dfrac{|00⟩ + |10⟩}{2}$$\n",
    "* When we apply the CNOT gate, the state changes to\n",
    "$$\\dfrac{|00⟩ + |11⟩}{2}$$"
   ]
  },
  {
   "cell_type": "code",
   "execution_count": 297,
   "id": "71298f94",
   "metadata": {},
   "outputs": [
    {
     "data": {
      "text/html": [
       "<style>\n",
       "\t\t\t\t\t\t\t\t\t\t\t\t\t.grid-container {\n",
       "\t\t\t\t\t\t\t\t\t\t\t\t\t\tdisplay: inline-grid;\n",
       "\t\t\t\t\t\t\t\t\t\t\t\t\t\tgrid-template-columns: auto;\n",
       "\t\t\t\t\t\t\t\t\t\t\t\t\t}\n",
       "\t\t\t\t\t\t\t\t\t\t\t\t</style>\n",
       "\n",
       "\t\t\t\t\t\t\t\t\t\t\t\t<div><div class=\"grid-container\"><div class=\"grid-item\"><img alt=\"Output\" src=\"data:image/png;base64,iVBORw0KGgoAAAANSUhEUgAAAJcAAAAvCAIAAABhZM82AAAAzXpUWHRSYXcgcHJvZmlsZSB0eXBlIGV4aWYAAHjabU/bDQMhDPtnio4QkuDAOFyPk7pBx294qBWnWiJ2nAcQ2vt1hUcHRwqaLKMA5NCihauLTBOTI5URB4qtWtz9wNfyq1vpV0Bb/rH7hsmcb4uIp5B+g2vRNbAWCU8/1pkfq59rzvuiG0Dfp//NVYyREE09KpMZiuscXDohMSXDhSfgjREnkz6dG8x8DNY7pPbBDm62d7cAcePsX5B+VKqzjAiebvWcPSYhPjynUe3f+QBZ8lqvG03v4QAAAAlwSFlzAAAOxAAADsQBlSsOGwAAADx0RVh0U29mdHdhcmUAQ3JlYXRlZCB3aXRoIHRoZSBXb2xmcmFtIExhbmd1YWdlIDogd3d3LndvbGZyYW0uY29tXKKmhQAAACF0RVh0Q3JlYXRpb24gVGltZQAyMDI0OjAzOjA2IDIwOjMyOjUw0wE76AAABQRJREFUeJztm09IKl8Ux+88Wrho0SJIIigcIdu1a5PiyhEiyJ0tgpYlhBASCEKLBmLc1Epp1VJb1bI/YKIXizYmBBY4g9DGhZCLIKHgvsV9v/nNu/7BmqOj8+azGu9cv3M8Z+49958cIQRZjDi/jDbAAgDgKDqdTo7j0uk0rKyZ6IeLwKIYj8c5jhNFEUrQfPTPRTBRTKfTmUyGEDIzMwMiaD766iKYKAaDwcvLSxAps9JXF1mjGzPQJooYY47jnE7n4K2x6EIoFOo0LGKjiDEWRZEQUqlUBmKbRa8kEglCSC6Xi8fjzC02iqIoWhlumEkkEtVqlSm08qIZsKJoBmCiqCgKx3Ecx7ndboTQ+vq6NT5i6KuLxkBUHA6Htarenb66yOpRzcCoRpFOnigYY8N1jGUko+j3+6+vrwkhhBBJktxu988CAKVjPORvBEEgw00+n0cIybKslvA8v729bZTO4Gk1cvTaYqFQ4Hne4XDQjxhjWZaTyaRROsMAG0X1Vw0tmUxGHaCn02m3251KpRBCiqIYomMIjJG/mHtzc3MDNUcH8Xg8FosR3cN3KJ2B4fF4Hh4etCX/zxcVRfH5fG0Xwev1+u7uLqwpCwsL0Wj0x1/3+/0IIf1L9lA65XL58PBQpwhDIBAIBAKt5cFgMBQK0Ys/RTQ9yrKMEBqV3M6YKkkSz/NG6RgC7fxTqRT9+KdHpSsLHo9n+A8+eTwehFAkElFLMpmMz+czSmfwYIxzuRwhhG2LKsY2R2pSPp/vXo3nebXRSJKE/p4wAOr0LjVIJElify9Tw9j5oiAIqLeOndZs+yIC6nxLamC0GgOzGq7l8fGx0Wh0qWC3210uV9tbm5ubV1dXvYyTu29lQ+l8S6p3stls9woul8tut/cuCB9FSZK0L3ibR451fGgsFkMI7e3t6bQBSgdWilKr1c7OzpaWlrrU+fZpR6Zt6uxRy+VyMpn8wRfpiFH/EBFKB1ZKSyqVKpfLehRae1TgKCaTSZ0mmp79/X2dCn1fR315eemU8yz6B3AUm80mrKDJqNVqExMT4LKQUaxUKvPz8/RaPWZCAXzKSIMx9nq99BrQRZBRVE1UFIXneXWmzPO8dZKK8vT0tLi4iKBdBLkzVSqVqIl0PW95eZmWi6Ioy/KobqP3Bz0uat07Y6PY41Lq8/Nz96m9ln/z73D39/dMSaPR6JQUe3cRxri1pbFRDAaDuVyuy1HJRqOxs7MTjUaPj4+15dVqdXZ2tu1XCoUCQmh6erpHQ0edSqWysbERjUYvLi605dlsVk2KDL24iB70EkUxkUiw9747WSkWi8VikRCytrb29vamlp+entJyBrrnNfzHeQC5ubl5fX39+Pjw+/3a8k4zRf0u+nYUVW5vb7VmRSKR9g/40btiDo6Ojs7Pz9WPnaKo30U/H6N6vd5SqaRmx6+vr9Y6tFum79o/yNbW1snJCb1+f38fHx9vrQPiIl0zjXA4TLNjrVabmppi7jqdTlmWZVke/hNZfcJmswmCQLMjxlgdkaqAuUhPQyb/ZcdUKnV3d6ctp9saQ7W5aghqdjw4OPj8/NTeAnSR3ijS7BiJRLQm0gO7DKNypAUcmh2ZpAjrIo7oPsEXCATsdvuInscdAM1mc3V1VRAE7RkfWABW4MLhcKeZogVCyGazraystCZFQADaIkKoXq9PTk7q1zErzWZzbGysyyEHncBE0cJYfgM+TFq+YQbpiwAAAABJRU5ErkJggg==\"></div><div class=\"grid-item\"><img alt=\"Output\" src=\"data:image/png;base64,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\"></div></div></div>"
      ],
      "text/plain": [
       "    1              1\n",
       "{-------, 0, 0, -------}\n",
       " Sqrt[2]        Sqrt[2]\n",
       "ket[{0, 0}]   ket[{1, 1}]\n",
       "----------- + -----------\n",
       "  Sqrt[2]       Sqrt[2]"
      ]
     },
     "execution_count": 298,
     "metadata": {
      "text/html": [],
      "text/plain": []
     },
     "output_type": "execute_result"
    }
   ],
   "source": [
    "\\[Psi]in = {1, 0, 0, 0};\n",
    "\\[Psi]out = S.\\[Psi]in\n",
    "Sum[\\[Psi]out[[i]] ket[B[2][[i]]], {i, Length[\\[Psi]out]}]"
   ]
  },
  {
   "cell_type": "markdown",
   "id": "9da68204",
   "metadata": {
    "slideshow": {
     "slide_type": "slide"
    },
    "tags": []
   },
   "source": [
    "### measurement\n",
    "\n",
    "![0izthsxwxolr8](img/0izthsxwxolr8.png)\n",
    "\n",
    "Measurement (sometimes called observation) is irreversible and therefore not a quantum gate, because it assigns the observed variable to a single value.\n",
    "\n",
    "Measuring a single qubit, whose quantum state is represented by the vector $a|0\\rangle + b|1\\rangle = \\begin{bmatrix} a \\\\ b \\end{bmatrix}$, will result in $|0\\rangle$ with probability $|a|^2,$ and in $|1\\rangle$ with probability $|b|^2$.\n",
    "\n",
    "\n"
   ]
  },
  {
   "attachments": {
    "image.png": {
     "image/png": "[encoded data removed]"
    }
   },
   "cell_type": "markdown",
   "id": "6d36b9fc",
   "metadata": {},
   "source": [
    "The output state is the maximally entangled state $$\\dfrac{|00⟩ + |11⟩}{2}$$\n",
    "\n",
    "Projective measurements on the two qubits,\n",
    "<img src=\"attachment:image.png\" width=\"400\">\n",
    "\n",
    "<!-- ![image.png](attachment:image.png) -->\n",
    "give 50% probability of finding the classical result “00” and 50% probability of finding “11”, whereas the bit combinations “01” and “10” never occur."
   ]
  },
  {
   "cell_type": "markdown",
   "id": "26567592",
   "metadata": {},
   "source": [
    "## Exercises:"
   ]
  },
  {
   "attachments": {
    "image-4.png": {
     "image/png": "[encoded data removed]"
    }
   },
   "cell_type": "markdown",
   "id": "f7a26cd2",
   "metadata": {},
   "source": [
    "__1-__ Starting from |ψ⟩ = α|0⟩ + β|1⟩, what is the final |ψ′⟩ expected from this single qubit circuit?\n",
    "![image-4.png](attachment:image-4.png)"
   ]
  },
  {
   "cell_type": "code",
   "execution_count": 1654,
   "id": "4abc3cba-fd23-4250-9b6c-fe28a0e2ca07",
   "metadata": {
    "tags": []
   },
   "outputs": [
    {
     "data": {
      "text/html": [
       "<div><img alt=\"Output\" src=\"data:image/png;base64,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\"></div>"
      ],
      "text/plain": [
       "   a         b\n",
       "------- + -------\n",
       "Sqrt[2]   Sqrt[2]\n",
       "\n",
       "   a         b\n",
       "------- - -------\n",
       "Sqrt[2]   Sqrt[2]"
      ]
     },
     "execution_count": 1654,
     "metadata": {
      "text/html": [],
      "text/plain": []
     },
     "output_type": "execute_result"
    }
   ],
   "source": [
    "\\[Sigma]z.HadamardMatrix[2].\\[Sigma]x.{a,b} //MatrixForm"
   ]
  },
  {
   "attachments": {
    "image.png": {
     "image/png": "[encoded data removed]"
    }
   },
   "cell_type": "markdown",
   "id": "a8c3074b",
   "metadata": {},
   "source": [
    "__2-__ Verify the following gate equivalences\n",
    "![image.png](attachment:image.png)"
   ]
  },
  {
   "cell_type": "code",
   "execution_count": 1663,
   "id": "d71155cb-1604-4698-8b96-1aaf2569ffb9",
   "metadata": {
    "tags": []
   },
   "outputs": [],
   "source": [
    "(*Def Variaveis*)\n",
    "Z = \\[Sigma]z;\n",
    "X = \\[Sigma]x;\n",
    "Y = \\[Sigma]y;\n",
    "S = {{1, 0}, {0, I}};\n",
    "T = {{1, 0}, {0, Exp[I*Pi/4]}};\n",
    "H = HadamardMatrix[2];\n",
    "id = IdentityMatrix[2];"
   ]
  },
  {
   "cell_type": "code",
   "execution_count": 1675,
   "id": "22ac4769-4d8d-4559-ac59-d4b9a1810407",
   "metadata": {
    "tags": []
   },
   "outputs": [
    {
     "data": {
      "text/html": [
       "<div><img alt=\"Output\" src=\"data:image/png;base64,iVBORw0KGgoAAAANSUhEUgAAAK0AAAApCAIAAADI7D7aAAAAznpUWHRSYXcgcHJvZmlsZSB0eXBlIGV4aWYAAHjabU9bDsMgDPvnFDtCSIIDx6ErlXaDHX9JQZtazRKx4zyANN6vIz0CnClpsYoGkEObNu4uKk1MztTOeKLvq5avfuK2/O5W+RUwlr9dfcNkrrdFxFNI3OBadA2sRcLTz33m2+rnXut10Q2g79P/5irGKMimHpXJDM11TS6dUJiK4cAT8MaMnUmfzgNmPgaLDukxGOBh1+6RIG7s8QWJo9Kd5YzgcNi1eNaluLO5orMa3/kAmdNa3f6p/WoAAAAJcEhZcwAADsQAAA7EAZUrDhsAAAA8dEVYdFNvZnR3YXJlAENyZWF0ZWQgd2l0aCB0aGUgV29sZnJhbSBMYW5ndWFnZSA6IHd3dy53b2xmcmFtLmNvbVyipoUAAAAhdEVYdENyZWF0aW9uIFRpbWUAMjAyNDowMzowNiAyMjozMDo1Ngf0R38AAAO8SURBVHic7Zw7bupAFEDHT28VloWsMatAgSJF8AIoUHYQ6ihVyjSeDWQHwUvAFC7AomANeGRZiG34FeghZI+H8XzD4FNEiYMn1ydX873gVFUFeh6eP6YD6PkV9HnQA0BbHmCMF4sF5bbhcOg4ThzHUoJYLBbOf7IsY78RISQrBhE06wK8xmi6KhJRFOV53vYrAMByuTx/Jb6mE9PpNAiC68a32y377W9vb+IxCKJTVyVmrE0XuT8oigJC2Lwex3GaplVVeZ7HmIN0sixLkmS9Xp9//Pj4CILg5+dHSuPa0KYLKDNGyAOMse/7xFfP5/PVaiX4J6/Z7XZBEFwkZlmW5/n39zd7C6+vr2aHBp26gLCxNl2EPNjv96PRiDvQTqRpOhwOz9/HcTwej89dKMaYsQXXdTebjar4GNCpCwgba9NFyIPNZuO6rkCoPCCEPj8/q+6bGRBC9qRRgRFdgNdYm66/zUsYY+Jop44wDAEAh8OB73bN0dbQrwuIGSNGa3j/AEKYJAmE8DKOlmV5Pf6x4Pt+p9XmXSNujKirngcY4+fnZ8FY2ZlMJgCA9/f3y5U0TV9eXjo1MhgMjsej5MjY0KwLyDBG1FXPg/1+PxgMeIPszHw+D4Lg8hgIoSRJrh+SBc/zyrJUEN1tNOsCMoyRddX2E5bLJWVTIs/zZruXPQ1uptNpWzws5HluajfJiK5KzBhRV32eWJYlZdMDQlgpOJ8UXGQbnCca0QXEjDHNE4uiMLIKEsTU0tEaXf15Yw8AxPWC2eX4fWGNLkv6Azv+Gdpo6rIkDzjmB2EYOg1UxPYLaeoi7Cs/CNJPAu8aS/qDHkEeNw8eeVxoYsm4wDFPfORxoZ8n9gDAso/EUtbBXV7cCek1viqwRlfn/iAMw/V6fT6ciKJoPB5LfzaEkOM4X19fcps1wr3oqueB7/un06nt1RrKi1XU+KrDGl31PKCfpouXF9+Eo8bX4OauNbrqeeB5HqW2R7y8WAWn06mtclw11uiq54Hruiy1PdzlxSo4Ho+ai4IuWKOLsF4oioLeUBiGaZpylxdL38ChF4MoxRpd5PcztTUhpbx4tVo1i6XYb29SFMXT05NICyLYoYuQB5QopZQXS8fscGuHLkIeTCaTtjWulPJi6ZgtPrBEF7GeNYoiSsGrYHkxna41vtvtVtb7yfmwQxfhnOnm3EfpCU3XGt/dbjebzdTFcxM7dJH3lU0txzlo++wBnVigi5wHo9GI/kEvvwSE0HkuZhYLdDmdepUeW7Gk/qBHkH+qKuXvFReGrQAAAABJRU5ErkJggg==\"></div>"
      ],
      "text/plain": [
       "1    0  = 1    0\n",
       "\n",
       "0    -1   0    -1"
      ]
     },
     "execution_count": 1677,
     "metadata": {
      "text/html": [],
      "text/plain": []
     },
     "output_type": "execute_result"
    }
   ],
   "source": [
    "(*linha 1  Z *)\n",
    "result = H.X.H;\n",
    "Row[{MatrixForm[Z],\" = \",MatrixForm[result]}]\n",
    "\n"
   ]
  },
  {
   "cell_type": "code",
   "execution_count": 1682,
   "id": "cd29abf4-293e-4b0c-ab29-eefcc10d8a81",
   "metadata": {
    "tags": []
   },
   "outputs": [
    {
     "data": {
      "text/html": [
       "<div><img alt=\"Output\" src=\"data:image/png;base64,iVBORw0KGgoAAAANSUhEUgAAAJgAAAApCAIAAABGNnemAAAAznpUWHRSYXcgcHJvZmlsZSB0eXBlIGV4aWYAAHjabU9bDsMgDPvnFDtCSIIDx6Edk3aDHX9JYZtazRKx4zyANF7PR7oFOFPSYhUNIIc2bdxdVJqYnKkd8UD71PLZT9yW390qvwLG8rezb5jM9bKIeAqJG1yLroG1SHj6uc98W/3caz0vugD0ffrfXMUYBdnUozKZobmuyaUTClMxPLAD3phxZ9LdecDMx2DRIT0GAzzs3D0SxI17fEHiqHRnOSI4HHYtnnUp/pjNFR3V+M4bHgdaikHQo+UAAAAJcEhZcwAADsQAAA7EAZUrDhsAAAA8dEVYdFNvZnR3YXJlAENyZWF0ZWQgd2l0aCB0aGUgV29sZnJhbSBMYW5ndWFnZSA6IHd3dy53b2xmcmFtLmNvbVyipoUAAAAhdEVYdENyZWF0aW9uIFRpbWUAMjAyNDowMzowNiAyMjozMDo1N3Dzd+kAAAOESURBVHic7ZtNbqswEMfh6Z0CoQiZnKGLqMkii4YjoN4gWVdd9QLxBXqDhiOELlgElEXOECyEolyDt0CPV8HggDE4w8tvUTXUH5P/FDNjD3qWZdoD/PxSbcADOTwcORJgRzLGNpsNp9t0OtV13fM8sVk3m43+lyiK6ppRSoWnkAgONTKI7XYbx3HdnzRN2+12+U+wDZ/VamXb9s/RwjCsa7xerwWmkAsKNeA7MkkSQkj1uud5QRBkWWaaZpv/uX9EUeT7/vf3d/7x/f3dtu2vry+x0YYBhRqAIxljlmWBrV3X3e/3AtMUHI9H27YLXaIoiuP48/Ozrv3r66va1RWLGoAjT6fTbDbrYh+HIAim02n+u+d58/k8X5cYY2B7wzAOh0NPxjQBixqAIw+Hg2EYkkythVL68fGR3cpiCSF132oYsKjxu3qJMQY+EiTiOI6maefzuUnjvo3hg0WNofNIQojv+4SQ4umSpunP50QVy7I4QTlqJKpRdiRjbLlcSrS1xGKx0DTt7e2tuBIEwcvLC6fLZDK5XC79mcQBkRplR55Op8lkIsNIGNd1bdsubKWU+r7/85tUMU0zTdP+TOKASY1SXrnb7TgJaRzH1RGKfLY5q9WqzgBwUlXbAojUKAc7aZpy0ltCSCbjtKRV+qUw2EGkRnlpTZJkgGi7LaoyEERqPE4/RgIQtarN2+4KRGrguCOxqDkMoBo4HCnwjHQcR6/Qh23DA6oBbNGNg47nEujAcUc+uMloHTnipRUEx9IqEOyMeGm9u2BH1/WGUYzaI8lh6KhG2ZFNDnIbVn2NAERqtF5aHcc5n8/5HiOldD6fh2H4/PwsMLeUjUq13I8a5TvSsqzr9VrXGmMNXBcQqVF2JP/4rW3VF4jnecValFc58FG4T4ZIjbIjTdPkHMe3rfoCcV03y7L1eh3HcRMPXa/XuoLEvkGkRtmRhmE0OY5vWPUlhcvl0usxPQdEapSDHUJIkiT8sVpVfXUnTdP+Kkv5IFIDrjSvG0Wg6qs7SZKIxYFSwKIG4EiOHQJVX91RuxuARQ3AkYvFoi6xFaj66o7aw0g0aoB1WtvtVlbVF7/7zXHCMBR7XU0WWNSAl1b+E36/3xf9Oc2adL85zvF4fHp6EphFFljUgDfNVeVtVereTRwSFGrAjpzNZvyXrYeBUpoHFGpBoYYutiA8uDdGWyHwv/EHNtAtPrq8hbEAAAAASUVORK5CYII=\"></div>"
      ],
      "text/plain": [
       "1   0 = 1   0\n",
       "\n",
       "0   I   0   I"
      ]
     },
     "execution_count": 1684,
     "metadata": {
      "text/html": [],
      "text/plain": []
     },
     "output_type": "execute_result"
    }
   ],
   "source": [
    "(*linha 2  S *)\n",
    "result = H.X.H;\n",
    "Row[{MatrixForm[S],\" = \",MatrixForm[T.T]}]"
   ]
  },
  {
   "cell_type": "code",
   "execution_count": 1689,
   "id": "07bc9f2d-3d4a-4f88-8736-757c58df63ff",
   "metadata": {
    "tags": []
   },
   "outputs": [
    {
     "data": {
      "text/html": [
       "<div><img alt=\"Output\" src=\"data:image/png;base64,iVBORw0KGgoAAAANSUhEUgAAALEAAAApCAIAAAD1fl+8AAAAznpUWHRSYXcgcHJvZmlsZSB0eXBlIGV4aWYAAHjabU9bDsMgDPvnFDtCSIIDx6ErlXaDHX9JQZtazRKx4zyANN6vIz0CnClpsYoGkEObNu4uKk1MztTOeGJb7PnFT9yW390qvwLG8rerb5jM9baIeAqJG1yLroG1SHj6ua8XrX7utV4X3QD6Pv1vrmKMgmzqUZnM0FzX5NIJhakYDjwBb8zYmfTpPGDmY7DokB6DAR527R4J4sYeX5A4Kt1ZzggOh12LZ12KVN5c0VmN73wAUFJarcNqitcAAAAJcEhZcwAADsQAAA7EAZUrDhsAAAA8dEVYdFNvZnR3YXJlAENyZWF0ZWQgd2l0aCB0aGUgV29sZnJhbSBMYW5ndWFnZSA6IHd3dy53b2xmcmFtLmNvbVyipoUAAAAhdEVYdENyZWF0aW9uIFRpbWUAMjAyNDowMzowNiAyMjozMDo1OOBMangAAAO8SURBVHic7ZxPjqowGMA/Xt4piDGkzBlmYdTFLEaOYOYG43riygvYC3iDwSPILFgIceEZhBBivAZvQR4hUEothVKG324U28/ffPSfn2pJksDISI4/sgMY6R19zwlN08IwlB2FYjSURs6JMAw3m03VazabjfYf3/e5+xYFxvh4PMqNgW4M1JKWkNjv90EQEJ9arVamaWaXAYDnecQru+Tz81NuABRjiWrSyONEFEUIofLjvu87jvPz85P+ud1uTdP8/v4WkrlKU2UMFJRGyIkwDA3DIF59uVxM08zevO/7QRAcDgfhYR2Px2yktSyr9vqPjw+J0wfFGCgojZAT1+t1NpsRW3Fd9+XlJYtgsVjYtg0AwpeB6/U6HdyCIKi6//Loun4+n8XGwA7FGCgojZAT5/NZ13V6cxjj3W6X9OZsAyEkcXvCYgzUkUaeO+hZZlmW67q3240vFMuytBJ8TeVhuTNaotYYKCXtufMJhJDjOAih0+mUPhLHcX6yZOF0OpXXuk+FQcQwjD7s8cooJ62YE2EYvr29VTWxXC4B4OvrK3vEdd339/fmwTVnOp3e7/fu+6UbAwWlFXPier1Op9OqJtbrtWma2fvBGDuOk3+3EplMJnEcd98v3RioKK0wHNm2XXucslqtql4uinwXjH0FQSDl5IrFWKKUtOI4wXKr5ee22ov54Jg+Za0xGQcnhaQVcyKKIpZtVT+Rsh1V2hiQpPX9c9GR7iHsOyRu9FVkeMYGNU4M7H/TDWVpg8oJjvVES+eDClGW9ldKHP0hO1scyRjUODEihN+eE+PcUWZQcwfHGnOcO0SuMXtYUd23eMooIa2YExKLU/pW2cyI3HKeNqTxzx1iz+0ty7rdbmmbGOPFYuF53nw+F9hFH1BCWnGcMAzj8Xg0bPRZlKtsziPFGLQprZgT9FIAeL44mAUhlc2yzphrjYFq0oo5MZlM6NVKzxYHsyCksvnxeFAK6tuj1hioJq2YE7quS6lWSmlS2Xy/31luWeHINQYtSCuuMRFCURTxBdeQdFDlrmyO45jyJYv2kGgM2pFGruXn64AbIZXNURTJ2qdI2Yu2J42QE92v1IRUNks8JJCytm1PGiEnlstlx0dGQiqbJRZPdG8MWpVGrOXd7/dVlb4cxcGMNKls9jzPtm0hYXBAN5aoJo08d1AWTS19IQmaVTZfLpfX11chYXBQu8xUSxr5MzApG/0mUH7+oRuUMwbV0sg5MZvN6L/E0yswxumCSyJqGQOqNE3UIDYyGH57ndVImX+gA4Q2QnRwOQAAAABJRU5ErkJggg==\"></div>"
      ],
      "text/plain": [
       "0    -I = 0    -I\n",
       "\n",
       "I    0    I    0"
      ]
     },
     "execution_count": 1691,
     "metadata": {
      "text/html": [],
      "text/plain": []
     },
     "output_type": "execute_result"
    }
   ],
   "source": [
    "(*linha 3  Y *)\n",
    "\n",
    "result = X.S.X.S.X.Z;\n",
    "Row[{MatrixForm[Y],\" = \",MatrixForm[result]}]"
   ]
  },
  {
   "cell_type": "code",
   "execution_count": 1696,
   "id": "33b1c797-2950-4056-8500-2d8b4b404583",
   "metadata": {
    "tags": []
   },
   "outputs": [
    {
     "data": {
      "text/html": [
       "<div><img alt=\"Output\" src=\"data:image/png;base64,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\"></div>"
      ],
      "text/plain": [
       "                                = \n",
       "1                0                1            0\n",
       "\n",
       "                  (-(1/4) I) Pi                    I/4 Pi\n",
       "0                E                0            -I E"
      ]
     },
     "execution_count": 1698,
     "metadata": {
      "text/html": [],
      "text/plain": []
     },
     "output_type": "execute_result"
    }
   ],
   "source": [
    "(*linha 4  T+ *)\n",
    "\n",
    "result = T.S.S.S;\n",
    "Row[{MatrixForm[Conjugate[T]],\" = \",MatrixForm[result]}]\n",
    "(* equivalente pois multiplicar o exp por -i é equivalente a subtrair\n",
    "pi/2 então resulta -ipi/4*)"
   ]
  },
  {
   "cell_type": "code",
   "execution_count": 1704,
   "id": "4e72b615-b00e-462f-a185-7b88e5bfec28",
   "metadata": {
    "tags": []
   },
   "outputs": [
    {
     "data": {
      "text/html": [
       "<div><img alt=\"Output\" src=\"data:image/png;base64,iVBORw0KGgoAAAANSUhEUgAAAK8AAAApCAIAAADMGe7nAAAAzHpUWHRSYXcgcHJvZmlsZSB0eXBlIGV4aWYAAHjabU/bDQMhDPtnio4QkuDAOFzLSd2g4zcB1OqqWiJ2nAeQxut5pluAMyUtVtEAcmjTxt1FpYXFmdqME/3ctXz1E7ftd7fKt4Cx/ePqGxZz/VlEvITEDa5F98BeJLz83Fd+7H7utV4X/QD0efrfXMUYBdnUozKZobmuyaUTClMxnLgD3pjxYNK784CZj8GiQ3oMBnjYtXskiBuP+ILEUenOMiM4HHYtkqfDfHikqeM7b5xBWtcnHFQzAAAACXBIWXMAAA7EAAAOxAGVKw4bAAAAPHRFWHRTb2Z0d2FyZQBDcmVhdGVkIHdpdGggdGhlIFdvbGZyYW0gTGFuZ3VhZ2UgOiB3d3cud29sZnJhbS5jb21coqaFAAAAIXRFWHRDcmVhdGlvbiBUaW1lADIwMjQ6MDM6MDYgMjI6MzE6MDLFUhBGAAADoUlEQVR4nO2cQY6yPBjHy5f3FIQYUjzDLMzoYhYjRyBzA11PZjUXsBeYG4wcQWbBQogLz2AbQozX4F2Ql49AYWqhVB/5LSYOQn38+6RP+/BXI8syNDKCEELoP90BjNwQYzaM/A8/Gxhj6/W65bLpdGoYhu/7fcWxXq+Nf8RxLH4hIaTHMKQBoljGY7PZUEqbnkIIbbfb/C/3nGtZLpeO45THj6JI/PLVatVLGF2AoRh/bkiSBGNcP+77fhiGWZZZliWejO3EcRwEwc/PT/7vx8eH4zjf3999jT8MMBTjZANjzLZt7tme5+12u+6vWuZwODiOU0gZxzGl9OvrS3yEt7c3vcUCjGKcbDgej7PZTC5QCcIwnE6n+WPf9+fzeT6pMsYERzBNc7/fq4pPADCKcbJhv9+bpikbqjyEkM/Pz+z6/gfGWFwIFYBR7E/9EGOMWwKV4rouQuh0OsldPnzAZcAopr/fgDEOggBjXNTXNE3LdVEE27av2mXdNeoUq2YDY+zl5aVLrNeyWCwQQu/v78WRMAxfX1+vGmQymZzP554jEwOSYtVsOB6Pk8lEKkhJPM9zHKd4M4SQIAjKb1UEy7LSNFUQ3e+AUqzSf9huty19DEppfdyiDdKF5XLZFJIIlFJdPShIilVXkWmatvRJMMaZmnueHTflGleRkBSrVookSbRslrqja5MJSTH9e4qR24Gzp9C7d787ICkGZ24A85EMRl0xONkgsW5wXdeooSK226SuGKcz/Tj0fnfx3oEzN4x056Gz4cErRR04lUJiFfngleLOVpGGYYivDfVaHG6EjopVs0HEOSLt1gUJJMWurhSu655Op7z3TgiZz+dRFD0/PyuIDSnq8A/MHSlWnRts275cLk1nw/A39wskxarZ0H6rvrtbVwTf94t5Nfd7/YrG9jAkxarZYFlWi4mou1tXBM/zsixbrVaUUsHP+HK5NHnYVQNJsWo2mKYpYiKSdusq4nw+D2xAKoCkGGdPkSRJ+0Cu64ZhKO3WVdHzabecKAWSYvzvWjUN0Ytbd7fb1Y1Z4pdzSZJE0SpdBDCKcbKhJdBe3Loq0Nt6AqMYJxsWi0VTh6QXt64K9Job4CjGddNuNpsWu21Ht+6vlMcXeaEoivr6JrwcYBTjV4r2ZVG5jLWcJs21ZfJwODw9PamIRBAwivHvWunau8vR9NsJQwJDMX42zGaz9t+tuR0IIflKTS8wFDMUzV0j98hN+xtGBuYvylwpPGJooegAAAAASUVORK5CYII=\"></div>"
      ],
      "text/plain": [
       "1    0  = 1    0\n",
       "\n",
       "0    -I   0    -I"
      ]
     },
     "execution_count": 1706,
     "metadata": {
      "text/html": [],
      "text/plain": []
     },
     "output_type": "execute_result"
    }
   ],
   "source": [
    "(*linha 5  S+ *)\n",
    "\n",
    "result = S.S.S;\n",
    "Row[{MatrixForm[Conjugate[S]],\" = \",MatrixForm[result]}]"
   ]
  },
  {
   "attachments": {
    "image-2.png": {
     "image/png": "[encoded data removed]"
    },
    "image-3.png": {
     "image/png": "[encoded data removed]"
    }
   },
   "cell_type": "markdown",
   "id": "cf5eac31",
   "metadata": {},
   "source": [
    "\n",
    "__3-__ Show that \n",
    "\n",
    "![image-2.png](attachment:image-2.png)\n",
    "\n",
    "\n",
    "![image-3.png](attachment:image-3.png)\n"
   ]
  },
  {
   "cell_type": "markdown",
   "id": "db09e882-cdd5-4fe7-8352-fb544ec28a41",
   "metadata": {},
   "source": [
    "### Controlled NOT invertido\n",
    "\n",
    "P0 = |0⟩⟨0|≡$$\n",
    "\\begin{bmatrix} 1&0 \\\\ 0&0 \\end{bmatrix}\n",
    "$$\n",
    "P1=|1⟩⟨1|≡$$\n",
    "\\begin{bmatrix} 0&0 \\\\ 0&1 \\end{bmatrix}\n",
    "$$\n",
    "\n",
    "CNOT2 = I⊗P0+X⊗P1"
   ]
  },
  {
   "cell_type": "code",
   "execution_count": 1729,
   "id": "7ddc3009-e3d3-4791-ab14-e27c9ea917a1",
   "metadata": {
    "tags": []
   },
   "outputs": [
    {
     "data": {
      "text/html": [
       "<div><img alt=\"Output\" src=\"data:image/png;base64,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\"></div>"
      ],
      "text/plain": [
       "1   0   0   0 = 1   0   0   0\n",
       "\n",
       "0   0   0   1   0   0   0   1\n",
       "\n",
       "0   0   1   0   0   0   1   0\n",
       "\n",
       "0   1   0   0   0   1   0   0"
      ]
     },
     "execution_count": 1733,
     "metadata": {
      "text/html": [],
      "text/plain": []
     },
     "output_type": "execute_result"
    }
   ],
   "source": [
    "\n",
    "CNOT2 = KroneckerProduct[id,{{1,0},{0,0}}]+KroneckerProduct[X,{{0,0},{0,1}}];\n",
    "GH = KroneckerProduct[H, H];\n",
    "result =GH.CNOT.GH;\n",
    "Row[{MatrixForm[result],\" = \",MatrixForm[CNOT2]}]\n",
    "\n"
   ]
  },
  {
   "cell_type": "markdown",
   "id": "48aab48c-77e2-4f44-b624-0075b90a59e3",
   "metadata": {},
   "source": [
    "### Controlled Z\n",
    "de forma semelhante ao exemplo anterior, podemos inverter o CZ\n",
    "\n",
    "P0 = |0⟩⟨0|≡$$\n",
    "\\begin{bmatrix} 1&0 \\\\ 0&0 \\end{bmatrix}\n",
    "$$\n",
    "P1=|1⟩⟨1|≡$$\n",
    "\\begin{bmatrix} 0&0 \\\\ 0&1 \\end{bmatrix}\n",
    "$$\n",
    "\n",
    "\n",
    "CZ = P0⊗I+P1⊗Z\n",
    "### [Controlled Z invertido](https://www.youtube.com/watch?v=y5DNuw3PCBI)\n",
    "CZI = I⊗P0+X⊗P1\n",
    "\n",
    "\n"
   ]
  },
  {
   "cell_type": "code",
   "execution_count": 1758,
   "id": "f08368c3-068e-469a-b262-dd29e90b956b",
   "metadata": {},
   "outputs": [
    {
     "data": {
      "text/html": [
       "<div><img alt=\"Output\" src=\"data:image/png;base64,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\"></div>"
      ],
      "text/plain": [
       "1    0    0    0  = 1    0    0    0\n",
       "\n",
       "0    1    0    0    0    1    0    0\n",
       "\n",
       "0    0    1    0    0    0    1    0\n",
       "\n",
       "0    0    0    -1   0    0    0    -1"
      ]
     },
     "execution_count": 1761,
     "metadata": {
      "text/html": [],
      "text/plain": []
     },
     "output_type": "execute_result"
    }
   ],
   "source": [
    "CZ = {{1, 0, 0, 0}, {0, 1, 0, 0}, {0, 0, 1, 0}, {0, 0, 0, -1}};\n",
    "CZ = KroneckerProduct[{{1,0},{0,0}},id]+KroneckerProduct[{{0,0},{0,1}},Z];\n",
    "CZI = KroneckerProduct[id,{{1,0},{0,0}}]+KroneckerProduct[Z,{{0,0},{0,1}}];\n",
    "Row[{MatrixForm[CZ],\" = \",MatrixForm[CZI]}]"
   ]
  },
  {
   "attachments": {
    "image-2.png": {
     "image/png": "[encoded data removed]"
    }
   },
   "cell_type": "markdown",
   "id": "731da3c0",
   "metadata": {},
   "source": [
    "__4-__ Show that a controlled phase-shift gate can be performed using CNOT gates and single-qubit phase-shift gates. \n",
    "![image-2.png](attachment:image-2.png)"
   ]
  },
  {
   "cell_type": "code",
   "execution_count": 1185,
   "id": "fdec3710-3737-48ce-9c9b-5daf80a32284",
   "metadata": {
    "tags": []
   },
   "outputs": [
    {
     "data": {
      "text/html": [
       "<style>\n",
       "\t\t\t\t\t\t\t\t\t\t\t\t\t.grid-container {\n",
       "\t\t\t\t\t\t\t\t\t\t\t\t\t\tdisplay: inline-grid;\n",
       "\t\t\t\t\t\t\t\t\t\t\t\t\t\tgrid-template-columns: auto;\n",
       "\t\t\t\t\t\t\t\t\t\t\t\t\t}\n",
       "\t\t\t\t\t\t\t\t\t\t\t\t</style>\n",
       "\n",
       "\t\t\t\t\t\t\t\t\t\t\t\t<div><div class=\"grid-container\"><div class=\"grid-item\"><img alt=\"Output\" src=\"data:image/png;base64,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\"></div><div class=\"grid-item\"><img alt=\"Output\" src=\"data:image/png;base64,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\"></div></div></div>"
      ],
      "text/plain": [
       "1   0   0   0\n",
       "\n",
       "0   1   0   0\n",
       "\n",
       "0   0   1   0\n",
       "\n",
       "0   0   0   I\n",
       "1   0   0   0\n",
       "\n",
       "0   1   0   0\n",
       "\n",
       "0   0   1   0\n",
       "\n",
       "0   0   0   I"
      ]
     },
     "execution_count": 1190,
     "metadata": {
      "text/html": [],
      "text/plain": []
     },
     "output_type": "execute_result"
    }
   ],
   "source": [
    "CNOT = {{1, 0, 0, 0}, {0, 1, 0, 0}, {0, 0, 0, 1}, {0, 0, 1, 0}};\n",
    "\n",
    "\n",
    "S2 = {{1, 0}, {0, Exp[I*Pi/4]}};\n",
    "delta2 = KroneckerProduct[id,S2];\n",
    "delta2m =KroneckerProduct[id,Conjugate[S2]];\n",
    "delta1 = KroneckerProduct[S2, id];\n",
    "ControlledS = {{1, 0, 0, 0}, {0, 1, 0, 0}, {0, 0, 1, 0}, {0, 0, 0, I}}//MatrixForm\n",
    "result = delta1.CNOT.delta2m.CNOT.delta2//MatrixForm\n"
   ]
  },
  {
   "attachments": {
    "image-2.png": {
     "image/png": "[encoded data removed]"
    },
    "image-3.png": {
     "image/png": "[encoded data removed]"
    },
    "image.png": {
     "image/png": "[encoded data removed]"
    }
   },
   "cell_type": "markdown",
   "id": "7d784ede",
   "metadata": {},
   "source": [
    "__5-__ Write the matrix representation of the two qubit circuits \n",
    "\n",
    "\n",
    "![image.png](attachment:image.png)\n",
    "\n",
    "![image-2.png](attachment:image-2.png)\n",
    "\n",
    "![image-3.png](attachment:image-3.png)"
   ]
  },
  {
   "cell_type": "code",
   "execution_count": 1159,
   "id": "043abcd2-cdaf-4af3-88f9-3d34b0ec8dc6",
   "metadata": {
    "tags": []
   },
   "outputs": [
    {
     "data": {
      "text/html": [
       "<div><img alt=\"Output\" src=\"data:image/png;base64,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\"></div>"
      ],
      "text/plain": [
       "1   0   0   0\n",
       "\n",
       "0   0   1   0\n",
       "\n",
       "0   0   0   1\n",
       "\n",
       "0   1   0   0"
      ]
     },
     "execution_count": 1162,
     "metadata": {
      "text/html": [],
      "text/plain": []
     },
     "output_type": "execute_result"
    }
   ],
   "source": [
    "GH = KroneckerProduct[H,id];\n",
    "HG = KroneckerProduct[id,H];\n",
    "(*figura 1*)\n",
    "circuit1 =CNOT2.CNOT//MatrixForm"
   ]
  },
  {
   "cell_type": "code",
   "execution_count": 1167,
   "id": "f2bec203-120a-445c-898d-29e3e5837b32",
   "metadata": {
    "tags": []
   },
   "outputs": [
    {
     "data": {
      "text/html": [
       "<style>\n",
       "\t\t\t\t\t\t\t\t\t\t\t\t\t.grid-container {\n",
       "\t\t\t\t\t\t\t\t\t\t\t\t\t\tdisplay: inline-grid;\n",
       "\t\t\t\t\t\t\t\t\t\t\t\t\t\tgrid-template-columns: auto;\n",
       "\t\t\t\t\t\t\t\t\t\t\t\t\t}\n",
       "\t\t\t\t\t\t\t\t\t\t\t\t</style>\n",
       "\n",
       "\t\t\t\t\t\t\t\t\t\t\t\t<div><div class=\"grid-container\"><div class=\"grid-item\"><img alt=\"Output\" src=\"data:image/png;base64,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\"></div><div class=\"grid-item\"><img alt=\"Output\" src=\"data:image/png;base64,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\"></div></div></div>"
      ],
      "text/plain": [
       "   1                         1\n",
       "-------                   -------\n",
       "Sqrt[2]      0            Sqrt[2]      0\n",
       "\n",
       "                1                         1\n",
       "             -------                   -------\n",
       "0            Sqrt[2]      0            Sqrt[2]\n",
       "\n",
       "                1                           1\n",
       "             -------                   -(-------)\n",
       "0            Sqrt[2]      0              Sqrt[2]\n",
       "\n",
       "   1                           1\n",
       "-------                   -(-------)\n",
       "Sqrt[2]      0              Sqrt[2]    0\n",
       "   1                                      1\n",
       "-------                                -------\n",
       "Sqrt[2]      0            0            Sqrt[2]\n",
       "\n",
       "                1            1\n",
       "             -------      -------\n",
       "0            Sqrt[2]      Sqrt[2]      0\n",
       "\n",
       "   1                                        1\n",
       "-------                                -(-------)\n",
       "Sqrt[2]      0            0              Sqrt[2]\n",
       "\n",
       "                1              1\n",
       "             -------      -(-------)\n",
       "0            Sqrt[2]        Sqrt[2]    0"
      ]
     },
     "execution_count": 1168,
     "metadata": {
      "text/html": [],
      "text/plain": []
     },
     "output_type": "execute_result"
    }
   ],
   "source": [
    "(*figura 2*)\n",
    "circuit21 = CNOT.GH//MatrixForm\n",
    "circuit22 = GH.CNOT//MatrixForm"
   ]
  },
  {
   "cell_type": "code",
   "execution_count": 1174,
   "id": "cd2bbee0-5611-4672-8f94-50ea703d9cf0",
   "metadata": {
    "tags": []
   },
   "outputs": [
    {
     "data": {
      "text/html": [
       "<style>\n",
       "\t\t\t\t\t\t\t\t\t\t\t\t\t.grid-container {\n",
       "\t\t\t\t\t\t\t\t\t\t\t\t\t\tdisplay: inline-grid;\n",
       "\t\t\t\t\t\t\t\t\t\t\t\t\t\tgrid-template-columns: auto;\n",
       "\t\t\t\t\t\t\t\t\t\t\t\t\t}\n",
       "\t\t\t\t\t\t\t\t\t\t\t\t</style>\n",
       "\n",
       "\t\t\t\t\t\t\t\t\t\t\t\t<div><div class=\"grid-container\"><div class=\"grid-item\"><img alt=\"Output\" src=\"data:image/png;base64,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\"></div><div class=\"grid-item\"><img alt=\"Output\" src=\"data:image/png;base64,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\"></div></div></div>"
      ],
      "text/plain": [
       "   1                         1\n",
       "-------                   -------\n",
       "Sqrt[2]      0            Sqrt[2]      0\n",
       "\n",
       "                1                           1\n",
       "             -------                   -(-------)\n",
       "0            Sqrt[2]      0              Sqrt[2]\n",
       "\n",
       "   1                           1\n",
       "-------                   -(-------)\n",
       "Sqrt[2]      0              Sqrt[2]    0\n",
       "\n",
       "                1                         1\n",
       "             -------                   -------\n",
       "0            Sqrt[2]      0            Sqrt[2]\n",
       "   1                         1\n",
       "-------                   -------\n",
       "Sqrt[2]      0            Sqrt[2]      0\n",
       "\n",
       "                1                         1\n",
       "             -------                   -------\n",
       "0            Sqrt[2]      0            Sqrt[2]\n",
       "\n",
       "   1                           1\n",
       "-------                   -(-------)\n",
       "Sqrt[2]      0              Sqrt[2]    0\n",
       "\n",
       "                  1                       1\n",
       "             -(-------)                -------\n",
       "0              Sqrt[2]    0            Sqrt[2]"
      ]
     },
     "execution_count": 1175,
     "metadata": {
      "text/html": [],
      "text/plain": []
     },
     "output_type": "execute_result"
    }
   ],
   "source": [
    "(*figura 3*)\n",
    "circuit31 = CNOT2.GH//MatrixForm\n",
    "circuit32 = GH.CNOT2//MatrixForm"
   ]
  },
  {
   "attachments": {
    "image-2.png": {
     "image/png": "[encoded data removed]"
    },
    "image-3.png": {
     "image/png": "[encoded data removed]"
    }
   },
   "cell_type": "markdown",
   "id": "4714ad2d",
   "metadata": {},
   "source": [
    "__6-__  The CMINUS gate is defined as CMINUS = CPHASE($\\pi$).\n",
    "![image-2.png](attachment:image-2.png)\n",
    "\n",
    "This gate is important since in some implementations it is easier to perform CMINUS rather than CNOT. Check the relation between CNOT and CMINUS\n",
    "<img src=\"attachment:image-3.png\" width=\"400\">\n",
    "<!--  ![image-3.png](attachment:image-3.png) -->\n"
   ]
  },
  {
   "cell_type": "code",
   "execution_count": 1263,
   "id": "e0ffdd01-f0f9-43b8-9da6-6887a1837f2c",
   "metadata": {
    "tags": []
   },
   "outputs": [
    {
     "data": {
      "text/html": [
       "<div><img alt=\"Output\" src=\"data:image/png;base64,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\"></div>"
      ],
      "text/plain": [
       "1    0    0    0  = 1    0    0    0\n",
       "\n",
       "0    1    0    0    0    1    0    0\n",
       "\n",
       "0    0    1    0    0    0    1    0\n",
       "\n",
       "0    0    0    -1   0    0    0    -1"
      ]
     },
     "execution_count": 1267,
     "metadata": {
      "text/html": [],
      "text/plain": []
     },
     "output_type": "execute_result"
    }
   ],
   "source": [
    "CMINUS = {{1, 0, 0, 0}, {0, 1, 0, 0}, {0, 0, 1, 0}, {0, 0, 0, -1}};\n",
    "(*primeira igualdade*)\n",
    "HG = KroneckerProduct[id,H];\n",
    "circuit = HG.CNOT.HG;\n",
    "Row[{MatrixForm[CMINUS],\" = \",MatrixForm[circuit]}]\n"
   ]
  },
  {
   "cell_type": "code",
   "execution_count": 1272,
   "id": "b9c9c426-4f5d-4b1d-a581-5d29357e67f7",
   "metadata": {
    "tags": []
   },
   "outputs": [
    {
     "data": {
      "text/html": [
       "<div><img alt=\"Output\" src=\"data:image/png;base64,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\"></div>"
      ],
      "text/plain": [
       "1   0   0   0 = 1   0   0   0\n",
       "\n",
       "0   1   0   0   0   1   0   0\n",
       "\n",
       "0   0   0   1   0   0   0   1\n",
       "\n",
       "0   0   1   0   0   0   1   0"
      ]
     },
     "execution_count": 1274,
     "metadata": {
      "text/html": [],
      "text/plain": []
     },
     "output_type": "execute_result"
    }
   ],
   "source": [
    "(*segunda igualdade*)\n",
    "circuit = HG.CMINUS.HG;\n",
    "Row[{MatrixForm[CNOT],\" = \",MatrixForm[circuit] }]"
   ]
  },
  {
   "cell_type": "markdown",
   "id": "1a3b03ce",
   "metadata": {},
   "source": [
    "## Projects:\n",
    "\n",
    "- Jupyter notebook about Adiabatic Quantum Computing\n",
    "- Jupyter notebook about Measurement based Quantum Computing"
   ]
  },
  {
   "cell_type": "code",
   "execution_count": null,
   "id": "c169742d-987b-48eb-8710-cb54d718ed0b",
   "metadata": {},
   "outputs": [],
   "source": []
  },
  {
   "cell_type": "code",
   "execution_count": null,
   "id": "5f5b90f8",
   "metadata": {},
   "outputs": [],
   "source": []
  }
 ],
 "metadata": {
  "celltoolbar": "Slideshow",
  "hide_input": false,
  "kernelspec": {
   "display_name": "Wolfram Language 14",
   "language": "Wolfram Language",
   "name": "wolframlanguage14"
  },
  "language_info": {
   "codemirror_mode": "mathematica",
   "file_extension": ".m",
   "mimetype": "application/vnd.wolfram.m",
   "name": "Wolfram Language",
   "pygments_lexer": "mathematica",
   "version": "12.0"
  },
  "latex_envs": {
   "LaTeX_envs_menu_present": true,
   "autoclose": false,
   "autocomplete": true,
   "bibliofile": "biblio.bib",
   "cite_by": "apalike",
   "current_citInitial": 1,
   "eqLabelWithNumbers": true,
   "eqNumInitial": 1,
   "hotkeys": {
    "equation": "Ctrl-E",
    "itemize": "Ctrl-I"
   },
   "labels_anchors": false,
   "latex_user_defs": false,
   "report_style_numbering": false,
   "user_envs_cfg": false
  },
  "rise": {
   "enable_chalkboard": true,
   "scroll": true
  },
  "toc": {
   "base_numbering": 1,
   "nav_menu": {},
   "number_sections": true,
   "sideBar": true,
   "skip_h1_title": false,
   "title_cell": "Table of Contents",
   "title_sidebar": "Contents",
   "toc_cell": false,
   "toc_position": {
    "height": "calc(100% - 180px)",
    "left": "10px",
    "top": "150px",
    "width": "278.656px"
   },
   "toc_section_display": true,
   "toc_window_display": false
  }
 },
 "nbformat": 4,
 "nbformat_minor": 5
}
