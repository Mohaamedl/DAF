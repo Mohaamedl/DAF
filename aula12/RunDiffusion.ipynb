{
 "cells": [
  {
   "cell_type": "code",
   "execution_count": 1,
   "metadata": {
    "tags": []
   },
   "outputs": [],
   "source": [
    "import torch\n",
    "import numpy as np\n",
    "from diffusion import q_sample, posterior_q, Denoising, denoise_with_mu\n",
    "from utils import pack_data, unpack_1d_data, scatter_pixels"
   ]
  },
  {
   "cell_type": "code",
   "execution_count": 2,
   "metadata": {
    "tags": []
   },
   "outputs": [
    {
     "name": "stdout",
     "output_type": "stream",
     "text": [
      "cuda\n"
     ]
    }
   ],
   "source": [
    "device = torch.device('cuda' if torch.cuda.is_available() else 'cpu')\n",
    "print(device)"
   ]
  },
  {
   "cell_type": "markdown",
   "metadata": {},
   "source": [
    "## ATTENTION ##\n",
    "###### Download this image https://www.infomoney.com.br/wp-content/uploads/2019/06/homer-simpson.jpg?resize=900%2C515&quality=50&strip=all and save it in this folder as 'homer.png'\n"
   ]
  },
  {
   "cell_type": "code",
   "execution_count": 4,
   "metadata": {
    "tags": []
   },
   "outputs": [],
   "source": [
    "x,y = scatter_pixels('homer.png')\n",
    "x = [x/25 -3 for x in x]\n",
    "y = [y/25 -2 for y in y]"
   ]
  },
  {
   "cell_type": "markdown",
   "metadata": {},
   "source": [
    "## Scatter plot of data we will try to train the model to generate from random noise"
   ]
  },
  {
   "cell_type": "code",
   "execution_count": 6,
   "metadata": {
    "tags": []
   },
   "outputs": [
    {
     "ename": "TypeError",
     "evalue": "scatterplot() takes from 0 to 1 positional arguments but 2 were given",
     "output_type": "error",
     "traceback": [
      "\u001b[1;31m---------------------------------------------------------------------------\u001b[0m",
      "\u001b[1;31mTypeError\u001b[0m                                 Traceback (most recent call last)",
      "Cell \u001b[1;32mIn[6], line 2\u001b[0m\n\u001b[0;32m      1\u001b[0m \u001b[38;5;28;01mimport\u001b[39;00m \u001b[38;5;21;01mseaborn\u001b[39;00m \u001b[38;5;28;01mas\u001b[39;00m \u001b[38;5;21;01msns\u001b[39;00m\n\u001b[1;32m----> 2\u001b[0m ax \u001b[38;5;241m=\u001b[39m \u001b[43msns\u001b[49m\u001b[38;5;241;43m.\u001b[39;49m\u001b[43mscatterplot\u001b[49m\u001b[43m(\u001b[49m\u001b[43mx\u001b[49m\u001b[43m,\u001b[49m\u001b[43my\u001b[49m\u001b[43m)\u001b[49m\n",
      "\u001b[1;31mTypeError\u001b[0m: scatterplot() takes from 0 to 1 positional arguments but 2 were given"
     ]
    }
   ],
   "source": [
    "import seaborn as sns\n",
    "ax = sns.scatterplot(x,y)"
   ]
  },
  {
   "cell_type": "code",
   "execution_count": null,
   "metadata": {
    "tags": []
   },
   "outputs": [],
   "source": [
    "## Store the ax to plot the result later\n",
    "y_ax = ax.get_ylim()\n",
    "x_ax = ax.get_xlim()\n",
    "axes = (x_ax,y_ax)"
   ]
  },
  {
   "cell_type": "code",
   "execution_count": null,
   "metadata": {
    "tags": []
   },
   "outputs": [],
   "source": [
    "# send data to device\n",
    "one_d_data = pack_data(x,y)\n",
    "x_init = torch.tensor(one_d_data).to(torch.float32).to(device)\n",
    "\n",
    "DATA_SIZE = len(x_init)\n"
   ]
  },
  {
   "cell_type": "markdown",
   "metadata": {},
   "source": [
    "# Diffusion Parameters"
   ]
  },
  {
   "cell_type": "code",
   "execution_count": null,
   "metadata": {
    "tags": []
   },
   "outputs": [],
   "source": [
    "beta_start = .0004\n",
    "beta_end = .02\n",
    "num_diffusion_timesteps = 30"
   ]
  },
  {
   "cell_type": "code",
   "execution_count": null,
   "metadata": {
    "tags": []
   },
   "outputs": [],
   "source": [
    "from operator import mul\n",
    "from functools import reduce \n",
    "\n",
    "betas = np.linspace(beta_start ** 0.5, beta_end ** 0.5, num_diffusion_timesteps) ** 2\n",
    "alphas = 1 - betas\n",
    "\n",
    "# send parameters to device\n",
    "betas = torch.tensor(betas).to(torch.float32).to(device)\n",
    "alphas = torch.tensor(alphas).to(torch.float32).to(device)\n",
    "\n",
    "# alpha_bar_t is the product of all alpha_ts from 0 to t\n",
    "list_bar_alphas = [alphas[0]]\n",
    "for t in range(1,num_diffusion_timesteps):\n",
    "    list_bar_alphas.append(reduce(mul,alphas[:t]))\n",
    "    \n",
    "list_bar_alphas = torch.cumprod(alphas, axis=0).to(torch.float32).to(device)"
   ]
  },
  {
   "cell_type": "code",
   "execution_count": null,
   "metadata": {},
   "outputs": [],
   "source": []
  },
  {
   "cell_type": "markdown",
   "metadata": {},
   "source": [
    "## Training Procedure"
   ]
  },
  {
   "cell_type": "code",
   "execution_count": null,
   "metadata": {
    "tags": []
   },
   "outputs": [],
   "source": [
    "import torch.nn as nn\n",
    "import torch.optim as optim\n",
    "\n",
    "\n",
    "training_steps_per_epoch = 40\n",
    "\n",
    "\n",
    "criterion = nn.MSELoss()\n",
    "denoising_model = Denoising(DATA_SIZE, num_diffusion_timesteps).to(device)\n",
    "# disgusting hack to put embedding layer on 'device' as well, as it is not a pytorch module!\n",
    "denoising_model.emb = denoising_model.emb.to(device)\n",
    "optimizer = optim.AdamW(denoising_model.parameters())"
   ]
  },
  {
   "cell_type": "code",
   "execution_count": null,
   "metadata": {},
   "outputs": [],
   "source": []
  },
  {
   "cell_type": "code",
   "execution_count": null,
   "metadata": {
    "tags": []
   },
   "outputs": [],
   "source": [
    "from tqdm import tqdm\n",
    "\n",
    "pbar = tqdm(range(50))\n",
    "for epoch in pbar:  # loop over the dataset multiple times\n",
    "    \n",
    "    running_loss = 0.0\n",
    "    # sample a bunch of timesteps\n",
    "    Ts = np.random.randint(1,num_diffusion_timesteps, size=training_steps_per_epoch)\n",
    "    for _, t in enumerate(Ts):\n",
    "        # produce corrupted sample\n",
    "        q_t = q_sample(x_init, t, list_bar_alphas, device)\n",
    "                \n",
    "        # calculate the mean and variance of the posterior forward distribution q(x_t-1 | x_t,x_0)\n",
    "        mu_t, cov_t = posterior_q(x_init, q_t, t, alphas, list_bar_alphas, device)\n",
    "        # get just first element from diagonal of covariance since they are all equal\n",
    "        sigma_t = cov_t[0][0]\n",
    "        # zero the parameter gradients\n",
    "        optimizer.zero_grad()\n",
    "  \n",
    "        mu_theta = denoising_model(q_t , t)\n",
    "        loss = criterion(mu_t, mu_theta)\n",
    "        loss.backward()\n",
    "        optimizer.step()\n",
    "        running_loss += loss.detach()\n",
    "    pbar.set_description('Epoch: {} Loss: {}'.format(epoch, running_loss/training_steps_per_epoch))\n",
    "print('Finished Training')"
   ]
  },
  {
   "cell_type": "markdown",
   "metadata": {},
   "source": [
    "### Reserve-Diffuse one Sample of Noise!"
   ]
  },
  {
   "cell_type": "code",
   "execution_count": 8,
   "metadata": {
    "tags": []
   },
   "outputs": [
    {
     "ename": "NameError",
     "evalue": "name 'DATA_SIZE' is not defined",
     "output_type": "error",
     "traceback": [
      "\u001b[1;31m---------------------------------------------------------------------------\u001b[0m",
      "\u001b[1;31mNameError\u001b[0m                                 Traceback (most recent call last)",
      "Cell \u001b[1;32mIn[8], line 2\u001b[0m\n\u001b[0;32m      1\u001b[0m \u001b[38;5;28;01mfrom\u001b[39;00m \u001b[38;5;21;01mtqdm\u001b[39;00m \u001b[38;5;28;01mimport\u001b[39;00m tqdm \n\u001b[1;32m----> 2\u001b[0m data \u001b[38;5;241m=\u001b[39m torch\u001b[38;5;241m.\u001b[39mdistributions\u001b[38;5;241m.\u001b[39mMultivariateNormal(loc\u001b[38;5;241m=\u001b[39mtorch\u001b[38;5;241m.\u001b[39mzeros(\u001b[43mDATA_SIZE\u001b[49m),covariance_matrix\u001b[38;5;241m=\u001b[39mtorch\u001b[38;5;241m.\u001b[39meye(DATA_SIZE))\u001b[38;5;241m.\u001b[39msample()\u001b[38;5;241m.\u001b[39mto(device)\n\u001b[0;32m      4\u001b[0m \u001b[38;5;28;01mfor\u001b[39;00m t \u001b[38;5;129;01min\u001b[39;00m tqdm(\u001b[38;5;28mrange\u001b[39m(\u001b[38;5;241m0\u001b[39m,num_diffusion_timesteps)):\n\u001b[0;32m      5\u001b[0m     data \u001b[38;5;241m=\u001b[39m denoise_with_mu(denoising_model,data,num_diffusion_timesteps\u001b[38;5;241m-\u001b[39mt\u001b[38;5;241m-\u001b[39m\u001b[38;5;241m1\u001b[39m, alphas, list_bar_alphas, DATA_SIZE, device)\n",
      "\u001b[1;31mNameError\u001b[0m: name 'DATA_SIZE' is not defined"
     ]
    }
   ],
   "source": [
    "from tqdm import tqdm \n",
    "data = torch.distributions.MultivariateNormal(loc=torch.zeros(DATA_SIZE),covariance_matrix=torch.eye(DATA_SIZE)).sample().to(device)\n",
    "\n",
    "for t in tqdm(range(0,num_diffusion_timesteps)):\n",
    "    data = denoise_with_mu(denoising_model,data,num_diffusion_timesteps-t-1, alphas, list_bar_alphas, DATA_SIZE, device)"
   ]
  },
  {
   "cell_type": "code",
   "execution_count": 11,
   "metadata": {
    "tags": []
   },
   "outputs": [
    {
     "ename": "NameError",
     "evalue": "name 'data' is not defined",
     "output_type": "error",
     "traceback": [
      "\u001b[1;31m---------------------------------------------------------------------------\u001b[0m",
      "\u001b[1;31mNameError\u001b[0m                                 Traceback (most recent call last)",
      "Cell \u001b[1;32mIn[11], line 1\u001b[0m\n\u001b[1;32m----> 1\u001b[0m data \u001b[38;5;241m=\u001b[39m \u001b[43mdata\u001b[49m\u001b[38;5;241m.\u001b[39mdetach()\u001b[38;5;241m.\u001b[39mcpu()\u001b[38;5;241m.\u001b[39mnumpy()\n\u001b[0;32m      2\u001b[0m x_new, y_new \u001b[38;5;241m=\u001b[39m unpack_1d_data(data)\n\u001b[0;32m      4\u001b[0m \u001b[38;5;28;01mimport\u001b[39;00m \u001b[38;5;21;01mseaborn\u001b[39;00m \u001b[38;5;28;01mas\u001b[39;00m \u001b[38;5;21;01msns\u001b[39;00m\n",
      "\u001b[1;31mNameError\u001b[0m: name 'data' is not defined"
     ]
    }
   ],
   "source": [
    "data = data.detach().cpu().numpy()\n",
    "x_new, y_new = unpack_1d_data(data)\n",
    "\n",
    "import seaborn as sns\n",
    "sns.scatterplot(x_new,y_new)"
   ]
  },
  {
   "cell_type": "markdown",
   "metadata": {},
   "source": [
    "### Create an AWESOME HD 24fps GIF"
   ]
  },
  {
   "cell_type": "code",
   "execution_count": 14,
   "metadata": {
    "tags": []
   },
   "outputs": [
    {
     "ename": "NameError",
     "evalue": "name 'num_diffusion_timesteps' is not defined",
     "output_type": "error",
     "traceback": [
      "\u001b[1;31m---------------------------------------------------------------------------\u001b[0m",
      "\u001b[1;31mNameError\u001b[0m                                 Traceback (most recent call last)",
      "Cell \u001b[1;32mIn[14], line 12\u001b[0m\n\u001b[0;32m      9\u001b[0m camera \u001b[38;5;241m=\u001b[39m Camera(fig)\n\u001b[0;32m     11\u001b[0m \u001b[38;5;66;03m# animation draws one data point at a time\u001b[39;00m\n\u001b[1;32m---> 12\u001b[0m \u001b[38;5;28;01mfor\u001b[39;00m d \u001b[38;5;129;01min\u001b[39;00m \u001b[38;5;28mrange\u001b[39m(\u001b[38;5;241m1\u001b[39m, \u001b[43mnum_diffusion_timesteps\u001b[49m):\n\u001b[0;32m     13\u001b[0m     data \u001b[38;5;241m=\u001b[39m denoise_with_mu(denoising_model,data,num_diffusion_timesteps\u001b[38;5;241m-\u001b[39md, alphas, list_bar_alphas, DATA_SIZE, device)\n\u001b[0;32m     14\u001b[0m     data_plot \u001b[38;5;241m=\u001b[39m data\u001b[38;5;241m.\u001b[39mdetach()\u001b[38;5;241m.\u001b[39mcpu()\u001b[38;5;241m.\u001b[39mnumpy()\n",
      "\u001b[1;31mNameError\u001b[0m: name 'num_diffusion_timesteps' is not defined"
     ]
    },
    {
     "data": {
      "text/plain": [
       "<Figure size 640x480 with 0 Axes>"
      ]
     },
     "metadata": {},
     "output_type": "display_data"
    }
   ],
   "source": [
    "import numpy as np\n",
    "from celluloid import Camera\n",
    "import pandas as pd\n",
    "import seaborn as sns\n",
    "import matplotlib.pyplot as plt\n",
    "import seaborn as sns\n",
    "\n",
    "fig = plt.figure()\n",
    "camera = Camera(fig)\n",
    "\n",
    "# animation draws one data point at a time\n",
    "for d in range(1, num_diffusion_timesteps):\n",
    "    data = denoise_with_mu(denoising_model,data,num_diffusion_timesteps-d, alphas, list_bar_alphas, DATA_SIZE, device)\n",
    "    data_plot = data.detach().cpu().numpy()\n",
    "    x_new, y_new = unpack_1d_data(data_plot)\n",
    "    graph = sns.scatterplot(x=x_new,y=y_new,palette=['green'])\n",
    "    graph.set_xlim(axes[0])\n",
    "    graph.set_ylim(axes[1])\n",
    "    camera.snap()\n",
    "\n",
    "anim = camera.animate(blit=False)\n",
    "anim.save('output.gif',fps=24, dpi=120)"
   ]
  },
  {
   "cell_type": "code",
   "execution_count": null,
   "metadata": {},
   "outputs": [],
   "source": []
  }
 ],
 "metadata": {
  "kernelspec": {
   "display_name": "Python 3 (ipykernel)",
   "language": "python",
   "name": "python3"
  },
  "language_info": {
   "codemirror_mode": {
    "name": "ipython",
    "version": 3
   },
   "file_extension": ".py",
   "mimetype": "text/x-python",
   "name": "python",
   "nbconvert_exporter": "python",
   "pygments_lexer": "ipython3",
   "version": "3.10.13"
  },
  "vscode": {
   "interpreter": {
    "hash": "31f2aee4e71d21fbe5cf8b01ff0e069b9275f58929596ceb00d14d90e3e16cd6"
   }
  }
 },
 "nbformat": 4,
 "nbformat_minor": 4
}
