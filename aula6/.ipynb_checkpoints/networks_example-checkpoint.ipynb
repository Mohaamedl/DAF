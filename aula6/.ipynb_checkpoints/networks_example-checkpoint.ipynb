{
 "cells": [
  {
   "cell_type": "markdown",
   "id": "aa183ee7",
   "metadata": {},
   "source": [
    "# Create graph"
   ]
  },
  {
   "cell_type": "markdown",
   "id": "ba56758a",
   "metadata": {},
   "source": [
    "## Import libraries"
   ]
  },
  {
   "cell_type": "code",
   "execution_count": 2,
   "id": "4ce8a60b",
   "metadata": {},
   "outputs": [],
   "source": [
    "import networkx as nx\n",
    "import matplotlib.pyplot as plt"
   ]
  },
  {
   "cell_type": "markdown",
   "id": "ad3735cd",
   "metadata": {},
   "source": [
    "## number of colors"
   ]
  },
  {
   "cell_type": "code",
   "execution_count": 3,
   "id": "608be258",
   "metadata": {},
   "outputs": [],
   "source": [
    "colors=[1,2,3,4,5,6]"
   ]
  },
  {
   "cell_type": "markdown",
   "id": "22e5d34b",
   "metadata": {},
   "source": [
    "## add nodes"
   ]
  },
  {
   "cell_type": "code",
   "execution_count": null,
   "id": "ec66fefb",
   "metadata": {},
   "outputs": [],
   "source": [
    "nv=6\n",
    "\n",
    "G=nx.Graph()\n",
    "for i in range(1,nv+1):\n",
    "    G.add_node(i)"
   ]
  },
  {
   "cell_type": "markdown",
   "id": "57bc5ce9",
   "metadata": {},
   "source": [
    "## add edges"
   ]
  },
  {
   "cell_type": "code",
   "execution_count": null,
   "id": "26ca8d8d",
   "metadata": {},
   "outputs": [],
   "source": [
    "L=[[1, 2],[1, 3],[2, 3],[2,4],[5,4],[1,6],[3,5]]\n",
    "\n",
    "for i in L:\n",
    "    G.add_edge(i[0],i[1])"
   ]
  },
  {
   "cell_type": "markdown",
   "id": "7e4664eb",
   "metadata": {},
   "source": [
    "## Position nodes"
   ]
  },
  {
   "cell_type": "code",
   "execution_count": null,
   "id": "298b45c7",
   "metadata": {},
   "outputs": [],
   "source": [
    "# explicitly set positions POSICAO DOS MODOS\n",
    "pos = {1: (0, 0), 2: (-1, 0.3), 3: (2, 0.17), 4: (1.5,0.3),5:(3,0),6:(3,0.3)}"
   ]
  },
  {
   "cell_type": "markdown",
   "id": "f58ac58d",
   "metadata": {},
   "source": [
    "## draw graph"
   ]
  },
  {
   "cell_type": "code",
   "execution_count": null,
   "id": "2144bb48",
   "metadata": {},
   "outputs": [],
   "source": [
    "nx.draw_networkx(G, pos)\n",
    "\n",
    "# Set margins for the axes so that nodes aren't clipped\n",
    "ax = plt.gca()\n",
    "ax.margins(0.20)\n",
    "plt.axis(\"off\")\n",
    "plt.show()"
   ]
  },
  {
   "cell_type": "markdown",
   "id": "59333387",
   "metadata": {},
   "source": [
    "## list of adjacent nodes"
   ]
  },
  {
   "cell_type": "markdown",
   "id": "43c77bf0",
   "metadata": {},
   "source": [
    "index is the node and the elements are the adjacent nodes"
   ]
  },
  {
   "cell_type": "code",
   "execution_count": null,
   "id": "80d4421a",
   "metadata": {},
   "outputs": [],
   "source": [
    "adj_t=[];\n",
    "for j in range(1,nv+1):\n",
    "    adj_t.append([n for n in G.neighbors(j)])\n",
    "    \n",
    "adj_t"
   ]
  },
  {
   "cell_type": "code",
   "execution_count": null,
   "id": "5e17c5ba",
   "metadata": {},
   "outputs": [],
   "source": []
  }
 ],
 "metadata": {
  "hide_input": false,
  "kernelspec": {
   "display_name": "Python 3 (ipykernel)",
   "language": "python",
   "name": "python3"
  },
  "language_info": {
   "codemirror_mode": {
    "name": "ipython",
    "version": 3
   },
   "file_extension": ".py",
   "mimetype": "text/x-python",
   "name": "python",
   "nbconvert_exporter": "python",
   "pygments_lexer": "ipython3",
   "version": "3.10.13"
  },
  "toc": {
   "base_numbering": 1,
   "nav_menu": {},
   "number_sections": true,
   "sideBar": true,
   "skip_h1_title": false,
   "title_cell": "Table of Contents",
   "title_sidebar": "Contents",
   "toc_cell": false,
   "toc_position": {},
   "toc_section_display": true,
   "toc_window_display": false
  }
 },
 "nbformat": 4,
 "nbformat_minor": 5
}
