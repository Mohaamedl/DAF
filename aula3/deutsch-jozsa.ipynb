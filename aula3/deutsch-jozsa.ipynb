{
 "cells": [
  {
   "cell_type": "markdown",
   "metadata": {
    "tags": [
     "remove_cell"
    ]
   },
   "source": [
    "# Deutsch-Jozsa Algorithm"
   ]
  },
  {
   "cell_type": "markdown",
   "metadata": {},
   "source": [
    "In this section, we first introduce the Deutsch-Jozsa problem, and classical and quantum algorithms to solve it. We then implement the quantum algorithm using Qiskit, and run it on a simulator and device."
   ]
  },
  {
   "cell_type": "markdown",
   "metadata": {},
   "source": [
    "## 1. Introduction <a id='introduction'></a>"
   ]
  },
  {
   "cell_type": "markdown",
   "metadata": {},
   "source": [
    "The Deutsch-Jozsa algorithm, first introduced in Reference [1], was the first example of a quantum algorithm that performs better than the best classical algorithm. It showed that there can be advantages to using a quantum computer as a computational tool for a specific problem."
   ]
  },
  {
   "cell_type": "markdown",
   "metadata": {},
   "source": [
    "### 1.1 Deutsch-Jozsa Problem <a id='djproblem'> </a>\n",
    "\n",
    "We are given a hidden Boolean function $f$, which takes as input a string of bits, and returns either $0$ or $1$, that is:\n",
    "\n",
    "$$\n",
    "f(\\{x_0,x_1,x_2,...\\}) \\rightarrow 0 \\textrm{ or } 1 \\textrm{ , where } x_n \\textrm{ is } 0 \\textrm{ or } 1$$\n",
    "\n",
    "The property of the given Boolean function is that it is guaranteed to either be balanced or constant. A constant function returns all $0$'s or all $1$'s for any input, while a balanced function returns $0$'s for exactly half of all inputs and $1$'s for the other half. Our task is to determine whether the given function is balanced or constant. \n",
    "\n",
    "Note that the Deutsch-Jozsa problem is an $n$-bit extension of the single bit Deutsch problem. \n",
    "\n",
    "### 1.2 The Classical Solution <a id='classical-solution'> </a>\n",
    "\n",
    "Classically, in the best case, two queries to the oracle can determine if the hidden Boolean function, $f(x)$, is balanced: \n",
    "e.g. if we get both $f(0,0,0,...)\\rightarrow 0$ and $f(1,0,0,...) \\rightarrow 1$, then we know the function is balanced as we have obtained the two different outputs.  \n",
    "\n",
    "In the worst case, if we continue to see the same output for each input we try, we will have to check exactly half of all possible inputs plus one in order to be certain that $f(x)$ is constant. Since the total number of possible inputs is $2^n$, this implies that we need $2^{n-1}+1$ trial inputs to be certain that $f(x)$ is constant in the worst case. For example, for a $4$-bit string, if we checked $8$ out of the $16$ possible combinations, getting all $0$'s, it is still possible that the $9^\\textrm{th}$ input returns a $1$ and $f(x)$ is balanced. Probabilistically, this is a very unlikely event. In fact, if we get the same result continually in succession, we can express the probability that the function is constant as a function of $k$ inputs as:\n",
    "\n",
    "\n",
    "\n",
    "$$ P_\\textrm{constant}(k) = 1 - \\frac{1}{2^{k-1}} \\qquad \\textrm{for } 1 < k \\leq 2^{n-1}$$\n",
    "\n",
    "\n",
    "\n",
    "Realistically, we could opt to truncate our classical algorithm early, say if we were over x% confident. But if we want to be 100% confident, we would need to check $2^{n-1}+1$ inputs."
   ]
  },
  {
   "cell_type": "markdown",
   "metadata": {},
   "source": [
    "### 1.3 Quantum Solution <a id='quantum-solution'> </a>\n",
    "\n",
    "Using a quantum computer, we can solve this problem with 100% confidence after only one call to the function $f(x)$, provided we have the function $f$ implemented as a quantum oracle, which maps the state $\\vert x\\rangle \\vert y\\rangle $ to $ \\vert x\\rangle \\vert y \\oplus f(x)\\rangle$, where $\\oplus$ is addition modulo $2$. Below is the generic circuit for the Deutsch-Jozsa algorithm.\n",
    "\n",
    "![image1](images/deutsch_steps.png)\n",
    "\n",
    "Now, let's go through the steps of the algorithm:\n",
    "\n",
    "1. Prepare two quantum registers. The first is an $n$-qubit register initialized to $|0\\rangle$, and the second is a one-qubit register initialized to $|1\\rangle$:\n",
    "        \n",
    "   $$\\vert \\psi_0 \\rangle = \\vert0\\rangle^{\\otimes n} \\vert 1\\rangle$$\n",
    "\n",
    "2. Apply a Hadamard gate to each qubit:\n",
    "        \n",
    "   $$\\vert \\psi_1 \\rangle = \\frac{1}{\\sqrt{2^{n+1}}}\\sum_{x=0}^{2^n-1} \\vert x\\rangle \\left(|0\\rangle - |1 \\rangle \\right)$$\n",
    "\n",
    "3. Apply the quantum oracle $\\vert x\\rangle \\vert y\\rangle$ to $\\vert x\\rangle \\vert y \\oplus f(x)\\rangle$:\n",
    "   $$\n",
    "   \\begin{aligned}\n",
    "   \\lvert \\psi_2 \\rangle  \n",
    "   & = \\frac{1}{\\sqrt{2^{n+1}}}\\sum_{x=0}^{2^n-1} \\vert x\\rangle (\\vert f(x)\\rangle - \\vert 1 \\oplus f(x)\\rangle) \\\\  \n",
    "   & = \\frac{1}{\\sqrt{2^{n+1}}}\\sum_{x=0}^{2^n-1}(-1)^{f(x)}|x\\rangle ( |0\\rangle - |1\\rangle ) \n",
    "   \\end{aligned}\n",
    "   $$\n",
    "       \n",
    "   since for each $x,f(x)$ is either $0$ or $1$.\n",
    "\n",
    "4. At this point the second single qubit register may be ignored. Apply a Hadamard gate to each qubit in the first register:\n",
    "    $$\n",
    "    \\begin{aligned}\n",
    "        \\lvert \\psi_3 \\rangle \n",
    "            & = \\frac{1}{2^n}\\sum_{x=0}^{2^n-1}(-1)^{f(x)}\n",
    "                \\left[ \\sum_{y=0}^{2^n-1}(-1)^{x \\cdot y} \n",
    "                \\vert y \\rangle \\right] \\\\\n",
    "            & = \\frac{1}{2^n}\\sum_{y=0}^{2^n-1}\n",
    "                \\left[ \\sum_{x=0}^{2^n-1}(-1)^{f(x)}(-1)^{x \\cdot y} \\right]\n",
    "                \\vert y \\rangle\n",
    "    \\end{aligned}\n",
    "    $$\n",
    "       \n",
    "   where $x \\cdot y = x_0y_0 \\oplus x_1y_1 \\oplus \\ldots \\oplus x_{n-1}y_{n-1}$ is the sum of the bitwise product.\n",
    "\n",
    "5. Measure the first register. Notice that the probability of measuring $\\vert 0 \\rangle ^{\\otimes n} = \\lvert \\frac{1}{2^n}\\sum_{x=0}^{2^n-1}(-1)^{f(x)} \\rvert^2$, which evaluates to $1$ if $f(x)$ is constant and $0$ if $f(x)$ is balanced. \n",
    "\n",
    "\n",
    "### 1.4 Why Does This Work? <a id='why-does-this-work'> </a>\n",
    "\n",
    "- **Constant Oracle**\n",
    "\n",
    "When the oracle is *constant*, it has no effect (up to a global phase) on the input qubits, and the quantum states before and after querying the oracle are the same. Since the H-gate is its own inverse, in Step 4 we reverse Step 2 to obtain the initial quantum state of $|00\\dots 0\\rangle$ in the first register.\n",
    "\n",
    "$$\n",
    "H^{\\otimes n}\\begin{bmatrix} 1 \\\\ 0 \\\\ 0 \\\\ \\vdots \\\\ 0 \\end{bmatrix} \n",
    "= \n",
    "\\tfrac{1}{\\sqrt{2^n}}\\begin{bmatrix} 1 \\\\ 1 \\\\ 1 \\\\ \\vdots \\\\ 1 \\end{bmatrix}\n",
    "\\quad \\xrightarrow{\\text{after } U_f} \\quad\n",
    "H^{\\otimes n}\\tfrac{1}{\\sqrt{2^n}}\\begin{bmatrix} 1 \\\\ 1 \\\\ 1 \\\\ \\vdots \\\\ 1 \\end{bmatrix}\n",
    "= \n",
    "\\begin{bmatrix} 1 \\\\ 0 \\\\ 0 \\\\ \\vdots \\\\ 0 \\end{bmatrix} \n",
    "$$\n",
    "\n",
    "- **Balanced Oracle**\n",
    "\n",
    "After step 2, our input register is an equal superposition of all the states in the computational basis. When the oracle is *balanced*, phase kickback adds a negative phase to exactly half these states:\n",
    "\n",
    "$$\n",
    "U_f \\tfrac{1}{\\sqrt{2^n}}\\begin{bmatrix} 1 \\\\ 1 \\\\ 1 \\\\ \\vdots \\\\ 1 \\end{bmatrix} \n",
    "= \n",
    "\\tfrac{1}{\\sqrt{2^n}}\\begin{bmatrix} -1 \\\\ 1 \\\\ -1 \\\\ \\vdots \\\\ 1 \\end{bmatrix}\n",
    "$$\n",
    "\n",
    "\n",
    "The quantum state after querying the oracle is orthogonal to the quantum state before querying the oracle. Thus, in Step 4, when applying the H-gates, we must end up with a quantum state that is orthogonal to $|00\\dots 0\\rangle$. This means we should never measure the all-zero state. \n"
   ]
  },
  {
   "cell_type": "markdown",
   "metadata": {},
   "source": [
    "## 2. Worked Example  <a id='example'></a>\n",
    "\n",
    "Let's go through a specific example for a two bit balanced function: \n",
    "\n",
    "Consider a two-bit function $f(x_0,x_1)=x_0 \\oplus x_1$ such that \n",
    "\n",
    "$f(0,0)=0$\n",
    "\n",
    "$f(0,1)=1$\n",
    "\n",
    "$f(1,0)=1$\n",
    "\n",
    "$f(1,1)=0$\n",
    "\n",
    "The corresponding phase oracle of this two-bit oralce is $U_f \\lvert x_1, x_0 \\rangle = (-1)^{f(x_1, x_0)}\\lvert x \\rangle$\n",
    "\n",
    "We will now check if this oracle works as expected by taking a example state\n",
    "$$\\lvert \\psi_0 \\rangle = \\lvert 0 0 \\rangle_{01} \\otimes \\lvert 1 \\rangle_{2} $$\n",
    "\n",
    "1. The first register of two qubits is initialized to $|00\\rangle$ and the second register qubit to $|1\\rangle$ \n",
    "        \n",
    "   (Note that we are using subscripts 0, 1, and 2 to index the qubits. A subscript of \"01\" indicates the state of the register containing qubits 0 and 1)\n",
    "\n",
    "   $$\\lvert \\psi_0 \\rangle = \\lvert 0 0 \\rangle_{01} \\otimes \\lvert 1 \\rangle_{2} $$\n",
    "\n",
    "2. Apply Hadamard on all qubits\n",
    "   \n",
    "   $$\\lvert \\psi_1 \\rangle = \\frac{1}{2} \\left( \\lvert 0 0 \\rangle + \\lvert 0 1 \\rangle + \\lvert 1 0 \\rangle + \\lvert 1 1 \\rangle \\right)_{01} \\otimes \\frac{1}{\\sqrt{2}} \\left( \\lvert 0 \\rangle - \\lvert 1 \\rangle \\right)_{2}  $$\n",
    "\n",
    "3. The oracle function can be implemented as $\\text{Q}_f = CX_{02}CX_{12}$, \n",
    "   $$\n",
    "   \\begin{aligned}\n",
    "   \\lvert \\psi_2 \\rangle =  \\frac{1}{2\\sqrt{2}} \\left[ \\lvert 0 0 \\rangle_{01} \\otimes \\left( \\lvert 0 \\oplus 0 \\oplus 0 \\rangle - \\lvert 1 \\oplus 0 \\oplus 0 \\rangle \\right)_{2} \\\\\n",
    "       + \\lvert 0 1 \\rangle_{01} \\otimes \\left( \\lvert 0 \\oplus 0 \\oplus 1 \\rangle - \\lvert 1 \\oplus 0 \\oplus 1 \\rangle \\right)_{2} \\\\\n",
    "       + \\lvert 1 0 \\rangle_{01} \\otimes \\left( \\lvert 0 \\oplus 1 \\oplus 0 \\rangle - \\lvert 1 \\oplus 1 \\oplus 0 \\rangle \\right)_{2} \\\\\n",
    "       + \\lvert 1 1 \\rangle_{01} \\otimes \\left( \\lvert 0 \\oplus 1 \\oplus 1 \\rangle - \\lvert 1 \\oplus 1 \\oplus 1 \\rangle \\right)_{2} \\right]\n",
    "   \\end{aligned}\n",
    "   $$\n",
    "\n",
    "4. Simplifying this, we get the following: \n",
    "   $$\n",
    "   \\begin{aligned}\n",
    "   \\lvert \\psi_2 \\rangle & = \\frac{1}{2\\sqrt{2}} \\left[ \\lvert 0 0 \\rangle_{01} \\otimes \\left( \\lvert 0 \\rangle - \\lvert 1 \\rangle \\right)_{2} - \\lvert 0 1 \\rangle_{01} \\otimes \\left( \\lvert 0 \\rangle - \\lvert  1 \\rangle \\right)_{2} - \\lvert 1 0 \\rangle_{01} \\otimes \\left( \\lvert 0  \\rangle - \\lvert 1 \\rangle \\right)_{2} + \\lvert 1 1 \\rangle_{01} \\otimes \\left( \\lvert 0 \\rangle - \\lvert 1 \\rangle \\right)_{2}  \\right] \\\\\n",
    "       & = \\frac{1}{2} \\left( \\lvert 0 0 \\rangle - \\lvert 0 1 \\rangle - \\lvert 1 0 \\rangle + \\lvert 1 1 \\rangle \\right)_{01} \\otimes \\frac{1}{\\sqrt{2}} \\left( \\lvert 0 \\rangle - \\lvert 1 \\rangle \\right)_{2} \\\\\n",
    "       & = \\frac{1}{\\sqrt{2}} \\left( \\lvert 0 \\rangle - \\lvert 1 \\rangle \\right)_{0} \\otimes \\frac{1}{\\sqrt{2}} \\left( \\lvert 0 \\rangle - \\lvert 1 \\rangle \\right)_{1} \\otimes \\frac{1}{\\sqrt{2}} \\left( \\lvert 0 \\rangle - \\lvert 1 \\rangle \\right)_{2}\n",
    "   \\end{aligned}\n",
    "   $$\n",
    "\n",
    "5. Apply Hadamard on the first register\n",
    "   \n",
    "   $$ \\lvert \\psi_3\\rangle = \\lvert 1 \\rangle_{0} \\otimes \\lvert 1 \\rangle_{1} \\otimes \\left( \\lvert 0 \\rangle - \\lvert 1 \\rangle \\right)_{2} $$\n",
    "\n",
    "6. Measuring the first two qubits will give the non-zero $11$, indicating a balanced function."
   ]
  },
  {
   "cell_type": "markdown",
   "metadata": {},
   "source": [
    "## 3. Creating Quantum Oracles <a id='creating-quantum-oracles'> </a>\n",
    "\n",
    "Let's see some different ways we can create a quantum oracle. \n",
    "\n",
    "For a constant function, it is simple:\n",
    "\n",
    "1. if f(x) = 0, then apply the $I$ gate to the qubit in register 2.  \n",
    "2. if f(x) = 1, then apply the $X$ gate to the qubit in register 2.\n",
    "\n",
    "For a balanced function, there are many different circuits we can create. One of the ways we can guarantee our circuit is balanced is by performing a CNOT for each qubit in register 1, with the qubit in register 2 as the target. For example:\n",
    "\n",
    "![image2](images/deutsch_balanced1.svg)\n",
    "\n",
    "In the image above, the top three qubits form the input register, and the bottom qubit is the output register. We can see which input states give which output in the table below:\n",
    "\n",
    "| Input states that output 0 | Input States that output 1 |\n",
    "|:--------------------------:|:--------------------------:|\n",
    "|             000            |             001            |\n",
    "|             011            |             100            |\n",
    "|             101            |             010            |\n",
    "|             110            |             111            |\n",
    "\n",
    "\n",
    "We can change the results while keeping them balanced by wrapping selected controls in X-gates. For example, see the circuit and its results table below:\n",
    "\n",
    "![other_balanced_circuit](images/deutsch_balanced2.svg)\n",
    "\n",
    "| Input states that output 0 | Input states that output 1 |\n",
    "|:--------------------------:|:--------------------------:|\n",
    "|             001            |             000            |\n",
    "|             010            |             011            |\n",
    "|             100            |             101            |\n",
    "|             111            |             110            |"
   ]
  },
  {
   "cell_type": "markdown",
   "metadata": {},
   "source": [
    "## 4. Qiskit Implementation <a id='implementation'></a>\n",
    "\n",
    "We now implement the Deutsch-Jozsa algorithm for the example of a three-bit function, with both constant and balanced oracles. First let's do our imports:"
   ]
  },
  {
   "cell_type": "code",
   "execution_count": 3,
   "metadata": {
    "tags": [
     "thebelab-init"
    ]
   },
   "outputs": [],
   "source": [
    "# initialization\n",
    "import numpy as np\n",
    "\n",
    "# importing Qiskit\n",
    "from qiskit import IBMQ, Aer\n",
    "from qiskit.providers.ibmq import least_busy\n",
    "from qiskit import QuantumCircuit, transpile\n",
    "\n",
    "# import basic plot tools\n",
    "from qiskit.visualization import plot_histogram"
   ]
  },
  {
   "cell_type": "markdown",
   "metadata": {},
   "source": [
    "Next, we set the size of the input register for our oracle:"
   ]
  },
  {
   "cell_type": "code",
   "execution_count": 4,
   "metadata": {},
   "outputs": [],
   "source": [
    "# set the length of the n-bit input string. \n",
    "n = 3"
   ]
  },
  {
   "cell_type": "markdown",
   "metadata": {},
   "source": [
    "### 4.1 Constant Oracle <a id='const_oracle'></a>\n",
    "Let's start by creating a constant oracle, in this case the input has no effect on the output so we just randomly set the output qubit to be 0 or 1:"
   ]
  },
  {
   "cell_type": "code",
   "execution_count": 5,
   "metadata": {
    "tags": [
     "thebelab-init"
    ]
   },
   "outputs": [
    {
     "data": {
      "text/html": [
       "<pre style=\"word-wrap: normal;white-space: pre;background: #fff0;line-height: 1.1;font-family: &quot;Courier New&quot;,Courier,monospace\">     \n",
       "q_0: \n",
       "     \n",
       "q_1: \n",
       "     \n",
       "q_2: \n",
       "     \n",
       "q_3: \n",
       "     </pre>"
      ],
      "text/plain": [
       "     \n",
       "q_0: \n",
       "     \n",
       "q_1: \n",
       "     \n",
       "q_2: \n",
       "     \n",
       "q_3: \n",
       "     "
      ]
     },
     "execution_count": 5,
     "metadata": {},
     "output_type": "execute_result"
    }
   ],
   "source": [
    "# set the length of the n-bit input string. \n",
    "n = 3\n",
    "\n",
    "const_oracle = QuantumCircuit(n+1)\n",
    "\n",
    "output = np.random.randint(2)\n",
    "if output == 1:\n",
    "    const_oracle.x(n)\n",
    "\n",
    "const_oracle.draw()"
   ]
  },
  {
   "cell_type": "markdown",
   "metadata": {},
   "source": [
    "### 4.2 Balanced Oracle <a id='balanced_oracle'></a>"
   ]
  },
  {
   "cell_type": "code",
   "execution_count": 6,
   "metadata": {},
   "outputs": [],
   "source": [
    "balanced_oracle = QuantumCircuit(n+1)"
   ]
  },
  {
   "cell_type": "markdown",
   "metadata": {},
   "source": [
    "Next, we create a balanced oracle. As we saw in section 1b, we can create a balanced oracle by performing CNOTs with each input qubit as a control and the output bit as the target. We can vary the input states that give 0 or 1 by wrapping some of the controls in X-gates. Let's first choose a binary string of length `n` that dictates which controls to wrap:"
   ]
  },
  {
   "cell_type": "code",
   "execution_count": 7,
   "metadata": {
    "scrolled": true
   },
   "outputs": [],
   "source": [
    "b_str = \"101\""
   ]
  },
  {
   "cell_type": "markdown",
   "metadata": {},
   "source": [
    "Now we have this string, we can use it as a key to place our X-gates. For each qubit in our circuit, we place an X-gate if the corresponding digit in `b_str` is `1`, or do nothing if the digit is `0`."
   ]
  },
  {
   "cell_type": "code",
   "execution_count": 8,
   "metadata": {},
   "outputs": [
    {
     "data": {
      "text/html": [
       "<pre style=\"word-wrap: normal;white-space: pre;background: #fff0;line-height: 1.1;font-family: &quot;Courier New&quot;,Courier,monospace\">     ┌───┐\n",
       "q_0: ┤ X ├\n",
       "     └───┘\n",
       "q_1: ─────\n",
       "     ┌───┐\n",
       "q_2: ┤ X ├\n",
       "     └───┘\n",
       "q_3: ─────\n",
       "          </pre>"
      ],
      "text/plain": [
       "     ┌───┐\n",
       "q_0: ┤ X ├\n",
       "     └───┘\n",
       "q_1: ─────\n",
       "     ┌───┐\n",
       "q_2: ┤ X ├\n",
       "     └───┘\n",
       "q_3: ─────\n",
       "          "
      ]
     },
     "execution_count": 8,
     "metadata": {},
     "output_type": "execute_result"
    }
   ],
   "source": [
    "balanced_oracle = QuantumCircuit(n+1)\n",
    "b_str = \"101\"\n",
    "\n",
    "# Place X-gates\n",
    "for qubit in range(len(b_str)):\n",
    "    if b_str[qubit] == '1':\n",
    "        balanced_oracle.x(qubit)\n",
    "balanced_oracle.draw()"
   ]
  },
  {
   "cell_type": "markdown",
   "metadata": {},
   "source": [
    "Next, we do our controlled-NOT gates, using each input qubit as a control, and the output qubit as a target:"
   ]
  },
  {
   "cell_type": "code",
   "execution_count": 9,
   "metadata": {},
   "outputs": [
    {
     "data": {
      "text/html": [
       "<pre style=\"word-wrap: normal;white-space: pre;background: #fff0;line-height: 1.1;font-family: &quot;Courier New&quot;,Courier,monospace\">     ┌───┐ ░                 ░ \n",
       "q_0: ┤ X ├─░───■─────────────░─\n",
       "     └───┘ ░   │             ░ \n",
       "q_1: ──────░───┼────■────────░─\n",
       "     ┌───┐ ░   │    │        ░ \n",
       "q_2: ┤ X ├─░───┼────┼────■───░─\n",
       "     └───┘ ░ ┌─┴─┐┌─┴─┐┌─┴─┐ ░ \n",
       "q_3: ──────░─┤ X ├┤ X ├┤ X ├─░─\n",
       "           ░ └───┘└───┘└───┘ ░ </pre>"
      ],
      "text/plain": [
       "     ┌───┐ ░                 ░ \n",
       "q_0: ┤ X ├─░───■─────────────░─\n",
       "     └───┘ ░   │             ░ \n",
       "q_1: ──────░───┼────■────────░─\n",
       "     ┌───┐ ░   │    │        ░ \n",
       "q_2: ┤ X ├─░───┼────┼────■───░─\n",
       "     └───┘ ░ ┌─┴─┐┌─┴─┐┌─┴─┐ ░ \n",
       "q_3: ──────░─┤ X ├┤ X ├┤ X ├─░─\n",
       "           ░ └───┘└───┘└───┘ ░ "
      ]
     },
     "execution_count": 9,
     "metadata": {},
     "output_type": "execute_result"
    }
   ],
   "source": [
    "balanced_oracle = QuantumCircuit(n+1)\n",
    "b_str = \"101\"\n",
    "\n",
    "# Place X-gates\n",
    "for qubit in range(len(b_str)):\n",
    "    if b_str[qubit] == '1':\n",
    "        balanced_oracle.x(qubit)\n",
    "\n",
    "# Use barrier as divider\n",
    "balanced_oracle.barrier()\n",
    "\n",
    "# Controlled-NOT gates\n",
    "for qubit in range(n):\n",
    "    balanced_oracle.cx(qubit, n)\n",
    "\n",
    "balanced_oracle.barrier()\n",
    "balanced_oracle.draw()"
   ]
  },
  {
   "cell_type": "markdown",
   "metadata": {},
   "source": [
    "Finally, we repeat the code from two cells up to finish wrapping the controls in X-gates:"
   ]
  },
  {
   "cell_type": "code",
   "execution_count": 10,
   "metadata": {
    "tags": [
     "thebelab-init"
    ]
   },
   "outputs": [
    {
     "data": {
      "text/html": [
       "<pre style=\"word-wrap: normal;white-space: pre;background: #fff0;line-height: 1.1;font-family: &quot;Courier New&quot;,Courier,monospace\">     ┌───┐ ░                 ░ ┌───┐\n",
       "q_0: ┤ X ├─░───■─────────────░─┤ X ├\n",
       "     └───┘ ░   │             ░ └───┘\n",
       "q_1: ──────░───┼────■────────░──────\n",
       "     ┌───┐ ░   │    │        ░ ┌───┐\n",
       "q_2: ┤ X ├─░───┼────┼────■───░─┤ X ├\n",
       "     └───┘ ░ ┌─┴─┐┌─┴─┐┌─┴─┐ ░ └───┘\n",
       "q_3: ──────░─┤ X ├┤ X ├┤ X ├─░──────\n",
       "           ░ └───┘└───┘└───┘ ░      </pre>"
      ],
      "text/plain": [
       "     ┌───┐ ░                 ░ ┌───┐\n",
       "q_0: ┤ X ├─░───■─────────────░─┤ X ├\n",
       "     └───┘ ░   │             ░ └───┘\n",
       "q_1: ──────░───┼────■────────░──────\n",
       "     ┌───┐ ░   │    │        ░ ┌───┐\n",
       "q_2: ┤ X ├─░───┼────┼────■───░─┤ X ├\n",
       "     └───┘ ░ ┌─┴─┐┌─┴─┐┌─┴─┐ ░ └───┘\n",
       "q_3: ──────░─┤ X ├┤ X ├┤ X ├─░──────\n",
       "           ░ └───┘└───┘└───┘ ░      "
      ]
     },
     "execution_count": 10,
     "metadata": {},
     "output_type": "execute_result"
    }
   ],
   "source": [
    "balanced_oracle = QuantumCircuit(n+1)\n",
    "b_str = \"101\"\n",
    "\n",
    "# Place X-gates\n",
    "for qubit in range(len(b_str)):\n",
    "    if b_str[qubit] == '1':\n",
    "        balanced_oracle.x(qubit)\n",
    "\n",
    "# Use barrier as divider\n",
    "balanced_oracle.barrier()\n",
    "\n",
    "# Controlled-NOT gates\n",
    "for qubit in range(n):\n",
    "    balanced_oracle.cx(qubit, n)\n",
    "\n",
    "balanced_oracle.barrier()\n",
    "\n",
    "# Place X-gates\n",
    "for qubit in range(len(b_str)):\n",
    "    if b_str[qubit] == '1':\n",
    "        balanced_oracle.x(qubit)\n",
    "\n",
    "# Show oracle\n",
    "balanced_oracle.draw()"
   ]
  },
  {
   "cell_type": "markdown",
   "metadata": {},
   "source": [
    "We have just created a balanced oracle! All that's left to do is see if the Deutsch-Jozsa algorithm can solve it.\n",
    "\n",
    "### 4.3 The Full Algorithm <a id='full_alg'></a>\n",
    "\n",
    "Let's now put everything together. This first step in the algorithm is to initialize the input qubits in the state $|{+}\\rangle$ and the output qubit in the state $|{-}\\rangle$:"
   ]
  },
  {
   "cell_type": "code",
   "execution_count": 11,
   "metadata": {},
   "outputs": [
    {
     "data": {
      "text/html": [
       "<pre style=\"word-wrap: normal;white-space: pre;background: #fff0;line-height: 1.1;font-family: &quot;Courier New&quot;,Courier,monospace\">     ┌───┐     \n",
       "q_0: ┤ H ├─────\n",
       "     ├───┤     \n",
       "q_1: ┤ H ├─────\n",
       "     ├───┤     \n",
       "q_2: ┤ H ├─────\n",
       "     ├───┤┌───┐\n",
       "q_3: ┤ X ├┤ H ├\n",
       "     └───┘└───┘\n",
       "c: 3/══════════\n",
       "               </pre>"
      ],
      "text/plain": [
       "     ┌───┐     \n",
       "q_0: ┤ H ├─────\n",
       "     ├───┤     \n",
       "q_1: ┤ H ├─────\n",
       "     ├───┤     \n",
       "q_2: ┤ H ├─────\n",
       "     ├───┤┌───┐\n",
       "q_3: ┤ X ├┤ H ├\n",
       "     └───┘└───┘\n",
       "c: 3/══════════\n",
       "               "
      ]
     },
     "execution_count": 11,
     "metadata": {},
     "output_type": "execute_result"
    }
   ],
   "source": [
    "dj_circuit = QuantumCircuit(n+1, n)\n",
    "\n",
    "# Apply H-gates\n",
    "for qubit in range(n):\n",
    "    dj_circuit.h(qubit)\n",
    "\n",
    "# Put qubit in state |->\n",
    "dj_circuit.x(n)\n",
    "dj_circuit.h(n)\n",
    "dj_circuit.draw()"
   ]
  },
  {
   "cell_type": "markdown",
   "metadata": {},
   "source": [
    "Next, let's apply the oracle. Here we apply the `balanced_oracle` we created above:"
   ]
  },
  {
   "cell_type": "code",
   "execution_count": 12,
   "metadata": {
    "scrolled": true
   },
   "outputs": [
    {
     "data": {
      "text/html": [
       "<pre style=\"word-wrap: normal;white-space: pre;background: #fff0;line-height: 1.1;font-family: &quot;Courier New&quot;,Courier,monospace\">     ┌───┐┌───┐ ░                 ░ ┌───┐\n",
       "q_0: ┤ H ├┤ X ├─░───■─────────────░─┤ X ├\n",
       "     ├───┤└───┘ ░   │             ░ └───┘\n",
       "q_1: ┤ H ├──────░───┼────■────────░──────\n",
       "     ├───┤┌───┐ ░   │    │        ░ ┌───┐\n",
       "q_2: ┤ H ├┤ X ├─░───┼────┼────■───░─┤ X ├\n",
       "     ├───┤├───┤ ░ ┌─┴─┐┌─┴─┐┌─┴─┐ ░ └───┘\n",
       "q_3: ┤ X ├┤ H ├─░─┤ X ├┤ X ├┤ X ├─░──────\n",
       "     └───┘└───┘ ░ └───┘└───┘└───┘ ░      \n",
       "c: 3/════════════════════════════════════\n",
       "                                         </pre>"
      ],
      "text/plain": [
       "     ┌───┐┌───┐ ░                 ░ ┌───┐\n",
       "q_0: ┤ H ├┤ X ├─░───■─────────────░─┤ X ├\n",
       "     ├───┤└───┘ ░   │             ░ └───┘\n",
       "q_1: ┤ H ├──────░───┼────■────────░──────\n",
       "     ├───┤┌───┐ ░   │    │        ░ ┌───┐\n",
       "q_2: ┤ H ├┤ X ├─░───┼────┼────■───░─┤ X ├\n",
       "     ├───┤├───┤ ░ ┌─┴─┐┌─┴─┐┌─┴─┐ ░ └───┘\n",
       "q_3: ┤ X ├┤ H ├─░─┤ X ├┤ X ├┤ X ├─░──────\n",
       "     └───┘└───┘ ░ └───┘└───┘└───┘ ░      \n",
       "c: 3/════════════════════════════════════\n",
       "                                         "
      ]
     },
     "execution_count": 12,
     "metadata": {},
     "output_type": "execute_result"
    }
   ],
   "source": [
    "dj_circuit = QuantumCircuit(n+1, n)\n",
    "\n",
    "# Apply H-gates\n",
    "for qubit in range(n):\n",
    "    dj_circuit.h(qubit)\n",
    "\n",
    "# Put qubit in state |->\n",
    "dj_circuit.x(n)\n",
    "dj_circuit.h(n)\n",
    "\n",
    "# Add oracle\n",
    "dj_circuit = dj_circuit.compose(balanced_oracle)\n",
    "dj_circuit.draw()"
   ]
  },
  {
   "cell_type": "markdown",
   "metadata": {},
   "source": [
    "Finally, we perform H-gates on the $n$-input qubits, and measure our input register:"
   ]
  },
  {
   "cell_type": "code",
   "execution_count": 13,
   "metadata": {
    "scrolled": true
   },
   "outputs": [
    {
     "data": {
      "text/html": [
       "<pre style=\"word-wrap: normal;white-space: pre;background: #fff0;line-height: 1.1;font-family: &quot;Courier New&quot;,Courier,monospace\">     ┌───┐┌───┐ ░                 ░ ┌───┐┌───┐ ░ ┌─┐      \n",
       "q_0: ┤ H ├┤ X ├─░───■─────────────░─┤ X ├┤ H ├─░─┤M├──────\n",
       "     ├───┤└───┘ ░   │             ░ ├───┤└───┘ ░ └╥┘┌─┐   \n",
       "q_1: ┤ H ├──────░───┼────■────────░─┤ H ├──────░──╫─┤M├───\n",
       "     ├───┤┌───┐ ░   │    │        ░ ├───┤┌───┐ ░  ║ └╥┘┌─┐\n",
       "q_2: ┤ H ├┤ X ├─░───┼────┼────■───░─┤ X ├┤ H ├─░──╫──╫─┤M├\n",
       "     ├───┤├───┤ ░ ┌─┴─┐┌─┴─┐┌─┴─┐ ░ └───┘└───┘ ░  ║  ║ └╥┘\n",
       "q_3: ┤ X ├┤ H ├─░─┤ X ├┤ X ├┤ X ├─░────────────░──╫──╫──╫─\n",
       "     └───┘└───┘ ░ └───┘└───┘└───┘ ░            ░  ║  ║  ║ \n",
       "c: 3/═════════════════════════════════════════════╩══╩══╩═\n",
       "                                                  0  1  2 </pre>"
      ],
      "text/plain": [
       "     ┌───┐┌───┐ ░                 ░ ┌───┐┌───┐ ░ ┌─┐      \n",
       "q_0: ┤ H ├┤ X ├─░───■─────────────░─┤ X ├┤ H ├─░─┤M├──────\n",
       "     ├───┤└───┘ ░   │             ░ ├───┤└───┘ ░ └╥┘┌─┐   \n",
       "q_1: ┤ H ├──────░───┼────■────────░─┤ H ├──────░──╫─┤M├───\n",
       "     ├───┤┌───┐ ░   │    │        ░ ├───┤┌───┐ ░  ║ └╥┘┌─┐\n",
       "q_2: ┤ H ├┤ X ├─░───┼────┼────■───░─┤ X ├┤ H ├─░──╫──╫─┤M├\n",
       "     ├───┤├───┤ ░ ┌─┴─┐┌─┴─┐┌─┴─┐ ░ └───┘└───┘ ░  ║  ║ └╥┘\n",
       "q_3: ┤ X ├┤ H ├─░─┤ X ├┤ X ├┤ X ├─░────────────░──╫──╫──╫─\n",
       "     └───┘└───┘ ░ └───┘└───┘└───┘ ░            ░  ║  ║  ║ \n",
       "c: 3/═════════════════════════════════════════════╩══╩══╩═\n",
       "                                                  0  1  2 "
      ]
     },
     "execution_count": 13,
     "metadata": {},
     "output_type": "execute_result"
    }
   ],
   "source": [
    "dj_circuit = QuantumCircuit(n+1, n)\n",
    "\n",
    "# Apply H-gates\n",
    "for qubit in range(n):\n",
    "    dj_circuit.h(qubit)\n",
    "\n",
    "# Put qubit in state |->\n",
    "dj_circuit.x(n)\n",
    "dj_circuit.h(n)\n",
    "\n",
    "# Add oracle\n",
    "dj_circuit = dj_circuit.compose(balanced_oracle)\n",
    "\n",
    "# Repeat H-gates\n",
    "for qubit in range(n):\n",
    "    dj_circuit.h(qubit)\n",
    "dj_circuit.barrier()\n",
    "\n",
    "# Measure\n",
    "for i in range(n):\n",
    "    dj_circuit.measure(i, i)\n",
    "\n",
    "# Display circuit\n",
    "dj_circuit.draw()"
   ]
  },
  {
   "cell_type": "markdown",
   "metadata": {},
   "source": [
    "Let's see the output:"
   ]
  },
  {
   "cell_type": "code",
   "execution_count": 14,
   "metadata": {},
   "outputs": [
    {
     "name": "stderr",
     "output_type": "stream",
     "text": [
      "C:\\Users\\moham\\AppData\\Local\\Temp\\ipykernel_18084\\402308267.py:2: DeprecationWarning: The 'qiskit.Aer' entry point is deprecated and will be removed in Qiskit 1.0. You should use 'qiskit_aer.Aer' directly instead.\n",
      "  aer_sim = Aer.get_backend('aer_simulator')\n"
     ]
    },
    {
     "data": {
      "image/png": "[encoded data removed]",
      "text/plain": [
       "<Figure size 700x500 with 1 Axes>"
      ]
     },
     "execution_count": 14,
     "metadata": {},
     "output_type": "execute_result"
    }
   ],
   "source": [
    "# use local simulator\n",
    "aer_sim = Aer.get_backend('aer_simulator')\n",
    "results = aer_sim.run(dj_circuit).result()\n",
    "answer = results.get_counts()\n",
    "\n",
    "plot_histogram(answer)"
   ]
  },
  {
   "cell_type": "code",
   "execution_count": 15,
   "metadata": {
    "tags": [
     "sanity-check"
    ]
   },
   "outputs": [],
   "source": [
    "# ...we have a 0% chance of measuring 000. \n",
    "assert answer.get('000', 0) == 0"
   ]
  },
  {
   "cell_type": "markdown",
   "metadata": {},
   "source": [
    "We can see from the results above that we have a 0% chance of measuring `000`. This correctly predicts the function is balanced. \n",
    "\n",
    "### 4.4 Generalised Circuits <a id='general_circs'></a>\n",
    "\n",
    "Below, we provide a generalised function that creates Deutsch-Jozsa oracles and turns them into quantum gates. It takes the `case`, (either `'balanced'` or '`constant`', and `n`, the size of the input register:"
   ]
  },
  {
   "cell_type": "code",
   "execution_count": 16,
   "metadata": {
    "tags": [
     "thebelab-init"
    ]
   },
   "outputs": [],
   "source": [
    "def dj_oracle(case, n):\n",
    "    # We need to make a QuantumCircuit object to return\n",
    "    # This circuit has n+1 qubits: the size of the input,\n",
    "    # plus one output qubit\n",
    "    oracle_qc = QuantumCircuit(n+1)\n",
    "    \n",
    "    # First, let's deal with the case in which oracle is balanced\n",
    "    if case == \"balanced\":\n",
    "        # First generate a random number that tells us which CNOTs to\n",
    "        # wrap in X-gates:\n",
    "        b = np.random.randint(1,2**n)\n",
    "        # Next, format 'b' as a binary string of length 'n', padded with zeros:\n",
    "        b_str = format(b, '0'+str(n)+'b')\n",
    "        # Next, we place the first X-gates. Each digit in our binary string \n",
    "        # corresponds to a qubit, if the digit is 0, we do nothing, if it's 1\n",
    "        # we apply an X-gate to that qubit:\n",
    "        for qubit in range(len(b_str)):\n",
    "            if b_str[qubit] == '1':\n",
    "                oracle_qc.x(qubit)\n",
    "        # Do the controlled-NOT gates for each qubit, using the output qubit \n",
    "        # as the target:\n",
    "        for qubit in range(n):\n",
    "            oracle_qc.cx(qubit, n)\n",
    "        # Next, place the final X-gates\n",
    "        for qubit in range(len(b_str)):\n",
    "            if b_str[qubit] == '1':\n",
    "                oracle_qc.x(qubit)\n",
    "\n",
    "    # Case in which oracle is constant\n",
    "    if case == \"constant\":\n",
    "        # First decide what the fixed output of the oracle will be\n",
    "        # (either always 0 or always 1)\n",
    "        output = np.random.randint(2)\n",
    "        if output == 1:\n",
    "            oracle_qc.x(n)\n",
    "    \n",
    "    oracle_gate = oracle_qc.to_gate()\n",
    "    oracle_gate.name = \"Oracle\" # To show when we display the circuit\n",
    "    return oracle_gate"
   ]
  },
  {
   "cell_type": "markdown",
   "metadata": {},
   "source": [
    "Let's also create a function that takes this oracle gate and performs the Deutsch-Jozsa algorithm on it:"
   ]
  },
  {
   "cell_type": "code",
   "execution_count": 17,
   "metadata": {
    "scrolled": true,
    "tags": [
     "thebelab-init"
    ]
   },
   "outputs": [],
   "source": [
    "def dj_algorithm(oracle, n):\n",
    "    dj_circuit = QuantumCircuit(n+1, n)\n",
    "    # Set up the output qubit:\n",
    "    dj_circuit.x(n)\n",
    "    dj_circuit.h(n)\n",
    "    # And set up the input register:\n",
    "    for qubit in range(n):\n",
    "        dj_circuit.h(qubit)\n",
    "    # Let's append the oracle gate to our circuit:\n",
    "    dj_circuit.append(oracle, range(n+1))\n",
    "    # Finally, perform the H-gates again and measure:\n",
    "    for qubit in range(n):\n",
    "        dj_circuit.h(qubit)\n",
    "    \n",
    "    for i in range(n):\n",
    "        dj_circuit.measure(i, i)\n",
    "    \n",
    "    return dj_circuit"
   ]
  },
  {
   "cell_type": "markdown",
   "metadata": {},
   "source": [
    "Finally, let's use these functions to play around with the algorithm:"
   ]
  },
  {
   "cell_type": "code",
   "execution_count": 18,
   "metadata": {},
   "outputs": [
    {
     "data": {
      "text/html": [
       "<pre style=\"word-wrap: normal;white-space: pre;background: #fff0;line-height: 1.1;font-family: &quot;Courier New&quot;,Courier,monospace\">     ┌───┐     ┌─────────┐┌───┐┌─┐         \n",
       "q_0: ┤ H ├─────┤0        ├┤ H ├┤M├─────────\n",
       "     ├───┤     │         │├───┤└╥┘┌─┐      \n",
       "q_1: ┤ H ├─────┤1        ├┤ H ├─╫─┤M├──────\n",
       "     ├───┤     │         │├───┤ ║ └╥┘┌─┐   \n",
       "q_2: ┤ H ├─────┤2 Oracle ├┤ H ├─╫──╫─┤M├───\n",
       "     ├───┤     │         │├───┤ ║  ║ └╥┘┌─┐\n",
       "q_3: ┤ H ├─────┤3        ├┤ H ├─╫──╫──╫─┤M├\n",
       "     ├───┤┌───┐│         │└───┘ ║  ║  ║ └╥┘\n",
       "q_4: ┤ X ├┤ H ├┤4        ├──────╫──╫──╫──╫─\n",
       "     └───┘└───┘└─────────┘      ║  ║  ║  ║ \n",
       "c: 4/═══════════════════════════╩══╩══╩══╩═\n",
       "                                0  1  2  3 </pre>"
      ],
      "text/plain": [
       "     ┌───┐     ┌─────────┐┌───┐┌─┐         \n",
       "q_0: ┤ H ├─────┤0        ├┤ H ├┤M├─────────\n",
       "     ├───┤     │         │├───┤└╥┘┌─┐      \n",
       "q_1: ┤ H ├─────┤1        ├┤ H ├─╫─┤M├──────\n",
       "     ├───┤     │         │├───┤ ║ └╥┘┌─┐   \n",
       "q_2: ┤ H ├─────┤2 Oracle ├┤ H ├─╫──╫─┤M├───\n",
       "     ├───┤     │         │├───┤ ║  ║ └╥┘┌─┐\n",
       "q_3: ┤ H ├─────┤3        ├┤ H ├─╫──╫──╫─┤M├\n",
       "     ├───┤┌───┐│         │└───┘ ║  ║  ║ └╥┘\n",
       "q_4: ┤ X ├┤ H ├┤4        ├──────╫──╫──╫──╫─\n",
       "     └───┘└───┘└─────────┘      ║  ║  ║  ║ \n",
       "c: 4/═══════════════════════════╩══╩══╩══╩═\n",
       "                                0  1  2  3 "
      ]
     },
     "execution_count": 18,
     "metadata": {},
     "output_type": "execute_result"
    }
   ],
   "source": [
    "n = 4\n",
    "oracle_gate = dj_oracle('balanced', n)\n",
    "dj_circuit = dj_algorithm(oracle_gate, n)\n",
    "dj_circuit.draw()"
   ]
  },
  {
   "cell_type": "markdown",
   "metadata": {},
   "source": [
    "And see the results of running this circuit:"
   ]
  },
  {
   "cell_type": "code",
   "execution_count": 19,
   "metadata": {},
   "outputs": [
    {
     "data": {
      "image/png": "[encoded data removed]",
      "text/plain": [
       "<Figure size 700x500 with 1 Axes>"
      ]
     },
     "execution_count": 19,
     "metadata": {},
     "output_type": "execute_result"
    }
   ],
   "source": [
    "transpiled_dj_circuit = transpile(dj_circuit, aer_sim)\n",
    "results = aer_sim.run(transpiled_dj_circuit).result()\n",
    "answer = results.get_counts()\n",
    "plot_histogram(answer)"
   ]
  },
  {
   "cell_type": "markdown",
   "metadata": {},
   "source": [
    "## 5. Experiment with Real Devices <a id='device'></a>\n",
    "\n",
    "We can run the circuit on the real device as shown below. We first look for the least-busy device that can handle our circuit."
   ]
  },
  {
   "cell_type": "code",
   "execution_count": 20,
   "metadata": {
    "tags": [
     "uses-hardware"
    ]
   },
   "outputs": [
    {
     "name": "stderr",
     "output_type": "stream",
     "text": [
      "C:\\Users\\moham\\AppData\\Local\\Temp\\ipykernel_18084\\2347876859.py:2: DeprecationWarning: The qiskit.IBMQ entrypoint and the qiskit-ibmq-provider package (accessible from 'qiskit.providers.ibmq`) are deprecated and will be removed in a future release. Instead you should use the qiskit-ibm-provider package which is accessible from 'qiskit_ibm_provider'. You can install it with 'pip install qiskit_ibm_provider'. Just replace 'qiskit.IBMQ' with 'qiskit_ibm_provider.IBMProvider'\n",
      "  IBMQ.load_account()\n"
     ]
    },
    {
     "ename": "IBMQAccountCredentialsNotFound",
     "evalue": "'No IBM Quantum Experience credentials found.'",
     "output_type": "error",
     "traceback": [
      "\u001b[1;31m---------------------------------------------------------------------------\u001b[0m",
      "\u001b[1;31mIBMQAccountCredentialsNotFound\u001b[0m            Traceback (most recent call last)",
      "Cell \u001b[1;32mIn[20], line 2\u001b[0m\n\u001b[0;32m      1\u001b[0m \u001b[38;5;66;03m# Load our saved IBMQ accounts and get the least busy backend device with greater than or equal to (n+1) qubits\u001b[39;00m\n\u001b[1;32m----> 2\u001b[0m \u001b[43mIBMQ\u001b[49m\u001b[38;5;241;43m.\u001b[39;49m\u001b[43mload_account\u001b[49m\u001b[43m(\u001b[49m\u001b[43m)\u001b[49m\n\u001b[0;32m      3\u001b[0m provider \u001b[38;5;241m=\u001b[39m IBMQ\u001b[38;5;241m.\u001b[39mget_provider(hub\u001b[38;5;241m=\u001b[39m\u001b[38;5;124m'\u001b[39m\u001b[38;5;124mibm-q\u001b[39m\u001b[38;5;124m'\u001b[39m)\n\u001b[0;32m      4\u001b[0m backend \u001b[38;5;241m=\u001b[39m least_busy(provider\u001b[38;5;241m.\u001b[39mbackends(filters\u001b[38;5;241m=\u001b[39m\u001b[38;5;28;01mlambda\u001b[39;00m x: x\u001b[38;5;241m.\u001b[39mconfiguration()\u001b[38;5;241m.\u001b[39mn_qubits \u001b[38;5;241m>\u001b[39m\u001b[38;5;241m=\u001b[39m (n\u001b[38;5;241m+\u001b[39m\u001b[38;5;241m1\u001b[39m) \u001b[38;5;129;01mand\u001b[39;00m\n\u001b[0;32m      5\u001b[0m                                    \u001b[38;5;129;01mnot\u001b[39;00m x\u001b[38;5;241m.\u001b[39mconfiguration()\u001b[38;5;241m.\u001b[39msimulator \u001b[38;5;129;01mand\u001b[39;00m x\u001b[38;5;241m.\u001b[39mstatus()\u001b[38;5;241m.\u001b[39moperational\u001b[38;5;241m==\u001b[39m\u001b[38;5;28;01mTrue\u001b[39;00m))\n",
      "File \u001b[1;32mC:\\ProgramData\\anaconda3\\envs\\qiskit\\Lib\\site-packages\\qiskit\\providers\\ibmq\\ibmqfactory.py:167\u001b[0m, in \u001b[0;36mIBMQFactory.load_account\u001b[1;34m(self)\u001b[0m\n\u001b[0;32m    164\u001b[0m credentials_list \u001b[38;5;241m=\u001b[39m \u001b[38;5;28mlist\u001b[39m(stored_credentials\u001b[38;5;241m.\u001b[39mvalues())\n\u001b[0;32m    166\u001b[0m \u001b[38;5;28;01mif\u001b[39;00m \u001b[38;5;129;01mnot\u001b[39;00m credentials_list:\n\u001b[1;32m--> 167\u001b[0m     \u001b[38;5;28;01mraise\u001b[39;00m IBMQAccountCredentialsNotFound(\n\u001b[0;32m    168\u001b[0m         \u001b[38;5;124m'\u001b[39m\u001b[38;5;124mNo IBM Quantum Experience credentials found.\u001b[39m\u001b[38;5;124m'\u001b[39m)\n\u001b[0;32m    170\u001b[0m \u001b[38;5;28;01mif\u001b[39;00m \u001b[38;5;28mlen\u001b[39m(credentials_list) \u001b[38;5;241m>\u001b[39m \u001b[38;5;241m1\u001b[39m:\n\u001b[0;32m    171\u001b[0m     \u001b[38;5;28;01mraise\u001b[39;00m IBMQAccountMultipleCredentialsFound(\n\u001b[0;32m    172\u001b[0m         \u001b[38;5;124m'\u001b[39m\u001b[38;5;124mMultiple IBM Quantum Experience credentials found. \u001b[39m\u001b[38;5;124m'\u001b[39m \u001b[38;5;241m+\u001b[39m UPDATE_ACCOUNT_TEXT)\n",
      "\u001b[1;31mIBMQAccountCredentialsNotFound\u001b[0m: 'No IBM Quantum Experience credentials found.'"
     ]
    }
   ],
   "source": [
    "# Load our saved IBMQ accounts and get the least busy backend device with greater than or equal to (n+1) qubits\n",
    "IBMQ.load_account()\n",
    "provider = IBMQ.get_provider(hub='ibm-q')\n",
    "backend = least_busy(provider.backends(filters=lambda x: x.configuration().n_qubits >= (n+1) and\n",
    "                                   not x.configuration().simulator and x.status().operational==True))\n",
    "print(\"least busy backend: \", backend)"
   ]
  },
  {
   "cell_type": "code",
   "execution_count": 20,
   "metadata": {
    "tags": [
     "uses-hardware"
    ]
   },
   "outputs": [
    {
     "name": "stdout",
     "output_type": "stream",
     "text": [
      "Job Status: job has successfully run\n"
     ]
    }
   ],
   "source": [
    "# Run our circuit on the least busy backend. Monitor the execution of the job in the queue\n",
    "from qiskit.tools.monitor import job_monitor\n",
    "\n",
    "transpiled_dj_circuit = transpile(dj_circuit, backend, optimization_level=3)\n",
    "job = backend.run(transpiled_dj_circuit)\n",
    "job_monitor(job, interval=2)"
   ]
  },
  {
   "cell_type": "code",
   "execution_count": 21,
   "metadata": {
    "tags": [
     "uses-hardware"
    ]
   },
   "outputs": [
    {
     "data": {
      "image/svg+xml": [
       "<?xml version=\"1.0\" encoding=\"UTF-8\"?><!DOCTYPE svg  PUBLIC '-//W3C//DTD SVG 1.1//EN'  'http://www.w3.org/Graphics/SVG/1.1/DTD/svg11.dtd'><svg width=\"460.72pt\" height=\"336.72pt\" version=\"1.1\" viewBox=\"0 0 460.72 336.72\" xmlns=\"http://www.w3.org/2000/svg\" xmlns:xlink=\"http://www.w3.org/1999/xlink\"><defs><style type=\"text/css\">*{stroke-linejoin: round; stroke-linecap: butt}</style></defs><path d=\"m0 336.72h460.72v-336.72h-460.72z\" fill=\"#ffffff\"/><path d=\"m62.921 284.4h390.6v-277.2h-390.6z\" fill=\"#ffffff\"/><defs><path id=\"m90d8ed0810\" d=\"m0 0v3.5\" stroke=\"#343a3f\" stroke-width=\".8\"/></defs><use x=\"87.251553\" y=\"284.4\" fill=\"#343a3f\" stroke=\"#343a3f\" stroke-width=\".8\" xlink:href=\"#m90d8ed0810\"/><g transform=\"translate(84.789 328.52) rotate(-70) scale(.14 -.14)\" fill=\"#343a3f\"><defs><path id=\"DejaVuSans-30\" transform=\"scale(.015625)\" d=\"m2034 4250q-487 0-733-480-245-479-245-1442 0-959 245-1439 246-480 733-480 491 0 736 480 246 480 246 1439 0 963-246 1442-245 480-736 480zm0 500q785 0 1199-621 414-620 414-1801 0-1178-414-1799-414-620-1199-620-784 0-1198 620-414 621-414 1799 0 1181 414 1801 414 621 1198 621z\"/></defs><use xlink:href=\"#DejaVuSans-30\"/><use x=\"63.623047\" xlink:href=\"#DejaVuSans-30\"/><use x=\"127.246094\" xlink:href=\"#DejaVuSans-30\"/><use x=\"190.869141\" xlink:href=\"#DejaVuSans-30\"/></g><use x=\"113.554583\" y=\"284.4\" fill=\"#343a3f\" stroke=\"#343a3f\" stroke-width=\".8\" xlink:href=\"#m90d8ed0810\"/><g transform=\"translate(111.09 328.52) rotate(-70) scale(.14 -.14)\" fill=\"#343a3f\"><defs><path id=\"DejaVuSans-31\" transform=\"scale(.015625)\" d=\"m794 531h1031v3560l-1122-225v575l1116 225h631v-4135h1031v-531h-2687v531z\"/></defs><use xlink:href=\"#DejaVuSans-30\"/><use x=\"63.623047\" xlink:href=\"#DejaVuSans-30\"/><use x=\"127.246094\" xlink:href=\"#DejaVuSans-30\"/><use x=\"190.869141\" xlink:href=\"#DejaVuSans-31\"/></g><use x=\"139.857614\" y=\"284.4\" fill=\"#343a3f\" stroke=\"#343a3f\" stroke-width=\".8\" xlink:href=\"#m90d8ed0810\"/><g transform=\"translate(137.39 328.52) rotate(-70) scale(.14 -.14)\" fill=\"#343a3f\"><use xlink:href=\"#DejaVuSans-30\"/><use x=\"63.623047\" xlink:href=\"#DejaVuSans-30\"/><use x=\"127.246094\" xlink:href=\"#DejaVuSans-31\"/><use x=\"190.869141\" xlink:href=\"#DejaVuSans-30\"/></g><use x=\"166.160644\" y=\"284.4\" fill=\"#343a3f\" stroke=\"#343a3f\" stroke-width=\".8\" xlink:href=\"#m90d8ed0810\"/><g transform=\"translate(163.7 328.52) rotate(-70) scale(.14 -.14)\" fill=\"#343a3f\"><use xlink:href=\"#DejaVuSans-30\"/><use x=\"63.623047\" xlink:href=\"#DejaVuSans-30\"/><use x=\"127.246094\" xlink:href=\"#DejaVuSans-31\"/><use x=\"190.869141\" xlink:href=\"#DejaVuSans-31\"/></g><use x=\"192.463674\" y=\"284.4\" fill=\"#343a3f\" stroke=\"#343a3f\" stroke-width=\".8\" xlink:href=\"#m90d8ed0810\"/><g transform=\"translate(190 328.52) rotate(-70) scale(.14 -.14)\" fill=\"#343a3f\"><use xlink:href=\"#DejaVuSans-30\"/><use x=\"63.623047\" xlink:href=\"#DejaVuSans-31\"/><use x=\"127.246094\" xlink:href=\"#DejaVuSans-30\"/><use x=\"190.869141\" xlink:href=\"#DejaVuSans-31\"/></g><use x=\"218.766705\" y=\"284.4\" fill=\"#343a3f\" stroke=\"#343a3f\" stroke-width=\".8\" xlink:href=\"#m90d8ed0810\"/><g transform=\"translate(216.3 328.52) rotate(-70) scale(.14 -.14)\" fill=\"#343a3f\"><use xlink:href=\"#DejaVuSans-30\"/><use x=\"63.623047\" xlink:href=\"#DejaVuSans-31\"/><use x=\"127.246094\" xlink:href=\"#DejaVuSans-31\"/><use x=\"190.869141\" xlink:href=\"#DejaVuSans-30\"/></g><use x=\"245.069735\" y=\"284.4\" fill=\"#343a3f\" stroke=\"#343a3f\" stroke-width=\".8\" xlink:href=\"#m90d8ed0810\"/><g transform=\"translate(242.61 328.52) rotate(-70) scale(.14 -.14)\" fill=\"#343a3f\"><use xlink:href=\"#DejaVuSans-30\"/><use x=\"63.623047\" xlink:href=\"#DejaVuSans-31\"/><use x=\"127.246094\" xlink:href=\"#DejaVuSans-31\"/><use x=\"190.869141\" xlink:href=\"#DejaVuSans-31\"/></g><use x=\"271.372765\" y=\"284.4\" fill=\"#343a3f\" stroke=\"#343a3f\" stroke-width=\".8\" xlink:href=\"#m90d8ed0810\"/><g transform=\"translate(268.91 328.52) rotate(-70) scale(.14 -.14)\" fill=\"#343a3f\"><use xlink:href=\"#DejaVuSans-31\"/><use x=\"63.623047\" xlink:href=\"#DejaVuSans-30\"/><use x=\"127.246094\" xlink:href=\"#DejaVuSans-30\"/><use x=\"190.869141\" xlink:href=\"#DejaVuSans-30\"/></g><use x=\"297.675795\" y=\"284.4\" fill=\"#343a3f\" stroke=\"#343a3f\" stroke-width=\".8\" xlink:href=\"#m90d8ed0810\"/><g transform=\"translate(295.21 328.52) rotate(-70) scale(.14 -.14)\" fill=\"#343a3f\"><use xlink:href=\"#DejaVuSans-31\"/><use x=\"63.623047\" xlink:href=\"#DejaVuSans-30\"/><use x=\"127.246094\" xlink:href=\"#DejaVuSans-31\"/><use x=\"190.869141\" xlink:href=\"#DejaVuSans-30\"/></g><use x=\"323.978826\" y=\"284.4\" fill=\"#343a3f\" stroke=\"#343a3f\" stroke-width=\".8\" xlink:href=\"#m90d8ed0810\"/><g transform=\"translate(321.52 328.52) rotate(-70) scale(.14 -.14)\" fill=\"#343a3f\"><use xlink:href=\"#DejaVuSans-31\"/><use x=\"63.623047\" xlink:href=\"#DejaVuSans-30\"/><use x=\"127.246094\" xlink:href=\"#DejaVuSans-31\"/><use x=\"190.869141\" xlink:href=\"#DejaVuSans-31\"/></g><use x=\"350.281856\" y=\"284.4\" fill=\"#343a3f\" stroke=\"#343a3f\" stroke-width=\".8\" xlink:href=\"#m90d8ed0810\"/><g transform=\"translate(347.82 328.52) rotate(-70) scale(.14 -.14)\" fill=\"#343a3f\"><use xlink:href=\"#DejaVuSans-31\"/><use x=\"63.623047\" xlink:href=\"#DejaVuSans-31\"/><use x=\"127.246094\" xlink:href=\"#DejaVuSans-30\"/><use x=\"190.869141\" xlink:href=\"#DejaVuSans-30\"/></g><use x=\"376.584886\" y=\"284.4\" fill=\"#343a3f\" stroke=\"#343a3f\" stroke-width=\".8\" xlink:href=\"#m90d8ed0810\"/><g transform=\"translate(374.12 328.52) rotate(-70) scale(.14 -.14)\" fill=\"#343a3f\"><use xlink:href=\"#DejaVuSans-31\"/><use x=\"63.623047\" xlink:href=\"#DejaVuSans-31\"/><use x=\"127.246094\" xlink:href=\"#DejaVuSans-30\"/><use x=\"190.869141\" xlink:href=\"#DejaVuSans-31\"/></g><use x=\"402.887917\" y=\"284.4\" fill=\"#343a3f\" stroke=\"#343a3f\" stroke-width=\".8\" xlink:href=\"#m90d8ed0810\"/><g transform=\"translate(400.42 328.52) rotate(-70) scale(.14 -.14)\" fill=\"#343a3f\"><use xlink:href=\"#DejaVuSans-31\"/><use x=\"63.623047\" xlink:href=\"#DejaVuSans-31\"/><use x=\"127.246094\" xlink:href=\"#DejaVuSans-31\"/><use x=\"190.869141\" xlink:href=\"#DejaVuSans-30\"/></g><use x=\"429.190947\" y=\"284.4\" fill=\"#343a3f\" stroke=\"#343a3f\" stroke-width=\".8\" xlink:href=\"#m90d8ed0810\"/><g transform=\"translate(426.73 328.52) rotate(-70) scale(.14 -.14)\" fill=\"#343a3f\"><use xlink:href=\"#DejaVuSans-31\"/><use x=\"63.623047\" xlink:href=\"#DejaVuSans-31\"/><use x=\"127.246094\" xlink:href=\"#DejaVuSans-31\"/><use x=\"190.869141\" xlink:href=\"#DejaVuSans-31\"/></g><path d=\"m62.921 284.4h390.6\" clip-path=\"url(#p20027c504d)\" fill=\"none\" stroke=\"#dde1e6\" stroke-dasharray=\"2.96,1.28\" stroke-width=\".8\"/><defs><path id=\"m3f541e3567\" d=\"m0 0h-3.5\" stroke=\"#343a3f\" stroke-width=\".8\"/></defs><use x=\"62.92125\" y=\"284.4\" fill=\"#343a3f\" stroke=\"#343a3f\" stroke-width=\".8\" xlink:href=\"#m3f541e3567\"/><g transform=\"translate(24.749 289.72) scale(.14 -.14)\" fill=\"#343a3f\"><defs><path id=\"DejaVuSans-2e\" transform=\"scale(.015625)\" d=\"m684 794h660v-794h-660v794z\"/></defs><use xlink:href=\"#DejaVuSans-30\"/><use x=\"63.623047\" xlink:href=\"#DejaVuSans-2e\"/><use x=\"95.410156\" xlink:href=\"#DejaVuSans-30\"/><use x=\"159.033203\" xlink:href=\"#DejaVuSans-30\"/></g><path d=\"m62.921 228.44h390.6\" clip-path=\"url(#p20027c504d)\" fill=\"none\" stroke=\"#dde1e6\" stroke-dasharray=\"2.96,1.28\" stroke-width=\".8\"/><use x=\"62.92125\" y=\"228.435331\" fill=\"#343a3f\" stroke=\"#343a3f\" stroke-width=\".8\" xlink:href=\"#m3f541e3567\"/><g transform=\"translate(24.749 233.75) scale(.14 -.14)\" fill=\"#343a3f\"><defs><path id=\"DejaVuSans-35\" transform=\"scale(.015625)\" d=\"m691 4666h2478v-532h-1900v-1143q137 47 274 70 138 23 276 23 781 0 1237-428 457-428 457-1159 0-753-469-1171-469-417-1322-417-294 0-599 50-304 50-629 150v635q281-153 581-228t634-75q541 0 856 284 316 284 316 772 0 487-316 771-315 285-856 285-253 0-505-56-251-56-513-175v2344z\"/></defs><use xlink:href=\"#DejaVuSans-30\"/><use x=\"63.623047\" xlink:href=\"#DejaVuSans-2e\"/><use x=\"95.410156\" xlink:href=\"#DejaVuSans-31\"/><use x=\"159.033203\" xlink:href=\"#DejaVuSans-35\"/></g><path d=\"m62.921 172.47h390.6\" clip-path=\"url(#p20027c504d)\" fill=\"none\" stroke=\"#dde1e6\" stroke-dasharray=\"2.96,1.28\" stroke-width=\".8\"/><use x=\"62.92125\" y=\"172.470662\" fill=\"#343a3f\" stroke=\"#343a3f\" stroke-width=\".8\" xlink:href=\"#m3f541e3567\"/><g transform=\"translate(24.749 177.79) scale(.14 -.14)\" fill=\"#343a3f\"><defs><path id=\"DejaVuSans-33\" transform=\"scale(.015625)\" d=\"m2597 2516q453-97 707-404 255-306 255-756 0-690-475-1069-475-378-1350-378-293 0-604 58t-642 174v609q262-153 574-231 313-78 654-78 593 0 904 234t311 681q0 413-289 645-289 233-804 233h-544v519h569q465 0 712 186t247 536q0 359-255 551-254 193-729 193-260 0-557-57-297-56-653-174v562q360 100 674 150t592 50q719 0 1137-327 419-326 419-882 0-388-222-655t-631-370z\"/></defs><use xlink:href=\"#DejaVuSans-30\"/><use x=\"63.623047\" xlink:href=\"#DejaVuSans-2e\"/><use x=\"95.410156\" xlink:href=\"#DejaVuSans-33\"/><use x=\"159.033203\" xlink:href=\"#DejaVuSans-30\"/></g><path d=\"m62.921 116.51h390.6\" clip-path=\"url(#p20027c504d)\" fill=\"none\" stroke=\"#dde1e6\" stroke-dasharray=\"2.96,1.28\" stroke-width=\".8\"/><use x=\"62.92125\" y=\"116.505994\" fill=\"#343a3f\" stroke=\"#343a3f\" stroke-width=\".8\" xlink:href=\"#m3f541e3567\"/><g transform=\"translate(24.749 121.82) scale(.14 -.14)\" fill=\"#343a3f\"><defs><path id=\"DejaVuSans-34\" transform=\"scale(.015625)\" d=\"m2419 4116-1594-2491h1594v2491zm-166 550h794v-3041h666v-525h-666v-1100h-628v1100h-2106v609l1940 2957z\"/></defs><use xlink:href=\"#DejaVuSans-30\"/><use x=\"63.623047\" xlink:href=\"#DejaVuSans-2e\"/><use x=\"95.410156\" xlink:href=\"#DejaVuSans-34\"/><use x=\"159.033203\" xlink:href=\"#DejaVuSans-35\"/></g><path d=\"m62.921 60.541h390.6\" clip-path=\"url(#p20027c504d)\" fill=\"none\" stroke=\"#dde1e6\" stroke-dasharray=\"2.96,1.28\" stroke-width=\".8\"/><use x=\"62.92125\" y=\"60.541325\" fill=\"#343a3f\" stroke=\"#343a3f\" stroke-width=\".8\" xlink:href=\"#m3f541e3567\"/><g transform=\"translate(24.749 65.86) scale(.14 -.14)\" fill=\"#343a3f\"><defs><path id=\"DejaVuSans-36\" transform=\"scale(.015625)\" d=\"m2113 2584q-425 0-674-291-248-290-248-796 0-503 248-796 249-292 674-292t673 292q248 293 248 796 0 506-248 796-248 291-673 291zm1253 1979v-575q-238 112-480 171-242 60-480 60-625 0-955-422-329-422-376-1275 184 272 462 417 279 145 613 145 703 0 1111-427 408-426 408-1160 0-719-425-1154-425-434-1131-434-810 0-1238 620-428 621-428 1799 0 1106 525 1764t1409 658q238 0 480-47t505-140z\"/></defs><use xlink:href=\"#DejaVuSans-30\"/><use x=\"63.623047\" xlink:href=\"#DejaVuSans-2e\"/><use x=\"95.410156\" xlink:href=\"#DejaVuSans-36\"/><use x=\"159.033203\" xlink:href=\"#DejaVuSans-30\"/></g><g transform=\"translate(17.838 188.56) rotate(-90) scale(.14 -.14)\" fill=\"#343a3f\"><defs><path id=\"DejaVuSans-50\" transform=\"scale(.015625)\" d=\"m1259 4147v-1753h794q441 0 681 228 241 228 241 650 0 419-241 647-240 228-681 228h-794zm-631 519h1425q785 0 1186-355 402-355 402-1039 0-691-402-1044-401-353-1186-353h-794v-1875h-631v4666z\"/><path id=\"DejaVuSans-72\" transform=\"scale(.015625)\" d=\"m2631 2963q-97 56-211 82-114 27-251 27-488 0-749-317t-261-911v-1844h-578v3500h578v-544q182 319 472 473 291 155 707 155 59 0 131-8 72-7 159-23l3-590z\"/><path id=\"DejaVuSans-6f\" transform=\"scale(.015625)\" d=\"m1959 3097q-462 0-731-361t-269-989 267-989q268-361 733-361 460 0 728 362 269 363 269 988 0 622-269 986-268 364-728 364zm0 487q750 0 1178-488 429-487 429-1349 0-859-429-1349-428-489-1178-489-753 0-1180 489-426 490-426 1349 0 862 426 1349 427 488 1180 488z\"/><path id=\"DejaVuSans-62\" transform=\"scale(.015625)\" d=\"m3116 1747q0 634-261 995t-717 361q-457 0-718-361t-261-995 261-995 718-361q456 0 717 361t261 995zm-1957 1222q182 312 458 463 277 152 661 152 638 0 1036-506 399-506 399-1331t-399-1332q-398-506-1036-506-384 0-661 152-276 152-458 464v-525h-578v4863h578v-1894z\"/><path id=\"DejaVuSans-61\" transform=\"scale(.015625)\" d=\"m2194 1759q-697 0-966-159t-269-544q0-306 202-486 202-179 548-179 479 0 768 339t289 901v128h-572zm1147 238v-1997h-575v531q-197-318-491-470t-719-152q-537 0-855 302-317 302-317 808 0 590 395 890 396 300 1180 300h807v57q0 397-261 614t-733 217q-300 0-585-72-284-72-546-216v532q315 122 612 182 297 61 578 61 760 0 1135-394 375-393 375-1193z\"/><path id=\"DejaVuSans-69\" transform=\"scale(.015625)\" d=\"m603 3500h575v-3500h-575v3500zm0 1363h575v-729h-575v729z\"/><path id=\"DejaVuSans-6c\" transform=\"scale(.015625)\" d=\"m603 4863h575v-4863h-575v4863z\"/><path id=\"DejaVuSans-74\" transform=\"scale(.015625)\" d=\"m1172 4494v-994h1184v-447h-1184v-1900q0-428 117-550t477-122h590v-481h-590q-666 0-919 248-253 249-253 905v1900h-422v447h422v994h578z\"/><path id=\"DejaVuSans-65\" transform=\"scale(.015625)\" d=\"m3597 1894v-281h-2644q38-594 358-905t892-311q331 0 642 81t618 244v-544q-310-131-635-200t-659-69q-838 0-1327 487-489 488-489 1320 0 859 464 1363 464 505 1252 505 706 0 1117-455 411-454 411-1235zm-575 169q-6 471-264 752-258 282-683 282-481 0-770-272t-333-766l2050 4z\"/><path id=\"DejaVuSans-73\" transform=\"scale(.015625)\" d=\"m2834 3397v-544q-243 125-506 187-262 63-544 63-428 0-642-131t-214-394q0-200 153-314t616-217l197-44q612-131 870-370t258-667q0-488-386-773-386-284-1061-284-281 0-586 55t-642 164v594q319-166 628-249 309-82 613-82 406 0 624 139 219 139 219 392 0 234-158 359-157 125-692 241l-200 47q-534 112-772 345-237 233-237 639 0 494 350 762 350 269 994 269 318 0 599-47 282-46 519-140z\"/></defs><use xlink:href=\"#DejaVuSans-50\"/><use x=\"58.552734\" xlink:href=\"#DejaVuSans-72\"/><use x=\"97.416016\" xlink:href=\"#DejaVuSans-6f\"/><use x=\"158.597656\" xlink:href=\"#DejaVuSans-62\"/><use x=\"222.074219\" xlink:href=\"#DejaVuSans-61\"/><use x=\"283.353516\" xlink:href=\"#DejaVuSans-62\"/><use x=\"346.830078\" xlink:href=\"#DejaVuSans-69\"/><use x=\"374.613281\" xlink:href=\"#DejaVuSans-6c\"/><use x=\"402.396484\" xlink:href=\"#DejaVuSans-69\"/><use x=\"430.179688\" xlink:href=\"#DejaVuSans-74\"/><use x=\"469.388672\" xlink:href=\"#DejaVuSans-69\"/><use x=\"497.171875\" xlink:href=\"#DejaVuSans-65\"/><use x=\"558.695312\" xlink:href=\"#DejaVuSans-73\"/></g><path d=\"m80.676 284.4h13.152v-0.72871h-13.152z\" clip-path=\"url(#p20027c504d)\" fill=\"#648fff\"/><path d=\"m106.98 284.4h13.152v-1.4574h-13.152z\" clip-path=\"url(#p20027c504d)\" fill=\"#648fff\"/><path d=\"m133.28 284.4h13.152v-1.8218h-13.152z\" clip-path=\"url(#p20027c504d)\" fill=\"#648fff\"/><path d=\"m159.58 284.4h13.152v-5.4653h-13.152z\" clip-path=\"url(#p20027c504d)\" fill=\"#648fff\"/><path d=\"m185.89 284.4h13.152v-1.0931h-13.152z\" clip-path=\"url(#p20027c504d)\" fill=\"#648fff\"/><path d=\"m212.19 284.4h13.152v-3.6435h-13.152z\" clip-path=\"url(#p20027c504d)\" fill=\"#648fff\"/><path d=\"m238.49 284.4h13.152v-16.032h-13.152z\" clip-path=\"url(#p20027c504d)\" fill=\"#648fff\"/><path d=\"m264.8 284.4h13.152v-0.72871h-13.152z\" clip-path=\"url(#p20027c504d)\" fill=\"#648fff\"/><path d=\"m291.1 284.4h13.152v-6.9227h-13.152z\" clip-path=\"url(#p20027c504d)\" fill=\"#648fff\"/><path d=\"m317.4 284.4h13.152v-10.566h-13.152z\" clip-path=\"url(#p20027c504d)\" fill=\"#648fff\"/><path d=\"m343.71 284.4h13.152v-3.2792h-13.152z\" clip-path=\"url(#p20027c504d)\" fill=\"#648fff\"/><path d=\"m370.01 284.4h13.152v-9.1088h-13.152z\" clip-path=\"url(#p20027c504d)\" fill=\"#648fff\"/><path d=\"m396.31 284.4h13.152v-81.251h-13.152z\" clip-path=\"url(#p20027c504d)\" fill=\"#648fff\"/><path d=\"m422.62 284.4h13.152v-231h-13.152z\" clip-path=\"url(#p20027c504d)\" fill=\"#648fff\"/><path d=\"m62.921 284.4v-277.2\" fill=\"none\" stroke=\"#343a3f\" stroke-linecap=\"square\" stroke-width=\".8\"/><path d=\"m62.921 284.4h390.6\" fill=\"none\" stroke=\"#343a3f\" stroke-linecap=\"square\" stroke-width=\".8\"/><g transform=\"translate(72.937 281.56) scale(.1 -.1)\" fill=\"#343a3f\"><defs><path id=\"DejaVuSans-32\" transform=\"scale(.015625)\" d=\"m1228 531h2203v-531h-2962v531q359 372 979 998 621 627 780 809 303 340 423 576 121 236 121 464 0 372-261 606-261 235-680 235-297 0-627-103-329-103-704-313v638q381 153 712 231 332 78 607 78 725 0 1156-363 431-362 431-968 0-288-108-546-107-257-392-607-78-91-497-524-418-433-1181-1211z\"/></defs><use xlink:href=\"#DejaVuSans-30\"/><use x=\"63.623047\" xlink:href=\"#DejaVuSans-2e\"/><use x=\"95.410156\" xlink:href=\"#DejaVuSans-30\"/><use x=\"159.033203\" xlink:href=\"#DejaVuSans-30\"/><use x=\"222.65625\" xlink:href=\"#DejaVuSans-32\"/></g><g transform=\"translate(99.241 280.79) scale(.1 -.1)\" fill=\"#343a3f\"><use xlink:href=\"#DejaVuSans-30\"/><use x=\"63.623047\" xlink:href=\"#DejaVuSans-2e\"/><use x=\"95.410156\" xlink:href=\"#DejaVuSans-30\"/><use x=\"159.033203\" xlink:href=\"#DejaVuSans-30\"/><use x=\"222.65625\" xlink:href=\"#DejaVuSans-34\"/></g><g transform=\"translate(125.54 280.41) scale(.1 -.1)\" fill=\"#343a3f\"><use xlink:href=\"#DejaVuSans-30\"/><use x=\"63.623047\" xlink:href=\"#DejaVuSans-2e\"/><use x=\"95.410156\" xlink:href=\"#DejaVuSans-30\"/><use x=\"159.033203\" xlink:href=\"#DejaVuSans-30\"/><use x=\"222.65625\" xlink:href=\"#DejaVuSans-35\"/></g><g transform=\"translate(151.85 276.58) scale(.1 -.1)\" fill=\"#343a3f\"><use xlink:href=\"#DejaVuSans-30\"/><use x=\"63.623047\" xlink:href=\"#DejaVuSans-2e\"/><use x=\"95.410156\" xlink:href=\"#DejaVuSans-30\"/><use x=\"159.033203\" xlink:href=\"#DejaVuSans-31\"/><use x=\"222.65625\" xlink:href=\"#DejaVuSans-35\"/></g><g transform=\"translate(178.15 281.17) scale(.1 -.1)\" fill=\"#343a3f\"><use xlink:href=\"#DejaVuSans-30\"/><use x=\"63.623047\" xlink:href=\"#DejaVuSans-2e\"/><use x=\"95.410156\" xlink:href=\"#DejaVuSans-30\"/><use x=\"159.033203\" xlink:href=\"#DejaVuSans-30\"/><use x=\"222.65625\" xlink:href=\"#DejaVuSans-33\"/></g><g transform=\"translate(204.45 278.49) scale(.1 -.1)\" fill=\"#343a3f\"><use xlink:href=\"#DejaVuSans-30\"/><use x=\"63.623047\" xlink:href=\"#DejaVuSans-2e\"/><use x=\"95.410156\" xlink:href=\"#DejaVuSans-30\"/><use x=\"159.033203\" xlink:href=\"#DejaVuSans-31\"/><use x=\"222.65625\" xlink:href=\"#DejaVuSans-30\"/></g><g transform=\"translate(230.76 265.49) scale(.1 -.1)\" fill=\"#343a3f\"><use xlink:href=\"#DejaVuSans-30\"/><use x=\"63.623047\" xlink:href=\"#DejaVuSans-2e\"/><use x=\"95.410156\" xlink:href=\"#DejaVuSans-30\"/><use x=\"159.033203\" xlink:href=\"#DejaVuSans-34\"/><use x=\"222.65625\" xlink:href=\"#DejaVuSans-33\"/></g><g transform=\"translate(257.06 281.56) scale(.1 -.1)\" fill=\"#343a3f\"><use xlink:href=\"#DejaVuSans-30\"/><use x=\"63.623047\" xlink:href=\"#DejaVuSans-2e\"/><use x=\"95.410156\" xlink:href=\"#DejaVuSans-30\"/><use x=\"159.033203\" xlink:href=\"#DejaVuSans-30\"/><use x=\"222.65625\" xlink:href=\"#DejaVuSans-32\"/></g><g transform=\"translate(283.36 275.05) scale(.1 -.1)\" fill=\"#343a3f\"><defs><path id=\"DejaVuSans-39\" transform=\"scale(.015625)\" d=\"m703 97v575q238-113 481-172 244-59 479-59 625 0 954 420 330 420 377 1277-181-269-460-413-278-144-615-144-700 0-1108 423-408 424-408 1159 0 718 425 1152 425 435 1131 435 810 0 1236-621 427-620 427-1801 0-1103-524-1761-523-658-1407-658-238 0-482 47-243 47-506 141zm1256 1978q425 0 673 290 249 291 249 798 0 503-249 795-248 292-673 292t-673-292-248-795q0-507 248-798 248-290 673-290z\"/></defs><use xlink:href=\"#DejaVuSans-30\"/><use x=\"63.623047\" xlink:href=\"#DejaVuSans-2e\"/><use x=\"95.410156\" xlink:href=\"#DejaVuSans-30\"/><use x=\"159.033203\" xlink:href=\"#DejaVuSans-31\"/><use x=\"222.65625\" xlink:href=\"#DejaVuSans-39\"/></g><g transform=\"translate(309.66 271.23) scale(.1 -.1)\" fill=\"#343a3f\"><defs><path id=\"DejaVuSans-38\" transform=\"scale(.015625)\" d=\"m2034 2216q-450 0-708-241-257-241-257-662 0-422 257-663 258-241 708-241t709 242q260 243 260 662 0 421-258 662-257 241-711 241zm-631 268q-406 100-633 378-226 279-226 679 0 559 398 884 399 325 1092 325 697 0 1094-325t397-884q0-400-227-679-226-278-629-378 456-106 710-416 255-309 255-755 0-679-414-1042-414-362-1186-362-771 0-1186 362-414 363-414 1042 0 446 256 755 257 310 713 416zm-231 997q0-362 226-565 227-203 636-203 407 0 636 203 230 203 230 565 0 363-230 566-229 203-636 203-409 0-636-203-226-203-226-566z\"/></defs><use xlink:href=\"#DejaVuSans-30\"/><use x=\"63.623047\" xlink:href=\"#DejaVuSans-2e\"/><use x=\"95.410156\" xlink:href=\"#DejaVuSans-30\"/><use x=\"159.033203\" xlink:href=\"#DejaVuSans-32\"/><use x=\"222.65625\" xlink:href=\"#DejaVuSans-38\"/></g><g transform=\"translate(335.97 278.88) scale(.1 -.1)\" fill=\"#343a3f\"><use xlink:href=\"#DejaVuSans-30\"/><use x=\"63.623047\" xlink:href=\"#DejaVuSans-2e\"/><use x=\"95.410156\" xlink:href=\"#DejaVuSans-30\"/><use x=\"159.033203\" xlink:href=\"#DejaVuSans-30\"/><use x=\"222.65625\" xlink:href=\"#DejaVuSans-39\"/></g><g transform=\"translate(362.27 272.76) scale(.1 -.1)\" fill=\"#343a3f\"><use xlink:href=\"#DejaVuSans-30\"/><use x=\"63.623047\" xlink:href=\"#DejaVuSans-2e\"/><use x=\"95.410156\" xlink:href=\"#DejaVuSans-30\"/><use x=\"159.033203\" xlink:href=\"#DejaVuSans-32\"/><use x=\"222.65625\" xlink:href=\"#DejaVuSans-34\"/></g><g transform=\"translate(388.57 197.01) scale(.1 -.1)\" fill=\"#343a3f\"><use xlink:href=\"#DejaVuSans-30\"/><use x=\"63.623047\" xlink:href=\"#DejaVuSans-2e\"/><use x=\"95.410156\" xlink:href=\"#DejaVuSans-32\"/><use x=\"159.033203\" xlink:href=\"#DejaVuSans-31\"/><use x=\"222.65625\" xlink:href=\"#DejaVuSans-38\"/></g><g transform=\"translate(414.88 39.77) scale(.1 -.1)\" fill=\"#343a3f\"><use xlink:href=\"#DejaVuSans-30\"/><use x=\"63.623047\" xlink:href=\"#DejaVuSans-2e\"/><use x=\"95.410156\" xlink:href=\"#DejaVuSans-36\"/><use x=\"159.033203\" xlink:href=\"#DejaVuSans-31\"/><use x=\"222.65625\" xlink:href=\"#DejaVuSans-39\"/></g><defs><clipPath id=\"p20027c504d\"><rect x=\"62.921\" y=\"7.2\" width=\"390.6\" height=\"277.2\"/></clipPath></defs></svg>"
      ],
      "text/plain": [
       "<Figure size 700x500 with 1 Axes>"
      ]
     },
     "execution_count": 21,
     "metadata": {},
     "output_type": "execute_result"
    }
   ],
   "source": [
    "# Get the results of the computation\n",
    "results = job.result()\n",
    "answer = results.get_counts()\n",
    "\n",
    "plot_histogram(answer)"
   ]
  },
  {
   "cell_type": "markdown",
   "metadata": {},
   "source": [
    "As we can see, the most likely result is `1111`. The other results are due to errors in the quantum computation. "
   ]
  },
  {
   "cell_type": "code",
   "execution_count": 22,
   "metadata": {
    "tags": [
     "sanity-check"
    ]
   },
   "outputs": [],
   "source": [
    "# ...the most likely result is 1111.\n",
    "assert max(answer, key=answer.get) == '1111'"
   ]
  },
  {
   "cell_type": "markdown",
   "metadata": {},
   "source": [
    "## 6. Problems <a id='problems'></a>\n",
    "\n",
    "1. Are you able to create a balanced or constant oracle of a different form?\n",
    "\n",
    "2. The function `dj_problem_oracle` (below) returns a Deutsch-Jozsa oracle for `n = 4` in the form of a gate. The gate takes 5 qubits as input where the final qubit (`q_4`) is the output qubit (as with the example oracles above). You can get different oracles by giving `dj_problem_oracle` different integers between 1 and 5. Use the Deutsch-Jozsa algorithm to decide whether each oracle is balanced or constant (**Note:** It is highly recommended you try this example using the `aer_simulator` instead of a real device)."
   ]
  },
  {
   "cell_type": "code",
   "execution_count": 23,
   "metadata": {},
   "outputs": [],
   "source": [
    "from qiskit_textbook.problems import dj_problem_oracle\n",
    "oracle = dj_problem_oracle(1)"
   ]
  },
  {
   "cell_type": "markdown",
   "metadata": {},
   "source": [
    "## 7. References <a id='references'></a>\n",
    "\n",
    "1. David Deutsch and Richard Jozsa (1992). \"Rapid solutions of problems by quantum computation\". Proceedings of the Royal Society of London A. 439: 553–558.  [doi:10.1098/rspa.1992.0167](https://doi.org/10.1098%2Frspa.1992.0167).\n",
    "2. R. Cleve; A. Ekert; C. Macchiavello; M. Mosca (1998). \"Quantum algorithms revisited\". Proceedings of the Royal Society of London A. 454: 339–354. [doi:10.1098/rspa.1998.0164](https://doi.org/10.1098%2Frspa.1998.0164)."
   ]
  },
  {
   "cell_type": "code",
   "execution_count": 24,
   "metadata": {},
   "outputs": [
    {
     "data": {
      "text/html": [
       "<h3>Version Information</h3><table><tr><th>Qiskit Software</th><th>Version</th></tr><tr><td><code>qiskit-terra</code></td><td>0.21.2</td></tr><tr><td><code>qiskit-aer</code></td><td>0.10.4</td></tr><tr><td><code>qiskit-ibmq-provider</code></td><td>0.19.2</td></tr><tr><td><code>qiskit</code></td><td>0.37.2</td></tr><tr><td><code>qiskit-nature</code></td><td>0.4.1</td></tr><tr><td><code>qiskit-finance</code></td><td>0.3.2</td></tr><tr><td><code>qiskit-optimization</code></td><td>0.4.0</td></tr><tr><td><code>qiskit-machine-learning</code></td><td>0.4.0</td></tr><tr><th>System information</th></tr><tr><td>Python version</td><td>3.8.13</td></tr><tr><td>Python compiler</td><td>Clang 13.1.6 (clang-1316.0.21.2.5)</td></tr><tr><td>Python build</td><td>default, Aug 29 2022 05:17:23</td></tr><tr><td>OS</td><td>Darwin</td></tr><tr><td>CPUs</td><td>8</td></tr><tr><td>Memory (Gb)</td><td>32.0</td></tr><tr><td colspan='2'>Thu Oct 06 15:15:09 2022 BST</td></tr></table>"
      ],
      "text/plain": [
       "<IPython.core.display.HTML object>"
      ]
     },
     "metadata": {},
     "output_type": "display_data"
    }
   ],
   "source": [
    "import qiskit.tools.jupyter\n",
    "%qiskit_version_table"
   ]
  }
 ],
 "metadata": {
  "kernelspec": {
   "display_name": "Python 3 (ipykernel)",
   "language": "python",
   "name": "python3"
  },
  "language_info": {
   "codemirror_mode": {
    "name": "ipython",
    "version": 3
   },
   "file_extension": ".py",
   "mimetype": "text/x-python",
   "name": "python",
   "nbconvert_exporter": "python",
   "pygments_lexer": "ipython3",
   "version": "3.11.8"
  }
 },
 "nbformat": 4,
 "nbformat_minor": 4
}
